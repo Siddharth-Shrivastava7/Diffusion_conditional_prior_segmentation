{
 "cells": [
  {
   "cell_type": "code",
   "execution_count": null,
   "id": "b4f56242-6450-4110-aecd-42801db60b57",
   "metadata": {},
   "outputs": [],
   "source": []
  },
  {
   "cell_type": "code",
   "execution_count": 1,
   "id": "2243322d-fb30-4826-a1de-0b878473538e",
   "metadata": {
    "tags": []
   },
   "outputs": [],
   "source": [
    "import sys\n",
    "sys.argv = ['']   "
   ]
  },
  {
   "cell_type": "code",
   "execution_count": 3,
   "id": "ce3b6e3e-a1a6-4c87-af0e-b1698e26fe28",
   "metadata": {
    "tags": []
   },
   "outputs": [],
   "source": [
    "import torch  \n",
    "import numpy as np\n",
    "from PIL import Image  \n",
    "import matplotlib.pyplot as plt\n",
    "import torch.nn.functional as F\n",
    "from tqdm import tqdm\n",
    "from MIC_mod.seg.tools import test \n",
    "from skimage.transform import resize\n",
    "from scipy.special import softmax "
   ]
  },
  {
   "cell_type": "code",
   "execution_count": null,
   "id": "2b709530-b76c-4f90-a8d7-2d90622a809f",
   "metadata": {
    "tags": []
   },
   "outputs": [],
   "source": []
  },
  {
   "cell_type": "code",
   "execution_count": 4,
   "id": "43c8b6b5-0ecb-4a03-93c5-ca036eeb94f9",
   "metadata": {
    "tags": []
   },
   "outputs": [],
   "source": [
    "args = test.get_arguments() "
   ]
  },
  {
   "cell_type": "code",
   "execution_count": 5,
   "id": "b9e4f422-d8aa-4aad-8203-25d9a90e8554",
   "metadata": {
    "tags": []
   },
   "outputs": [
    {
     "data": {
      "text/plain": [
       "Namespace(aug_test=False, checkpoint='/home/sidd_s/scratch/mic_checkpoints/csHR2dzurHR_mic_hrda_aef07/iter_40000_relevant.pth', config='/home/sidd_s/scratch/mic_checkpoints/csHR2dzurHR_mic_hrda_aef07/csHR2dzurHR_mic_hrda_aef07.py', eval='eval', eval_options=None, format_only=False, gpu_collect=False, hrda_out='', inference_mode='same', launcher='none', local_rank=0, opacity=0.5, options=None, out=None, show=False, show_dir=None, test_set=False, tmpdir=None)"
      ]
     },
     "execution_count": 5,
     "metadata": {},
     "output_type": "execute_result"
    }
   ],
   "source": [
    "args"
   ]
  },
  {
   "cell_type": "code",
   "execution_count": 6,
   "id": "cc8492e8-b191-4517-b3df-9d507f0200a2",
   "metadata": {
    "tags": []
   },
   "outputs": [
    {
     "name": "stderr",
     "output_type": "stream",
     "text": [
      "2023-05-16 15:27:04,033 - mmseg - INFO - Loaded 50 images from /home/sidd_s/scratch/dataset/dark_zurich/rgb_anon/val\n",
      "/home/sidd_s/Diffusion_conditional_prior_segmentation/diffusion_plug_prior_mod/mmseg/models/backbones/mix_transformer.py:216: UserWarning: DeprecationWarning: pretrained is a deprecated, please use \"init_cfg\" instead\n",
      "  warnings.warn('DeprecationWarning: pretrained is a deprecated, '\n"
     ]
    },
    {
     "name": "stdout",
     "output_type": "stream",
     "text": [
      "Use load_from_local loader\n"
     ]
    }
   ],
   "source": [
    "mic_model, dataloader = test.main() "
   ]
  },
  {
   "cell_type": "code",
   "execution_count": 10,
   "id": "51721435-6a97-4e14-bb09-e860c8de16bb",
   "metadata": {
    "tags": []
   },
   "outputs": [],
   "source": [
    "# mic_model\n",
    "# len(dataloader) # 50\n",
    "# dataloader"
   ]
  },
  {
   "cell_type": "code",
   "execution_count": 11,
   "id": "7af423ab-cab3-4e9a-8ea5-c98fe562049f",
   "metadata": {
    "tags": []
   },
   "outputs": [],
   "source": [
    "d = next(iter(dataloader))['img_metas'][0]"
   ]
  },
  {
   "cell_type": "code",
   "execution_count": 12,
   "id": "daad73a7-231d-431f-9905-9a46d317cf28",
   "metadata": {
    "tags": []
   },
   "outputs": [
    {
     "data": {
      "text/plain": [
       "DataContainer([[{'filename': '/home/sidd_s/scratch/dataset/dark_zurich/rgb_anon/val/night/GOPR0356/GOPR0356_frame_000452_rgb_anon.png', 'ori_filename': 'night/GOPR0356/GOPR0356_frame_000452_rgb_anon.png', 'ori_shape': (1080, 1920, 3), 'img_shape': (256, 512, 3), 'pad_shape': (256, 512, 3), 'scale_factor': array([0.26666668, 0.23703703, 0.26666668, 0.23703703], dtype=float32), 'flip': False, 'flip_direction': 'horizontal', 'img_norm_cfg': {'mean': array([123.675, 116.28 , 103.53 ], dtype=float32), 'std': array([58.395, 57.12 , 57.375], dtype=float32), 'to_rgb': True}}]])"
      ]
     },
     "execution_count": 12,
     "metadata": {},
     "output_type": "execute_result"
    }
   ],
   "source": [
    "d"
   ]
  },
  {
   "cell_type": "code",
   "execution_count": 13,
   "id": "c17e8617-4fd9-40c4-99f2-fee35cc836fe",
   "metadata": {
    "tags": []
   },
   "outputs": [
    {
     "data": {
      "text/plain": [
       "'/home/sidd_s/scratch/dataset/dark_zurich/rgb_anon/val/night/GOPR0356/GOPR0356_frame_000452_rgb_anon.png'"
      ]
     },
     "execution_count": 13,
     "metadata": {},
     "output_type": "execute_result"
    }
   ],
   "source": [
    "dc = next(iter(dataloader))['img_metas'][0].data[0][0]['filename']\n",
    "dc"
   ]
  },
  {
   "cell_type": "code",
   "execution_count": 14,
   "id": "56a788dc-7f18-42a2-bbb6-f0ca93942180",
   "metadata": {
    "tags": []
   },
   "outputs": [
    {
     "name": "stderr",
     "output_type": "stream",
     "text": [
      "33it [00:01, 25.84it/s]/home/sidd_s/miniconda3/envs/py38/lib/python3.8/site-packages/torch/nn/functional.py:3103: UserWarning: The default behavior for interpolate/upsample with float scale_factor changed in 1.6.0 to align with other frameworks/libraries, and now uses scale_factor directly, instead of relying on the computed output size. If you wish to restore the old behavior, please set recompute_scale_factor=True. See the documentation of nn.Upsample for details. \n",
      "  warnings.warn(\"The default behavior for interpolate/upsample with float scale_factor changed \"\n",
      "35it [00:02, 16.09it/s]"
     ]
    },
    {
     "name": "stdout",
     "output_type": "stream",
     "text": [
      "{'img_metas': [DataContainer([[{'filename': '/home/sidd_s/scratch/dataset/dark_zurich/rgb_anon/val/night/GOPR0356/GOPR0356_frame_000363_rgb_anon.png', 'ori_filename': 'night/GOPR0356/GOPR0356_frame_000363_rgb_anon.png', 'ori_shape': (1080, 1920, 3), 'img_shape': (256, 512, 3), 'pad_shape': (256, 512, 3), 'scale_factor': array([0.26666668, 0.23703703, 0.26666668, 0.23703703], dtype=float32), 'flip': False, 'flip_direction': 'horizontal', 'img_norm_cfg': {'mean': array([123.675, 116.28 , 103.53 ], dtype=float32), 'std': array([58.395, 57.12 , 57.375], dtype=float32), 'to_rgb': True}}]])], 'img': [tensor([[[[-1.8097, -1.8610, -1.7925,  ..., -1.6384, -1.7240, -1.6555],\n",
      "          [-1.8097, -1.8097, -1.8097,  ..., -1.6555, -1.7069, -1.6555],\n",
      "          [-1.6042, -1.7240, -1.7925,  ..., -1.6555, -1.6727, -1.6727],\n",
      "          ...,\n",
      "          [-0.7822, -0.8164, -0.7650,  ..., -1.0904, -1.1589, -1.0733],\n",
      "          [-0.8164, -0.7650, -0.8335,  ..., -0.9020, -1.0562, -1.1418],\n",
      "          [-0.8164, -0.8164, -0.7993,  ..., -0.7822, -0.8335, -0.9192]],\n",
      "\n",
      "         [[-1.8606, -1.9132, -1.8431,  ..., -1.7206, -1.8081, -1.7381],\n",
      "          [-1.8606, -1.8606, -1.8606,  ..., -1.7381, -1.7906, -1.7381],\n",
      "          [-1.7206, -1.8431, -1.8782,  ..., -1.7381, -1.7556, -1.7556],\n",
      "          ...,\n",
      "          [-1.1954, -1.2304, -1.1779,  ..., -1.3529, -1.4230, -1.3354],\n",
      "          [-1.2304, -1.1779, -1.2304,  ..., -1.2479, -1.3880, -1.4580],\n",
      "          [-1.2304, -1.2304, -1.2129,  ..., -1.1954, -1.2129, -1.3004]],\n",
      "\n",
      "         [[-1.6302, -1.6824, -1.5779,  ..., -1.5081, -1.5953, -1.5256],\n",
      "          [-1.6302, -1.6302, -1.5953,  ..., -1.5256, -1.5779, -1.5256],\n",
      "          [-1.5081, -1.6302, -1.6302,  ..., -1.5256, -1.5430, -1.5430],\n",
      "          ...,\n",
      "          [-1.4733, -1.5081, -1.4559,  ..., -1.5779, -1.6476, -1.5604],\n",
      "          [-1.5081, -1.4559, -1.5081,  ..., -1.5256, -1.6476, -1.7173],\n",
      "          [-1.5081, -1.5081, -1.4907,  ..., -1.5081, -1.5081, -1.5953]]]])]}\n"
     ]
    },
    {
     "name": "stderr",
     "output_type": "stream",
     "text": [
      "\n"
     ]
    }
   ],
   "source": [
    "for i, data in tqdm(enumerate(dataloader)):  \n",
    "    # print(data['img_metas'][0].data[0][0]['filename'])\n",
    "    if (data['img_metas'][0].data[0][0]['filename'] == '/home/sidd_s/scratch/dataset/dark_zurich/rgb_anon/val/night/GOPR0356/GOPR0356_frame_000363_rgb_anon.png'):\n",
    "        with torch.no_grad():\n",
    "            seg_logits = mic_model(return_loss=False, logits_output=True, **data)   \n",
    "            seg_pred = mic_model(return_loss=False,  logits_output=False, **data) \n",
    "        break\n",
    "    else: \n",
    "        continue   \n",
    "print(data)  "
   ]
  },
  {
   "cell_type": "code",
   "execution_count": 15,
   "id": "f9505d1d-0d1f-4524-85ed-45223aa82862",
   "metadata": {
    "tags": []
   },
   "outputs": [
    {
     "data": {
      "text/plain": [
       "torch.Size([1, 3, 256, 512])"
      ]
     },
     "execution_count": 15,
     "metadata": {},
     "output_type": "execute_result"
    }
   ],
   "source": [
    "data['img'][0].shape"
   ]
  },
  {
   "cell_type": "code",
   "execution_count": null,
   "id": "89dce2e7-14e8-45be-a869-3291d4d8ac4e",
   "metadata": {},
   "outputs": [],
   "source": []
  },
  {
   "cell_type": "code",
   "execution_count": 22,
   "id": "30f0689a-6b4d-4f61-9b33-5b93183a19fa",
   "metadata": {
    "tags": []
   },
   "outputs": [
    {
     "data": {
      "text/plain": [
       "(19, 256, 512)"
      ]
     },
     "execution_count": 22,
     "metadata": {},
     "output_type": "execute_result"
    }
   ],
   "source": [
    "seg_logits[0].shape"
   ]
  },
  {
   "cell_type": "code",
   "execution_count": 23,
   "id": "16a910e5-0c82-4590-afe5-2e2981a583ab",
   "metadata": {
    "tags": []
   },
   "outputs": [
    {
     "data": {
      "text/plain": [
       "array([-37.669846, -37.665043, -37.619064, ...,   9.531349,   9.539942,\n",
       "         9.559041], dtype=float32)"
      ]
     },
     "execution_count": 23,
     "metadata": {},
     "output_type": "execute_result"
    }
   ],
   "source": [
    "np.unique(seg_logits[0])"
   ]
  },
  {
   "cell_type": "code",
   "execution_count": null,
   "id": "c5f686fc-d383-4ca5-9fc8-5e3d2677d183",
   "metadata": {},
   "outputs": [],
   "source": []
  },
  {
   "cell_type": "code",
   "execution_count": null,
   "id": "5ab34b44-f75c-4f80-a50c-946a2c58cdbc",
   "metadata": {},
   "outputs": [],
   "source": []
  },
  {
   "cell_type": "code",
   "execution_count": 24,
   "id": "2e87865b-f54b-45ca-bd81-c9f698e34882",
   "metadata": {
    "tags": []
   },
   "outputs": [
    {
     "data": {
      "text/plain": [
       "(256, 512)"
      ]
     },
     "execution_count": 24,
     "metadata": {},
     "output_type": "execute_result"
    }
   ],
   "source": [
    "seg_pred[0].shape"
   ]
  },
  {
   "cell_type": "code",
   "execution_count": null,
   "id": "fc0936da-a4de-470a-8f7f-e1c2676fa434",
   "metadata": {},
   "outputs": [],
   "source": []
  },
  {
   "cell_type": "code",
   "execution_count": null,
   "id": "4f84259c-5575-48f8-a73a-6c86fee25fc2",
   "metadata": {},
   "outputs": [],
   "source": []
  },
  {
   "cell_type": "code",
   "execution_count": 25,
   "id": "452365f6-ff5e-4a1b-ab42-0365704ca57e",
   "metadata": {
    "tags": []
   },
   "outputs": [],
   "source": [
    "ll = np.argmax(seg_logits[0], axis=0)"
   ]
  },
  {
   "cell_type": "code",
   "execution_count": 26,
   "id": "c6d4492f-cc68-443f-84ef-7ce98e461214",
   "metadata": {
    "tags": []
   },
   "outputs": [
    {
     "data": {
      "text/plain": [
       "(256, 512)"
      ]
     },
     "execution_count": 26,
     "metadata": {},
     "output_type": "execute_result"
    }
   ],
   "source": [
    "ll.shape"
   ]
  },
  {
   "cell_type": "code",
   "execution_count": 27,
   "id": "98be232b-3164-42f8-a3c2-79da6c82aba5",
   "metadata": {
    "tags": []
   },
   "outputs": [
    {
     "data": {
      "text/plain": [
       "array([ 0,  1,  2,  3,  4,  5,  6,  7,  8,  9, 10, 13, 16])"
      ]
     },
     "execution_count": 27,
     "metadata": {},
     "output_type": "execute_result"
    }
   ],
   "source": [
    "np.unique(ll)"
   ]
  },
  {
   "cell_type": "code",
   "execution_count": 28,
   "id": "39fce06d-d4a5-46f5-9c15-f423981479f0",
   "metadata": {
    "tags": []
   },
   "outputs": [],
   "source": [
    "(uni, counts) = np.unique(seg_pred[0], return_counts=True) # slight differnce between seg_preds, seg_logits/seg_proba.argmax()"
   ]
  },
  {
   "cell_type": "code",
   "execution_count": 29,
   "id": "b95acaf0-6924-4dc8-9286-f9d4ded1dd04",
   "metadata": {
    "tags": []
   },
   "outputs": [
    {
     "data": {
      "text/plain": [
       "array([ 0,  1,  2,  3,  4,  5,  6,  7,  8,  9, 10, 13])"
      ]
     },
     "execution_count": 29,
     "metadata": {},
     "output_type": "execute_result"
    }
   ],
   "source": [
    "uni"
   ]
  },
  {
   "cell_type": "code",
   "execution_count": null,
   "id": "3eac1cc2-801d-45bd-b8df-049727752a4a",
   "metadata": {},
   "outputs": [],
   "source": []
  },
  {
   "cell_type": "code",
   "execution_count": 30,
   "id": "085cbd63-ff8a-45cf-8e0c-a5c4a87910be",
   "metadata": {
    "tags": []
   },
   "outputs": [
    {
     "data": {
      "text/plain": [
       "array([ 0,  1,  2,  3,  4,  5,  6,  7,  8,  9, 10, 13])"
      ]
     },
     "execution_count": 30,
     "metadata": {},
     "output_type": "execute_result"
    }
   ],
   "source": [
    "np.unique(seg_pred[0])"
   ]
  },
  {
   "cell_type": "code",
   "execution_count": 31,
   "id": "a6de953c-863f-485f-8e2b-cda11a611547",
   "metadata": {
    "tags": []
   },
   "outputs": [
    {
     "data": {
      "text/plain": [
       "(256, 512)"
      ]
     },
     "execution_count": 31,
     "metadata": {},
     "output_type": "execute_result"
    }
   ],
   "source": [
    "seg_pred[0].shape"
   ]
  },
  {
   "cell_type": "code",
   "execution_count": 32,
   "id": "daf4082d-9dcd-4ff3-9814-e099f0301e08",
   "metadata": {
    "tags": []
   },
   "outputs": [
    {
     "data": {
      "text/plain": [
       "(1, 256, 512)"
      ]
     },
     "execution_count": 32,
     "metadata": {},
     "output_type": "execute_result"
    }
   ],
   "source": [
    "seg_pred[0][None, :, :].shape"
   ]
  },
  {
   "cell_type": "code",
   "execution_count": null,
   "id": "23b6d5b2-3296-4291-b930-ee3f8c35540c",
   "metadata": {},
   "outputs": [],
   "source": []
  },
  {
   "cell_type": "code",
   "execution_count": 103,
   "id": "f91dca0f-f679-4c6c-ae52-dbc807f36e43",
   "metadata": {
    "tags": []
   },
   "outputs": [],
   "source": [
    "seg_label=Image.fromarray(seg_pred[0], 'L') "
   ]
  },
  {
   "cell_type": "code",
   "execution_count": 104,
   "id": "557b7393-2dcd-4797-bb11-1021c2e399bf",
   "metadata": {
    "tags": []
   },
   "outputs": [],
   "source": [
    "seg_label.save('/home/sidd_s/diffusion_priors/segmentation/experiments/miou_calc/mic_pred/MIC_prediction_inds.png')"
   ]
  },
  {
   "cell_type": "code",
   "execution_count": null,
   "id": "f7a7066a-20a0-4edc-92db-908cb9af86a7",
   "metadata": {},
   "outputs": [],
   "source": []
  },
  {
   "cell_type": "code",
   "execution_count": 33,
   "id": "c3672bee-985b-4222-9907-886d94081a1b",
   "metadata": {
    "tags": []
   },
   "outputs": [],
   "source": [
    "def train_label_img_to_color(img): \n",
    "    label_to_color = {\n",
    "        0: [128, 64,128],\n",
    "        1: [244, 35,232],\n",
    "        2: [ 70, 70, 70],\n",
    "        3: [102,102,156],\n",
    "        4: [190,153,153],\n",
    "        5: [153,153,153],\n",
    "        \n",
    "        6: [250,170, 30],\n",
    "        7: [220,220,  0],\n",
    "        8: [107,142, 35],\n",
    "        9: [152,251,152],\n",
    "        10: [ 70,130,180],\n",
    "        11: [220, 20, 60],\n",
    "        12: [255,  0,  0],\n",
    "        13: [  0,  0,142],\n",
    "        14: [  0,  0, 70],\n",
    "        15: [  0, 60,100],\n",
    "        16: [  0, 80,100],\n",
    "        17: [  0,  0,230],\n",
    "        18: [119, 11, 32],\n",
    "        19 : [0,  0, 0] \n",
    "        } \n",
    "    img_height, img_width = img.shape \n",
    "    img_color = np.zeros((img_height, img_width, 3), dtype=np.uint8)\n",
    "    for row in range(img_height):\n",
    "        for col in range(img_width):\n",
    "            label = img[row][col] \n",
    "            img_color[row, col] = np.array(label_to_color[label])  \n",
    "    return img_color"
   ]
  },
  {
   "cell_type": "code",
   "execution_count": null,
   "id": "d08a6514-4745-47fa-ab40-74aced3be977",
   "metadata": {},
   "outputs": [],
   "source": []
  },
  {
   "cell_type": "code",
   "execution_count": null,
   "id": "0d06d941-9807-4be9-ad8d-c91cf5311607",
   "metadata": {},
   "outputs": [],
   "source": []
  },
  {
   "cell_type": "code",
   "execution_count": 24,
   "id": "74cbfd2d-0fec-4122-a28b-63a2873449a9",
   "metadata": {
    "tags": []
   },
   "outputs": [
    {
     "data": {
      "image/png": "[encoded data removed]",
      "text/plain": [
       "<Figure size 2000x600 with 1 Axes>"
      ]
     },
     "metadata": {},
     "output_type": "display_data"
    }
   ],
   "source": [
    "# Visualize\n",
    "fig, ax = plt.subplots(1, 1, figsize=(20, 6))\n",
    "\n",
    "ax.imshow(train_label_img_to_color(seg_pred[0]))\n",
    "ax.set_title('MIC_pred_color')\n",
    "plt.show()"
   ]
  },
  {
   "cell_type": "code",
   "execution_count": null,
   "id": "f7669ddd-db8c-46c9-99db-42d68983fb29",
   "metadata": {},
   "outputs": [],
   "source": []
  },
  {
   "cell_type": "code",
   "execution_count": null,
   "id": "a054d1a7-9673-43c7-8664-d015c9a7c958",
   "metadata": {},
   "outputs": [],
   "source": []
  },
  {
   "cell_type": "code",
   "execution_count": 25,
   "id": "037ed7a9-9f96-4547-a14e-487b252c7b63",
   "metadata": {
    "tags": []
   },
   "outputs": [
    {
     "data": {
      "image/png": "[encoded data removed]",
      "text/plain": [
       "<Figure size 2000x600 with 1 Axes>"
      ]
     },
     "metadata": {},
     "output_type": "display_data"
    }
   ],
   "source": [
    "# Visualize\n",
    "fig, ax = plt.subplots(1, 1, figsize=(20, 6))\n",
    "\n",
    "ax.imshow(train_label_img_to_color(seg_proba_label))\n",
    "ax.set_title('MIC_pred_color')\n",
    "plt.show()"
   ]
  },
  {
   "cell_type": "code",
   "execution_count": null,
   "id": "d6540201-d5d0-485b-a7de-bd9891dff3b7",
   "metadata": {},
   "outputs": [],
   "source": []
  },
  {
   "cell_type": "code",
   "execution_count": null,
   "id": "f78f2309-1f62-4b94-b7a3-29b9f082129d",
   "metadata": {},
   "outputs": [],
   "source": []
  },
  {
   "cell_type": "code",
   "execution_count": 26,
   "id": "0da7c0d0-46fc-4a13-8014-e410fc0ef7f5",
   "metadata": {
    "tags": []
   },
   "outputs": [
    {
     "data": {
      "image/png": "[encoded data removed]",
      "text/plain": [
       "<Figure size 2000x600 with 1 Axes>"
      ]
     },
     "metadata": {},
     "output_type": "display_data"
    }
   ],
   "source": [
    "# Visualize\n",
    "fig, ax = plt.subplots(1, 1, figsize=(20, 6))\n",
    "\n",
    "ax.imshow(train_label_img_to_color(np.argmax(seg_logits[0], axis=0)))\n",
    "ax.set_title('MIC_pred_color')\n",
    "plt.show()"
   ]
  },
  {
   "cell_type": "code",
   "execution_count": null,
   "id": "174befab-cf0a-4c2a-9ad1-d41d45c51eec",
   "metadata": {},
   "outputs": [],
   "source": []
  },
  {
   "cell_type": "code",
   "execution_count": null,
   "id": "a347657c-fb60-451c-a72e-03e36a9354b8",
   "metadata": {},
   "outputs": [],
   "source": []
  },
  {
   "cell_type": "code",
   "execution_count": null,
   "id": "0d32ec69-32bb-47d8-8f67-84fc09005021",
   "metadata": {},
   "outputs": [],
   "source": []
  },
  {
   "cell_type": "code",
   "execution_count": 27,
   "id": "05b56163-c920-4c0a-b0e1-b4241252d187",
   "metadata": {
    "tags": []
   },
   "outputs": [
    {
     "data": {
      "text/plain": [
       "(19, 1080, 1920)"
      ]
     },
     "execution_count": 27,
     "metadata": {},
     "output_type": "execute_result"
    }
   ],
   "source": [
    "seg_logits[0].shape"
   ]
  },
  {
   "cell_type": "code",
   "execution_count": null,
   "id": "bd0521ec-9084-4c35-a3c5-5f733f08cadf",
   "metadata": {},
   "outputs": [],
   "source": []
  },
  {
   "cell_type": "code",
   "execution_count": null,
   "id": "b42c60ff-eb71-4e8e-9496-eb1e5c168acf",
   "metadata": {},
   "outputs": [],
   "source": []
  },
  {
   "cell_type": "code",
   "execution_count": null,
   "id": "c5be6723-0299-4b50-a800-aae57320d3ab",
   "metadata": {},
   "outputs": [],
   "source": []
  },
  {
   "cell_type": "code",
   "execution_count": null,
   "id": "a0b33e62-5b3d-4159-8e26-0a7ef29511ad",
   "metadata": {},
   "outputs": [],
   "source": []
  },
  {
   "cell_type": "code",
   "execution_count": 27,
   "id": "c20a026e-e4ae-438d-a7bb-8bdae367970d",
   "metadata": {
    "tags": []
   },
   "outputs": [
    {
     "data": {
      "text/plain": [
       "torch.Size([19, 256, 512])"
      ]
     },
     "execution_count": 27,
     "metadata": {},
     "output_type": "execute_result"
    }
   ],
   "source": [
    "lweak = torch.tensor(seg_logits[0])\n",
    "lweak.shape"
   ]
  },
  {
   "cell_type": "code",
   "execution_count": 28,
   "id": "75b3ca7a-1d56-4d69-9e24-c0de66319b68",
   "metadata": {
    "tags": []
   },
   "outputs": [],
   "source": [
    "lweak_onehot = F.one_hot(lweak.argmax(dim=0), num_classes=19)\n",
    "lweak_onehot = lweak_onehot.permute(2,0,1).unsqueeze(dim=0)"
   ]
  },
  {
   "cell_type": "code",
   "execution_count": 29,
   "id": "c039fdd0-58d0-4f81-a7bb-81fcc2d0801c",
   "metadata": {
    "tags": []
   },
   "outputs": [
    {
     "data": {
      "text/plain": [
       "torch.Size([1, 19, 256, 512])"
      ]
     },
     "execution_count": 29,
     "metadata": {},
     "output_type": "execute_result"
    }
   ],
   "source": [
    "lweak_onehot.shape"
   ]
  },
  {
   "cell_type": "code",
   "execution_count": 31,
   "id": "1937ee25-e215-4396-b47c-fe3731019f77",
   "metadata": {
    "tags": []
   },
   "outputs": [],
   "source": [
    "## increasing the channel number of lweak_onehot and z_prob to 20 for taking background into consideration \n",
    "background = torch.zeros(1,1,256,512)\n",
    "lweak_onehot = torch.cat((lweak_onehot, background), dim = 1) "
   ]
  },
  {
   "cell_type": "code",
   "execution_count": 32,
   "id": "d87c3035-88e4-4be9-b71c-b7b7b9fa5b65",
   "metadata": {
    "tags": []
   },
   "outputs": [
    {
     "data": {
      "text/plain": [
       "torch.Size([1, 20, 256, 512])"
      ]
     },
     "execution_count": 32,
     "metadata": {},
     "output_type": "execute_result"
    }
   ],
   "source": [
    "lweak_onehot.shape"
   ]
  },
  {
   "cell_type": "code",
   "execution_count": null,
   "id": "864c790a-d7c0-4695-b669-f6db01c6a7e2",
   "metadata": {},
   "outputs": [],
   "source": []
  },
  {
   "cell_type": "code",
   "execution_count": null,
   "id": "ddfceff3-2636-4923-9e97-112ff29c3d3a",
   "metadata": {},
   "outputs": [],
   "source": []
  },
  {
   "cell_type": "code",
   "execution_count": null,
   "id": "38689d47-7327-4937-b396-cd453645fc55",
   "metadata": {},
   "outputs": [],
   "source": []
  },
  {
   "cell_type": "code",
   "execution_count": 33,
   "id": "744f3cf5-7add-497f-8ff5-478ab9fa5133",
   "metadata": {
    "tags": []
   },
   "outputs": [
    {
     "data": {
      "text/plain": [
       "(256, 512)"
      ]
     },
     "execution_count": 33,
     "metadata": {},
     "output_type": "execute_result"
    }
   ],
   "source": [
    "seg_pred[0].shape"
   ]
  },
  {
   "cell_type": "code",
   "execution_count": 20,
   "id": "b2a14b59-ed7e-4b6d-bf2a-466130e3120f",
   "metadata": {
    "tags": []
   },
   "outputs": [],
   "source": [
    "seg_pred_label=Image.fromarray(seg_pred[0], 'L') "
   ]
  },
  {
   "cell_type": "code",
   "execution_count": 21,
   "id": "018b0202-cd95-4c57-9fb9-c4eae6434313",
   "metadata": {
    "tags": []
   },
   "outputs": [],
   "source": [
    "seg_pred_label = seg_pred_label.resize((512, 256), Image.NEAREST)"
   ]
  },
  {
   "cell_type": "code",
   "execution_count": 22,
   "id": "8c3488bf-c14b-4f79-99c3-e09232e281a3",
   "metadata": {
    "tags": []
   },
   "outputs": [],
   "source": [
    "# seg_pred_label.save('/home/sidd_s/diffusion_priors/segmentation/MIC_prediction_inds_pilresize.png')"
   ]
  },
  {
   "cell_type": "code",
   "execution_count": 23,
   "id": "149ba142-41cc-47b2-b6ed-c8b4ba75c13f",
   "metadata": {
    "tags": []
   },
   "outputs": [
    {
     "data": {
      "text/plain": [
       "(256, 512)"
      ]
     },
     "execution_count": 23,
     "metadata": {},
     "output_type": "execute_result"
    }
   ],
   "source": [
    "seg_pred_label = np.array(seg_pred_label)\n",
    "seg_pred_label.shape"
   ]
  },
  {
   "cell_type": "code",
   "execution_count": null,
   "id": "85dd2fd9-114f-4be5-b0f4-a99b5c30cefb",
   "metadata": {},
   "outputs": [],
   "source": []
  },
  {
   "cell_type": "code",
   "execution_count": null,
   "id": "ff045dca-a216-4d1d-9d77-6c65d5e7065d",
   "metadata": {},
   "outputs": [],
   "source": []
  },
  {
   "cell_type": "code",
   "execution_count": null,
   "id": "bee7578a-1fea-4f8c-8f3c-1644b8a40133",
   "metadata": {},
   "outputs": [],
   "source": []
  },
  {
   "cell_type": "code",
   "execution_count": null,
   "id": "a517803b-4b16-4189-a3a3-2552925a21bb",
   "metadata": {},
   "outputs": [],
   "source": []
  },
  {
   "cell_type": "code",
   "execution_count": null,
   "id": "5be56896-7aa1-49d4-b7b8-3be5cd1cf013",
   "metadata": {},
   "outputs": [],
   "source": []
  },
  {
   "cell_type": "code",
   "execution_count": null,
   "id": "7d846eeb-104f-4cee-9aab-84b9c921cebf",
   "metadata": {},
   "outputs": [],
   "source": []
  },
  {
   "cell_type": "code",
   "execution_count": null,
   "id": "6d5f9f1c-2183-41be-b72b-ceb599bf93df",
   "metadata": {},
   "outputs": [],
   "source": []
  },
  {
   "cell_type": "code",
   "execution_count": 84,
   "id": "2453ee06-f081-4994-bb23-a528dc1d2e65",
   "metadata": {
    "tags": []
   },
   "outputs": [],
   "source": [
    "(uni_proba, counts_proba) = np.unique(np.argmax(seg_proba, axis=0), return_counts=True)"
   ]
  },
  {
   "cell_type": "code",
   "execution_count": 85,
   "id": "f330d930-34f7-473e-a898-b3b197676299",
   "metadata": {
    "tags": []
   },
   "outputs": [
    {
     "data": {
      "text/plain": [
       "array([ 0,  1,  2,  3,  4,  5,  6,  7,  8,  9, 10, 13, 16])"
      ]
     },
     "execution_count": 85,
     "metadata": {},
     "output_type": "execute_result"
    }
   ],
   "source": [
    "uni_proba"
   ]
  },
  {
   "cell_type": "code",
   "execution_count": 40,
   "id": "364060b8-db27-4f10-8533-b4929e940fb2",
   "metadata": {
    "tags": []
   },
   "outputs": [
    {
     "data": {
      "text/plain": [
       "array([326299, 161057, 335538,  18619,  42667,  67929,   2763,   1428,\n",
       "       778841,  68721, 266421,   3317])"
      ]
     },
     "execution_count": 40,
     "metadata": {},
     "output_type": "execute_result"
    }
   ],
   "source": [
    "counts_proba"
   ]
  },
  {
   "cell_type": "code",
   "execution_count": null,
   "id": "f2f47c33-4239-4d4c-aed8-59490e1f256b",
   "metadata": {},
   "outputs": [],
   "source": []
  },
  {
   "cell_type": "code",
   "execution_count": null,
   "id": "2465b481-0162-481c-849c-be6854206f92",
   "metadata": {},
   "outputs": [],
   "source": []
  },
  {
   "cell_type": "code",
   "execution_count": 21,
   "id": "79bdc99d-04e3-4b71-bdd3-49325518dd2f",
   "metadata": {
    "tags": []
   },
   "outputs": [],
   "source": [
    "(uni_logi, counts_logi) = np.unique(np.argmax(seg_logits[0], axis=0), return_counts=True)"
   ]
  },
  {
   "cell_type": "code",
   "execution_count": 22,
   "id": "88786eb7-44c1-4fa1-aca1-2c81912d260b",
   "metadata": {
    "tags": []
   },
   "outputs": [
    {
     "data": {
      "text/plain": [
       "array([ 0,  1,  2,  3,  4,  5,  6,  7,  8,  9, 10, 13])"
      ]
     },
     "execution_count": 22,
     "metadata": {},
     "output_type": "execute_result"
    }
   ],
   "source": [
    "uni_logi"
   ]
  },
  {
   "cell_type": "code",
   "execution_count": 23,
   "id": "a4475660-9f24-42fa-bb4d-cb1838182f25",
   "metadata": {
    "tags": []
   },
   "outputs": [
    {
     "data": {
      "text/plain": [
       "array([326299, 161057, 335538,  18619,  42667,  67929,   2763,   1428,\n",
       "       778841,  68721, 266421,   3317])"
      ]
     },
     "execution_count": 23,
     "metadata": {},
     "output_type": "execute_result"
    }
   ],
   "source": [
    "counts_logi # from seg_logits"
   ]
  },
  {
   "cell_type": "code",
   "execution_count": 44,
   "id": "7f65be9a-e140-4192-8576-b38323da7bb0",
   "metadata": {
    "tags": []
   },
   "outputs": [
    {
     "data": {
      "text/plain": [
       "array([335144, 150110, 332368,  17919,  42859,  68942,   2729,   1448,\n",
       "       782833,  71164, 264755,   3329])"
      ]
     },
     "execution_count": 44,
     "metadata": {},
     "output_type": "execute_result"
    }
   ],
   "source": [
    "counts # by pred_label "
   ]
  },
  {
   "cell_type": "code",
   "execution_count": null,
   "id": "c0a04d82-c5ba-40c3-aa22-6027c779c761",
   "metadata": {},
   "outputs": [],
   "source": []
  },
  {
   "cell_type": "code",
   "execution_count": null,
   "id": "1c5b6f58-f1be-4c3d-9c99-bcdb83f2618e",
   "metadata": {},
   "outputs": [],
   "source": []
  },
  {
   "cell_type": "code",
   "execution_count": 69,
   "id": "8d1ea0ac-6e7c-4045-bf95-8530d7e9d687",
   "metadata": {
    "tags": []
   },
   "outputs": [],
   "source": [
    "mic_pred_logits = seg_logits[0]"
   ]
  },
  {
   "cell_type": "code",
   "execution_count": 70,
   "id": "48e19505-eceb-4e3b-8a18-692e7a763eaf",
   "metadata": {
    "tags": []
   },
   "outputs": [
    {
     "data": {
      "text/plain": [
       "(19, 1080, 1920)"
      ]
     },
     "execution_count": 70,
     "metadata": {},
     "output_type": "execute_result"
    }
   ],
   "source": [
    "mic_pred_logits.shape"
   ]
  },
  {
   "cell_type": "code",
   "execution_count": 71,
   "id": "a0c1fc69-0a27-468b-bb70-91c396d0a0fe",
   "metadata": {
    "tags": []
   },
   "outputs": [
    {
     "data": {
      "text/plain": [
       "(1080, 1920, 19)"
      ]
     },
     "execution_count": 71,
     "metadata": {},
     "output_type": "execute_result"
    }
   ],
   "source": [
    "mic_pred_logits = mic_pred_logits.reshape((1080, 1920, 19))\n",
    "mic_pred_logits.shape"
   ]
  },
  {
   "cell_type": "code",
   "execution_count": 72,
   "id": "66f37455-ea5e-4f2a-b001-121717c3eed5",
   "metadata": {
    "tags": []
   },
   "outputs": [],
   "source": [
    "resized_mic_pred_logits = resize(mic_pred_logits, (256, 512))    "
   ]
  },
  {
   "cell_type": "code",
   "execution_count": 73,
   "id": "0fb3c7ea-9c23-4dd9-9450-e84005de806f",
   "metadata": {
    "tags": []
   },
   "outputs": [
    {
     "data": {
      "text/plain": [
       "(256, 512, 19)"
      ]
     },
     "execution_count": 73,
     "metadata": {},
     "output_type": "execute_result"
    }
   ],
   "source": [
    "resized_mic_pred_logits.shape  "
   ]
  },
  {
   "cell_type": "code",
   "execution_count": 76,
   "id": "536a79ed-9226-4f94-b4ba-fe547536586f",
   "metadata": {
    "tags": []
   },
   "outputs": [],
   "source": [
    "resized_mic_pred_logits = resized_mic_pred_logits.reshape((19, 256, 512)) "
   ]
  },
  {
   "cell_type": "code",
   "execution_count": 77,
   "id": "d4cf5509-96a1-4b43-acb2-994d56678cb9",
   "metadata": {
    "tags": []
   },
   "outputs": [
    {
     "data": {
      "text/plain": [
       "(19, 256, 512)"
      ]
     },
     "execution_count": 77,
     "metadata": {},
     "output_type": "execute_result"
    }
   ],
   "source": [
    "resized_mic_pred_logits.shape"
   ]
  },
  {
   "cell_type": "code",
   "execution_count": 78,
   "id": "7f959e17-4fe3-4b08-a0a8-1a7627b21995",
   "metadata": {
    "tags": []
   },
   "outputs": [],
   "source": [
    "resized_mic_pred_label = np.argmax(resized_mic_pred_logits, axis=0)  "
   ]
  },
  {
   "cell_type": "code",
   "execution_count": 79,
   "id": "5aee6e86-adc8-40a4-a540-67a63845bd3e",
   "metadata": {
    "tags": []
   },
   "outputs": [
    {
     "data": {
      "text/plain": [
       "(256, 512)"
      ]
     },
     "execution_count": 79,
     "metadata": {},
     "output_type": "execute_result"
    }
   ],
   "source": [
    "resized_mic_pred_label.shape"
   ]
  },
  {
   "cell_type": "code",
   "execution_count": 60,
   "id": "30394e6c-1d88-475a-8338-851f27c13e50",
   "metadata": {
    "tags": []
   },
   "outputs": [],
   "source": [
    "uns, cns = np.unique(mic_pred_label, return_counts=True)"
   ]
  },
  {
   "cell_type": "code",
   "execution_count": 61,
   "id": "93e6ada2-a33c-4c0c-9893-61e4ae25b2a8",
   "metadata": {
    "tags": []
   },
   "outputs": [
    {
     "data": {
      "text/plain": [
       "array([21373, 11265, 24926,   567,  2070,  3019, 47134,  4101, 16617])"
      ]
     },
     "execution_count": 61,
     "metadata": {},
     "output_type": "execute_result"
    }
   ],
   "source": [
    "cns"
   ]
  },
  {
   "cell_type": "code",
   "execution_count": 65,
   "id": "188c3418-3098-447e-8e11-15df5a2df634",
   "metadata": {
    "tags": []
   },
   "outputs": [
    {
     "data": {
      "text/plain": [
       "array([[2, 2, 2, ..., 2, 2, 2],\n",
       "       [2, 2, 2, ..., 2, 2, 2],\n",
       "       [2, 2, 2, ..., 2, 2, 2],\n",
       "       ...,\n",
       "       [1, 1, 1, ..., 1, 1, 1],\n",
       "       [1, 1, 1, ..., 1, 1, 1],\n",
       "       [1, 1, 1, ..., 1, 1, 1]])"
      ]
     },
     "execution_count": 65,
     "metadata": {},
     "output_type": "execute_result"
    }
   ],
   "source": [
    "resized_mic_pred_label"
   ]
  },
  {
   "cell_type": "code",
   "execution_count": 66,
   "id": "5a75432d-2741-4f67-86e8-65e7431c5454",
   "metadata": {
    "tags": []
   },
   "outputs": [
    {
     "data": {
      "text/plain": [
       "(256, 512)"
      ]
     },
     "execution_count": 66,
     "metadata": {},
     "output_type": "execute_result"
    }
   ],
   "source": [
    "resized_mic_pred_label.shape"
   ]
  },
  {
   "cell_type": "code",
   "execution_count": null,
   "id": "ddf932a7-6bf5-44c2-9008-733a7972cb25",
   "metadata": {},
   "outputs": [],
   "source": []
  },
  {
   "cell_type": "code",
   "execution_count": null,
   "id": "bd02365f-c766-4cad-935d-95e0834cb854",
   "metadata": {},
   "outputs": [],
   "source": []
  },
  {
   "cell_type": "code",
   "execution_count": null,
   "id": "43b968e6-ddf6-406b-a9d3-467a24d7d78b",
   "metadata": {},
   "outputs": [],
   "source": []
  },
  {
   "cell_type": "code",
   "execution_count": null,
   "id": "ba5a3a1f-554a-438c-9a19-224accc262f1",
   "metadata": {},
   "outputs": [],
   "source": []
  },
  {
   "cell_type": "code",
   "execution_count": 86,
   "id": "adcae3eb-31a8-4624-a423-d33e9fa04720",
   "metadata": {
    "tags": []
   },
   "outputs": [],
   "source": [
    "mic_pred_color = Image.fromarray(train_label_img_to_color(np.argmax(seg_logits[0], axis=0)))\n",
    "mic_pred_color.save('/home/sidd_s/diffusion_priors/segmentation/experiments/miou_calc/mic_pred/MIC_prediction.png')"
   ]
  },
  {
   "cell_type": "code",
   "execution_count": null,
   "id": "5a9b648d-6cdc-4891-93f1-03e48d6691f5",
   "metadata": {},
   "outputs": [],
   "source": []
  },
  {
   "cell_type": "code",
   "execution_count": null,
   "id": "31986e82-3fd3-4413-84e6-44c95e37d48a",
   "metadata": {},
   "outputs": [],
   "source": []
  },
  {
   "cell_type": "code",
   "execution_count": 82,
   "id": "e008f91d-4a59-439b-9c55-f6d808e4d84e",
   "metadata": {
    "tags": []
   },
   "outputs": [],
   "source": [
    "lweak_label = torch.tensor(mic_pred_label)"
   ]
  },
  {
   "cell_type": "code",
   "execution_count": 89,
   "id": "572d9193-a17d-4282-857e-a970ade2e93e",
   "metadata": {
    "tags": []
   },
   "outputs": [
    {
     "data": {
      "text/plain": [
       "tensor([ 0,  1,  2,  3,  4,  5,  6,  7,  8,  9, 10, 13], dtype=torch.uint8)"
      ]
     },
     "execution_count": 89,
     "metadata": {},
     "output_type": "execute_result"
    }
   ],
   "source": [
    "# np.unique(mic_pred_label)\n",
    "lweak_label.unique()"
   ]
  },
  {
   "cell_type": "code",
   "execution_count": 91,
   "id": "2efd0fb9-088c-47a2-9e6a-842a6b222ecd",
   "metadata": {
    "tags": []
   },
   "outputs": [],
   "source": [
    "lweak_onehot = F.one_hot(lweak_label.long(), num_classes=19)\n",
    "lweak_onehot = lweak_onehot.permute(2,0,1).unsqueeze(dim=0)"
   ]
  },
  {
   "cell_type": "code",
   "execution_count": 92,
   "id": "1dbb16e4-5a50-4a91-bc35-7241a0adab79",
   "metadata": {
    "tags": []
   },
   "outputs": [],
   "source": [
    "## increasing the channel number of lweak_onehot and z_prob to 20 for taking background into consideration \n",
    "background = torch.zeros(1,1,256,512)\n",
    "lweak_onehot = torch.cat((lweak_onehot, background), dim = 1) "
   ]
  },
  {
   "cell_type": "code",
   "execution_count": 93,
   "id": "516b8545-f425-45fc-8d4b-ef6ee40f2e0b",
   "metadata": {
    "tags": []
   },
   "outputs": [
    {
     "data": {
      "text/plain": [
       "torch.Size([1, 20, 256, 512])"
      ]
     },
     "execution_count": 93,
     "metadata": {},
     "output_type": "execute_result"
    }
   ],
   "source": [
    "lweak_onehot.shape"
   ]
  },
  {
   "cell_type": "code",
   "execution_count": 94,
   "id": "75341516-14b7-46c7-a977-152a4b0e2194",
   "metadata": {
    "tags": []
   },
   "outputs": [
    {
     "data": {
      "text/plain": [
       "torch.Size([256, 512])"
      ]
     },
     "execution_count": 94,
     "metadata": {},
     "output_type": "execute_result"
    }
   ],
   "source": [
    "lweak_label.shape"
   ]
  }
 ],
 "metadata": {
  "kernelspec": {
   "display_name": "Python 3 (ipykernel)",
   "language": "python",
   "name": "python3"
  },
  "language_info": {
   "codemirror_mode": {
    "name": "ipython",
    "version": 3
   },
   "file_extension": ".py",
   "mimetype": "text/x-python",
   "name": "python",
   "nbconvert_exporter": "python",
   "pygments_lexer": "ipython3",
   "version": "3.8.5"
  }
 },
 "nbformat": 4,
 "nbformat_minor": 5
}
