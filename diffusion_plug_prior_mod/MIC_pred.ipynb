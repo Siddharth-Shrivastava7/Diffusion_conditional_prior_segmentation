{
 "cells": [
  {
   "cell_type": "code",
   "execution_count": 1,
   "id": "2243322d-fb30-4826-a1de-0b878473538e",
   "metadata": {
    "tags": []
   },
   "outputs": [],
   "source": [
    "import sys\n",
    "sys.argv = ['']   "
   ]
  },
  {
   "cell_type": "code",
   "execution_count": 2,
   "id": "ce3b6e3e-a1a6-4c87-af0e-b1698e26fe28",
   "metadata": {
    "tags": []
   },
   "outputs": [],
   "source": [
    "import torch  \n",
    "import numpy as np\n",
    "from PIL import Image  \n",
    "import matplotlib.pyplot as plt\n",
    "import torch.nn.functional as F\n",
    "from tqdm import tqdm\n",
    "from MIC_mod.seg.tools import test \n",
    "from skimage.transform import resize\n",
    "from scipy.special import softmax "
   ]
  },
  {
   "cell_type": "code",
   "execution_count": 3,
   "id": "43c8b6b5-0ecb-4a03-93c5-ca036eeb94f9",
   "metadata": {
    "tags": []
   },
   "outputs": [],
   "source": [
    "args = test.get_arguments() "
   ]
  },
  {
   "cell_type": "code",
   "execution_count": 4,
   "id": "b9e4f422-d8aa-4aad-8203-25d9a90e8554",
   "metadata": {
    "tags": []
   },
   "outputs": [
    {
     "data": {
      "text/plain": [
       "Namespace(aug_test=False, checkpoint='/home/sidd_s/scratch/mic_checkpoints/csHR2dzurHR_mic_hrda_aef07/iter_40000_relevant.pth', config='/home/sidd_s/scratch/mic_checkpoints/csHR2dzurHR_mic_hrda_aef07/csHR2dzurHR_mic_hrda_aef07.py', eval='eval', eval_options=None, format_only=False, gpu_collect=False, hrda_out='', inference_mode='same', launcher='none', local_rank=0, opacity=0.5, options=None, out=None, show=False, show_dir=None, test_set=False, tmpdir=None)"
      ]
     },
     "execution_count": 4,
     "metadata": {},
     "output_type": "execute_result"
    }
   ],
   "source": [
    "args"
   ]
  },
  {
   "cell_type": "code",
   "execution_count": 5,
   "id": "cc8492e8-b191-4517-b3df-9d507f0200a2",
   "metadata": {
    "tags": []
   },
   "outputs": [
    {
     "name": "stderr",
     "output_type": "stream",
     "text": [
      "2023-05-16 22:00:17,935 - mmseg - INFO - Loaded 50 images from /home/sidd_s/scratch/dataset/dark_zurich/rgb_anon/val\n",
      "/home/sidd_s/Diffusion_conditional_prior_segmentation/diffusion_plug_prior_mod/mmseg/models/backbones/mix_transformer.py:216: UserWarning: DeprecationWarning: pretrained is a deprecated, please use \"init_cfg\" instead\n",
      "  warnings.warn('DeprecationWarning: pretrained is a deprecated, '\n"
     ]
    },
    {
     "name": "stdout",
     "output_type": "stream",
     "text": [
      "Use load_from_local loader\n"
     ]
    }
   ],
   "source": [
    "mic_model, dataloader = test.main() "
   ]
  },
  {
   "cell_type": "code",
   "execution_count": 10,
   "id": "51721435-6a97-4e14-bb09-e860c8de16bb",
   "metadata": {
    "tags": []
   },
   "outputs": [],
   "source": [
    "# mic_model\n",
    "# len(dataloader) # 50\n",
    "# dataloader"
   ]
  },
  {
   "cell_type": "code",
   "execution_count": 6,
   "id": "7af423ab-cab3-4e9a-8ea5-c98fe562049f",
   "metadata": {
    "tags": []
   },
   "outputs": [],
   "source": [
    "d = next(iter(dataloader))['img_metas'][0]"
   ]
  },
  {
   "cell_type": "code",
   "execution_count": 7,
   "id": "daad73a7-231d-431f-9905-9a46d317cf28",
   "metadata": {
    "tags": []
   },
   "outputs": [
    {
     "data": {
      "text/plain": [
       "DataContainer([[{'filename': '/home/sidd_s/scratch/dataset/dark_zurich/rgb_anon/val/night/GOPR0356/GOPR0356_frame_000452_rgb_anon.png', 'ori_filename': 'night/GOPR0356/GOPR0356_frame_000452_rgb_anon.png', 'ori_shape': (1080, 1920, 3), 'img_shape': (256, 512, 3), 'pad_shape': (256, 512, 3), 'scale_factor': array([0.26666668, 0.23703703, 0.26666668, 0.23703703], dtype=float32), 'flip': False, 'flip_direction': 'horizontal', 'img_norm_cfg': {'mean': array([123.675, 116.28 , 103.53 ], dtype=float32), 'std': array([58.395, 57.12 , 57.375], dtype=float32), 'to_rgb': True}}]])"
      ]
     },
     "execution_count": 7,
     "metadata": {},
     "output_type": "execute_result"
    }
   ],
   "source": [
    "d"
   ]
  },
  {
   "cell_type": "code",
   "execution_count": 8,
   "id": "c17e8617-4fd9-40c4-99f2-fee35cc836fe",
   "metadata": {
    "tags": []
   },
   "outputs": [
    {
     "data": {
      "text/plain": [
       "'/home/sidd_s/scratch/dataset/dark_zurich/rgb_anon/val/night/GOPR0356/GOPR0356_frame_000452_rgb_anon.png'"
      ]
     },
     "execution_count": 8,
     "metadata": {},
     "output_type": "execute_result"
    }
   ],
   "source": [
    "dc = next(iter(dataloader))['img_metas'][0].data[0][0]['filename']\n",
    "dc"
   ]
  },
  {
   "cell_type": "code",
   "execution_count": 9,
   "id": "56a788dc-7f18-42a2-bbb6-f0ca93942180",
   "metadata": {
    "tags": []
   },
   "outputs": [
    {
     "name": "stderr",
     "output_type": "stream",
     "text": [
      "35it [00:01, 21.20it/s]/home/sidd_s/miniconda3/envs/py38/lib/python3.8/site-packages/torch/nn/functional.py:3103: UserWarning: The default behavior for interpolate/upsample with float scale_factor changed in 1.6.0 to align with other frameworks/libraries, and now uses scale_factor directly, instead of relying on the computed output size. If you wish to restore the old behavior, please set recompute_scale_factor=True. See the documentation of nn.Upsample for details. \n",
      "  warnings.warn(\"The default behavior for interpolate/upsample with float scale_factor changed \"\n",
      "35it [00:02, 13.65it/s]"
     ]
    },
    {
     "name": "stdout",
     "output_type": "stream",
     "text": [
      "{'img_metas': [DataContainer([[{'filename': '/home/sidd_s/scratch/dataset/dark_zurich/rgb_anon/val/night/GOPR0356/GOPR0356_frame_000363_rgb_anon.png', 'ori_filename': 'night/GOPR0356/GOPR0356_frame_000363_rgb_anon.png', 'ori_shape': (1080, 1920, 3), 'img_shape': (256, 512, 3), 'pad_shape': (256, 512, 3), 'scale_factor': array([0.26666668, 0.23703703, 0.26666668, 0.23703703], dtype=float32), 'flip': False, 'flip_direction': 'horizontal', 'img_norm_cfg': {'mean': array([123.675, 116.28 , 103.53 ], dtype=float32), 'std': array([58.395, 57.12 , 57.375], dtype=float32), 'to_rgb': True}}]])], 'img': [tensor([[[[-1.8097, -1.8610, -1.7925,  ..., -1.6384, -1.7240, -1.6555],\n",
      "          [-1.8097, -1.8097, -1.8097,  ..., -1.6555, -1.7069, -1.6555],\n",
      "          [-1.6042, -1.7240, -1.7925,  ..., -1.6555, -1.6727, -1.6727],\n",
      "          ...,\n",
      "          [-0.7822, -0.8164, -0.7650,  ..., -1.0904, -1.1589, -1.0733],\n",
      "          [-0.8164, -0.7650, -0.8335,  ..., -0.9020, -1.0562, -1.1418],\n",
      "          [-0.8164, -0.8164, -0.7993,  ..., -0.7822, -0.8335, -0.9192]],\n",
      "\n",
      "         [[-1.8606, -1.9132, -1.8431,  ..., -1.7206, -1.8081, -1.7381],\n",
      "          [-1.8606, -1.8606, -1.8606,  ..., -1.7381, -1.7906, -1.7381],\n",
      "          [-1.7206, -1.8431, -1.8782,  ..., -1.7381, -1.7556, -1.7556],\n",
      "          ...,\n",
      "          [-1.1954, -1.2304, -1.1779,  ..., -1.3529, -1.4230, -1.3354],\n",
      "          [-1.2304, -1.1779, -1.2304,  ..., -1.2479, -1.3880, -1.4580],\n",
      "          [-1.2304, -1.2304, -1.2129,  ..., -1.1954, -1.2129, -1.3004]],\n",
      "\n",
      "         [[-1.6302, -1.6824, -1.5779,  ..., -1.5081, -1.5953, -1.5256],\n",
      "          [-1.6302, -1.6302, -1.5953,  ..., -1.5256, -1.5779, -1.5256],\n",
      "          [-1.5081, -1.6302, -1.6302,  ..., -1.5256, -1.5430, -1.5430],\n",
      "          ...,\n",
      "          [-1.4733, -1.5081, -1.4559,  ..., -1.5779, -1.6476, -1.5604],\n",
      "          [-1.5081, -1.4559, -1.5081,  ..., -1.5256, -1.6476, -1.7173],\n",
      "          [-1.5081, -1.5081, -1.4907,  ..., -1.5081, -1.5081, -1.5953]]]])]}\n"
     ]
    },
    {
     "name": "stderr",
     "output_type": "stream",
     "text": [
      "\n"
     ]
    }
   ],
   "source": [
    "for i, data in tqdm(enumerate(dataloader)):  \n",
    "    # print(data['img_metas'][0].data[0][0]['filename'])\n",
    "    if (data['img_metas'][0].data[0][0]['filename'] == '/home/sidd_s/scratch/dataset/dark_zurich/rgb_anon/val/night/GOPR0356/GOPR0356_frame_000363_rgb_anon.png'):\n",
    "        with torch.no_grad():\n",
    "            seg_logits = mic_model(return_loss=False, logits_output=True, **data)   \n",
    "            seg_pred = mic_model(return_loss=False,  logits_output=False, **data) \n",
    "        break\n",
    "    else: \n",
    "        continue   \n",
    "print(data)  "
   ]
  },
  {
   "cell_type": "code",
   "execution_count": 10,
   "id": "f9505d1d-0d1f-4524-85ed-45223aa82862",
   "metadata": {
    "tags": []
   },
   "outputs": [
    {
     "data": {
      "text/plain": [
       "torch.Size([1, 3, 256, 512])"
      ]
     },
     "execution_count": 10,
     "metadata": {},
     "output_type": "execute_result"
    }
   ],
   "source": [
    "data['img'][0].shape"
   ]
  },
  {
   "cell_type": "code",
   "execution_count": 11,
   "id": "c3672bee-985b-4222-9907-886d94081a1b",
   "metadata": {
    "tags": []
   },
   "outputs": [],
   "source": [
    "def train_label_img_to_color(img): \n",
    "    label_to_color = {\n",
    "        0: [128, 64,128],\n",
    "        1: [244, 35,232],\n",
    "        2: [ 70, 70, 70],\n",
    "        3: [102,102,156],\n",
    "        4: [190,153,153],\n",
    "        5: [153,153,153],\n",
    "        \n",
    "        6: [250,170, 30],\n",
    "        7: [220,220,  0],\n",
    "        8: [107,142, 35],\n",
    "        9: [152,251,152],\n",
    "        10: [ 70,130,180],\n",
    "        11: [220, 20, 60],\n",
    "        12: [255,  0,  0],\n",
    "        13: [  0,  0,142],\n",
    "        14: [  0,  0, 70],\n",
    "        15: [  0, 60,100],\n",
    "        16: [  0, 80,100],\n",
    "        17: [  0,  0,230],\n",
    "        18: [119, 11, 32],\n",
    "        19 : [0,  0, 0] \n",
    "        } \n",
    "    img_height, img_width = img.shape \n",
    "    img_color = np.zeros((img_height, img_width, 3), dtype=np.uint8)\n",
    "    for row in range(img_height):\n",
    "        for col in range(img_width):\n",
    "            label = img[row][col] \n",
    "            img_color[row, col] = np.array(label_to_color[label])  \n",
    "    return img_color"
   ]
  },
  {
   "cell_type": "code",
   "execution_count": 12,
   "id": "74cbfd2d-0fec-4122-a28b-63a2873449a9",
   "metadata": {
    "tags": []
   },
   "outputs": [
    {
     "data": {
      "image/png": "[encoded data removed]",
      "text/plain": [
       "<Figure size 2000x600 with 1 Axes>"
      ]
     },
     "metadata": {},
     "output_type": "display_data"
    }
   ],
   "source": [
    "# Visualize\n",
    "fig, ax = plt.subplots(1, 1, figsize=(20, 6))\n",
    "\n",
    "ax.imshow(train_label_img_to_color(seg_pred[0]))\n",
    "ax.set_title('MIC_pred_color')\n",
    "plt.show()"
   ]
  },
  {
   "cell_type": "code",
   "execution_count": null,
   "id": "f7669ddd-db8c-46c9-99db-42d68983fb29",
   "metadata": {},
   "outputs": [],
   "source": []
  },
  {
   "cell_type": "code",
   "execution_count": 13,
   "id": "c20a026e-e4ae-438d-a7bb-8bdae367970d",
   "metadata": {
    "tags": []
   },
   "outputs": [
    {
     "data": {
      "text/plain": [
       "torch.Size([19, 256, 512])"
      ]
     },
     "execution_count": 13,
     "metadata": {},
     "output_type": "execute_result"
    }
   ],
   "source": [
    "lweak = torch.tensor(seg_logits[0])\n",
    "lweak.shape"
   ]
  },
  {
   "cell_type": "code",
   "execution_count": 14,
   "id": "75b3ca7a-1d56-4d69-9e24-c0de66319b68",
   "metadata": {
    "tags": []
   },
   "outputs": [],
   "source": [
    "lweak_onehot = F.one_hot(lweak.argmax(dim=0), num_classes=19)\n",
    "lweak_onehot = lweak_onehot.permute(2,0,1).unsqueeze(dim=0)"
   ]
  },
  {
   "cell_type": "code",
   "execution_count": 15,
   "id": "c039fdd0-58d0-4f81-a7bb-81fcc2d0801c",
   "metadata": {
    "tags": []
   },
   "outputs": [
    {
     "data": {
      "text/plain": [
       "torch.Size([1, 19, 256, 512])"
      ]
     },
     "execution_count": 15,
     "metadata": {},
     "output_type": "execute_result"
    }
   ],
   "source": [
    "lweak_onehot.shape"
   ]
  },
  {
   "cell_type": "code",
   "execution_count": 16,
   "id": "1937ee25-e215-4396-b47c-fe3731019f77",
   "metadata": {
    "tags": []
   },
   "outputs": [],
   "source": [
    "## increasing the channel number of lweak_onehot and z_prob to 20 for taking background into consideration \n",
    "background = torch.zeros(1,1,256,512)\n",
    "lweak_onehot = torch.cat((lweak_onehot, background), dim = 1) "
   ]
  },
  {
   "cell_type": "code",
   "execution_count": 17,
   "id": "d87c3035-88e4-4be9-b71c-b7b7b9fa5b65",
   "metadata": {
    "tags": []
   },
   "outputs": [
    {
     "data": {
      "text/plain": [
       "torch.Size([1, 20, 256, 512])"
      ]
     },
     "execution_count": 17,
     "metadata": {},
     "output_type": "execute_result"
    }
   ],
   "source": [
    "lweak_onehot.shape"
   ]
  },
  {
   "cell_type": "code",
   "execution_count": 18,
   "id": "8d1ea0ac-6e7c-4045-bf95-8530d7e9d687",
   "metadata": {
    "tags": []
   },
   "outputs": [],
   "source": [
    "mic_pred_logits = seg_logits[0]"
   ]
  },
  {
   "cell_type": "code",
   "execution_count": 22,
   "id": "48e19505-eceb-4e3b-8a18-692e7a763eaf",
   "metadata": {
    "tags": []
   },
   "outputs": [
    {
     "data": {
      "text/plain": [
       "(19, 256, 512)"
      ]
     },
     "execution_count": 22,
     "metadata": {},
     "output_type": "execute_result"
    }
   ],
   "source": [
    "mic_pred_logits.shape"
   ]
  },
  {
   "cell_type": "code",
   "execution_count": 21,
   "id": "7f959e17-4fe3-4b08-a0a8-1a7627b21995",
   "metadata": {
    "tags": []
   },
   "outputs": [],
   "source": [
    "mic_pred_label = np.argmax(mic_pred_logits, axis=0)  "
   ]
  },
  {
   "cell_type": "code",
   "execution_count": 22,
   "id": "5aee6e86-adc8-40a4-a540-67a63845bd3e",
   "metadata": {
    "tags": []
   },
   "outputs": [
    {
     "data": {
      "text/plain": [
       "(256, 512)"
      ]
     },
     "execution_count": 22,
     "metadata": {},
     "output_type": "execute_result"
    }
   ],
   "source": [
    "mic_pred_label.shape"
   ]
  },
  {
   "cell_type": "code",
   "execution_count": 23,
   "id": "30394e6c-1d88-475a-8338-851f27c13e50",
   "metadata": {
    "tags": []
   },
   "outputs": [],
   "source": [
    "uns, cns = np.unique(mic_pred_label, return_counts=True)"
   ]
  },
  {
   "cell_type": "code",
   "execution_count": 24,
   "id": "3a739869-3feb-49ae-add8-eb7b3fb63bf0",
   "metadata": {
    "tags": []
   },
   "outputs": [
    {
     "data": {
      "text/plain": [
       "array([ 0,  1,  2,  3,  4,  5,  6,  7,  8,  9, 10, 13])"
      ]
     },
     "execution_count": 24,
     "metadata": {},
     "output_type": "execute_result"
    }
   ],
   "source": [
    "uns"
   ]
  },
  {
   "cell_type": "code",
   "execution_count": 25,
   "id": "93e6ada2-a33c-4c0c-9893-61e4ae25b2a8",
   "metadata": {
    "tags": []
   },
   "outputs": [
    {
     "data": {
      "text/plain": [
       "array([27531,  5514, 21663,   500,   489,  5037,   271,   208, 36485,\n",
       "        1561, 31466,   347])"
      ]
     },
     "execution_count": 25,
     "metadata": {},
     "output_type": "execute_result"
    }
   ],
   "source": [
    "cns"
   ]
  },
  {
   "cell_type": "code",
   "execution_count": 26,
   "id": "188c3418-3098-447e-8e11-15df5a2df634",
   "metadata": {
    "tags": []
   },
   "outputs": [
    {
     "data": {
      "text/plain": [
       "array([[2, 2, 2, ..., 8, 8, 8],\n",
       "       [2, 2, 2, ..., 8, 8, 8],\n",
       "       [2, 2, 2, ..., 8, 8, 8],\n",
       "       ...,\n",
       "       [0, 0, 0, ..., 9, 9, 9],\n",
       "       [0, 0, 0, ..., 9, 9, 9],\n",
       "       [0, 0, 0, ..., 9, 9, 9]])"
      ]
     },
     "execution_count": 26,
     "metadata": {},
     "output_type": "execute_result"
    }
   ],
   "source": [
    "mic_pred_label"
   ]
  },
  {
   "cell_type": "code",
   "execution_count": 27,
   "id": "5a75432d-2741-4f67-86e8-65e7431c5454",
   "metadata": {
    "tags": []
   },
   "outputs": [
    {
     "data": {
      "text/plain": [
       "(256, 512)"
      ]
     },
     "execution_count": 27,
     "metadata": {},
     "output_type": "execute_result"
    }
   ],
   "source": [
    "mic_pred_label.shape"
   ]
  },
  {
   "cell_type": "code",
   "execution_count": 28,
   "id": "ddf932a7-6bf5-44c2-9008-733a7972cb25",
   "metadata": {
    "tags": []
   },
   "outputs": [],
   "source": [
    "u, c = np.unique(seg_pred[0], return_counts=True)"
   ]
  },
  {
   "cell_type": "code",
   "execution_count": 29,
   "id": "bd02365f-c766-4cad-935d-95e0834cb854",
   "metadata": {
    "tags": []
   },
   "outputs": [
    {
     "data": {
      "text/plain": [
       "array([ 0,  1,  2,  3,  4,  5,  6,  7,  8,  9, 10, 13])"
      ]
     },
     "execution_count": 29,
     "metadata": {},
     "output_type": "execute_result"
    }
   ],
   "source": [
    "u"
   ]
  },
  {
   "cell_type": "code",
   "execution_count": 30,
   "id": "43b968e6-ddf6-406b-a9d3-467a24d7d78b",
   "metadata": {
    "tags": []
   },
   "outputs": [
    {
     "data": {
      "text/plain": [
       "array([27474,  5755, 21661,   390,   359,  4846,   231,   108, 36957,\n",
       "        2337, 30605,   349])"
      ]
     },
     "execution_count": 30,
     "metadata": {},
     "output_type": "execute_result"
    }
   ],
   "source": [
    "c"
   ]
  },
  {
   "cell_type": "code",
   "execution_count": 33,
   "id": "adcae3eb-31a8-4624-a423-d33e9fa04720",
   "metadata": {
    "tags": []
   },
   "outputs": [],
   "source": [
    "mic_pred_color = Image.fromarray(train_label_img_to_color(np.argmax(seg_logits[0], axis=0)))\n",
    "mic_pred_color.save('/home/sidd_s/Diffusion_conditional_prior_segmentation/diffusion_plug_prior_mod/experiments/miou_calc/mic_pred/MIC_prediction.png')"
   ]
  },
  {
   "cell_type": "code",
   "execution_count": 34,
   "id": "5a9b648d-6cdc-4891-93f1-03e48d6691f5",
   "metadata": {
    "tags": []
   },
   "outputs": [],
   "source": [
    "mic_pred_color = Image.fromarray(train_label_img_to_color(seg_pred[0]))\n",
    "mic_pred_color.save('/home/sidd_s/Diffusion_conditional_prior_segmentation/diffusion_plug_prior_mod/experiments/miou_calc/mic_pred/MIC_prediction.png')"
   ]
  },
  {
   "cell_type": "code",
   "execution_count": null,
   "id": "31986e82-3fd3-4413-84e6-44c95e37d48a",
   "metadata": {},
   "outputs": [],
   "source": []
  }
 ],
 "metadata": {
  "kernelspec": {
   "display_name": "Python 3 (ipykernel)",
   "language": "python",
   "name": "python3"
  },
  "language_info": {
   "codemirror_mode": {
    "name": "ipython",
    "version": 3
   },
   "file_extension": ".py",
   "mimetype": "text/x-python",
   "name": "python",
   "nbconvert_exporter": "python",
   "pygments_lexer": "ipython3",
   "version": "3.8.5"
  }
 },
 "nbformat": 4,
 "nbformat_minor": 5
}
