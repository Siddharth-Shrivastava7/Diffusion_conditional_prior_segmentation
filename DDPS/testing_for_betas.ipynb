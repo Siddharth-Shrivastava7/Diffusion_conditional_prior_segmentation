{
 "cells": [
  {
   "cell_type": "code",
   "execution_count": 2,
   "id": "3164b9bf-65e8-4ec1-897c-a72c5c632c87",
   "metadata": {},
   "outputs": [],
   "source": [
    "from scipy import linalg \n",
    "import numpy as np\n",
    "import math"
   ]
  },
  {
   "cell_type": "code",
   "execution_count": 3,
   "id": "e5dcea15-9a36-4ea6-a7e7-51752fb96924",
   "metadata": {},
   "outputs": [],
   "source": [
    "tr = np.load('/home/sidd_s/Diffusion_conditional_prior_segmentation/DDPS/tools/saved_files/matrix_numpy/transition_rate_matrix_city.npy')\n",
    "con = np.load('/home/sidd_s/Diffusion_conditional_prior_segmentation/DDPS/tools/saved_files/matrix_numpy/confusion_matrix_cityscapes_segformerb2.npy')\n",
    "def betas_tt_arr(betas):\n",
    "    betas_tt_arr = [np.sum(betas[:(t+1)]) for t in range(betas.shape[0])]\n",
    "    return np.array(betas_tt_arr)\n",
    "\n",
    "def simmat(betas_tt, transition_rate):\n",
    "    matrix = linalg.expm(np.array(betas_tt * transition_rate, dtype=np.float64)) \n",
    "    return matrix"
   ]
  },
  {
   "cell_type": "markdown",
   "id": "9bc73e1a-9489-4cd3-a595-dba4d3568889",
   "metadata": {},
   "source": [
    "### different noise scheduling"
   ]
  },
  {
   "cell_type": "code",
   "execution_count": 65,
   "id": "052b3cb0-02ee-4288-aad9-7ec71e09914c",
   "metadata": {},
   "outputs": [],
   "source": [
    "# linear scheduler\n",
    "betas = np.linspace(1e-6, 1e-4,20)\n",
    "btt = betas_tt_arr(betas)"
   ]
  },
  {
   "cell_type": "code",
   "execution_count": 223,
   "id": "d92ad4e4-0133-4e0e-8d94-a0ab9ed860f1",
   "metadata": {},
   "outputs": [],
   "source": [
    "# btt"
   ]
  },
  {
   "cell_type": "code",
   "execution_count": 25,
   "id": "49067956-1c54-473a-a3df-5fdbc98f4310",
   "metadata": {},
   "outputs": [],
   "source": [
    "## cosine scheduler "
   ]
  },
  {
   "cell_type": "code",
   "execution_count": 26,
   "id": "ddf4afcd-7075-4ee6-aa84-263c0e4acd57",
   "metadata": {},
   "outputs": [],
   "source": [
    "def cosine_fn(step):\n",
    "      return np.cos((step / num_steps + s) / (1 + s) * np.pi / 2)\n",
    "def schedule_fn(step):\n",
    "      return np.clip(1 - (cosine_fn(step + 1) / cosine_fn(step)), 0, 0.999)"
   ]
  },
  {
   "cell_type": "code",
   "execution_count": 35,
   "id": "ea8364c3-e079-40b6-9c9b-47aabcfa51e6",
   "metadata": {},
   "outputs": [],
   "source": [
    "s = 1e-9\n",
    "betas = []\n",
    "num_steps = 20"
   ]
  },
  {
   "cell_type": "code",
   "execution_count": 36,
   "id": "12974f0e-eab2-43de-aa06-a4918d1e1980",
   "metadata": {},
   "outputs": [],
   "source": [
    "betas = [schedule_fn(step) for step  in range(num_steps)]  \n",
    "betas = np.array(betas)"
   ]
  },
  {
   "cell_type": "code",
   "execution_count": 222,
   "id": "c8da2987-bcd3-49a1-815b-fcf1c4573beb",
   "metadata": {},
   "outputs": [],
   "source": [
    "# betas"
   ]
  },
  {
   "cell_type": "code",
   "execution_count": 134,
   "id": "9eed5157-7ef3-489e-87e9-c44878b49097",
   "metadata": {},
   "outputs": [],
   "source": [
    "def cos_alpha_schedule(time_step, N=20, att_1=0.99999, att_T=0.0001, ctt_1=0.0001, ctt_T=0.99999, exp=3):\n",
    "    att = np.arange(0, time_step)\n",
    "    att = (np.cos((att + time_step) * math.pi * 0.5 / time_step) + 1)**exp\n",
    "    att = att * (att_1 - att_T) + att_T\n",
    "    att = np.concatenate(([1], att))\n",
    "    at = att[1:] / att[:-1]\n",
    "\n",
    "    ctt = np.arange(0, time_step)\n",
    "    ctt = (np.cos((ctt + time_step) * math.pi * 0.5 / time_step) + 1)**exp\n",
    "    ctt = ctt * (ctt_1 - ctt_T) + ctt_T\n",
    "    ctt = np.concatenate(([0], ctt))\n",
    "\n",
    "    one_minus_ctt = 1 - ctt\n",
    "    one_minus_ct = one_minus_ctt[1:] / one_minus_ctt[:-1]\n",
    "    ct = 1 - one_minus_ct\n",
    "    bt = (1 - at - ct) / N\n",
    "    att = np.concatenate((att[1:], [1]))\n",
    "    ctt = np.concatenate((ctt[1:], [0]))\n",
    "    btt = (1 - att - ctt) / N\n",
    "    # return at, bt, ct, att, btt, ctt\n",
    "    return bt "
   ]
  },
  {
   "cell_type": "code",
   "execution_count": 221,
   "id": "06423a22-aac3-4193-a76e-51fda8ebd212",
   "metadata": {},
   "outputs": [],
   "source": [
    "# betas = cos_alpha_schedule(20)\n",
    "# betas "
   ]
  },
  {
   "cell_type": "code",
   "execution_count": 225,
   "id": "b60787b5-49d5-4d1c-8d69-89d443d6c771",
   "metadata": {},
   "outputs": [],
   "source": [
    "# np.power(np.linspace(1e-4, 1e-1, num=20), math.e)"
   ]
  },
  {
   "cell_type": "raw",
   "id": "0d0066e6-e338-46e8-a771-bb85c2a7409f",
   "metadata": {},
   "source": [
    "log space => numbers spaced evenly on a log scale.\n",
    "In linear space, the sequence starts at base ** start (base to the power of start) and ends with base ** stop\n",
    "\n",
    "Slow in the beginning, then rapidly increase in the later stages (kind of like exponential space growth)"
   ]
  },
  {
   "cell_type": "code",
   "execution_count": 226,
   "id": "ab7d4c2f-dd5b-4059-9d72-276d731d0b5c",
   "metadata": {},
   "outputs": [],
   "source": [
    "## testing log space vs linear space"
   ]
  },
  {
   "cell_type": "code",
   "execution_count": 229,
   "id": "757a6f63-481d-443b-9e63-e5c212788379",
   "metadata": {},
   "outputs": [
    {
     "data": {
      "text/plain": [
       "array([ 10.        ,  10.26209321,  10.53105571,  10.80706753,\n",
       "        11.09031343,  11.38098302,  11.67927086,  11.98537662,\n",
       "        12.2995052 ,  12.62186688,  12.95267744,  13.29215833,\n",
       "        13.64053677,  13.99804598,  14.36492526,  14.7414202 ,\n",
       "        15.12778282,  15.52427173,  15.93115236,  16.34869705,\n",
       "        16.7771853 ,  17.21690393,  17.6681473 ,  18.13121744,\n",
       "        18.60642434,  19.09408609,  19.59452913,  20.10808843,\n",
       "        20.63510778,  21.17593994,  21.73094695,  22.30050032,\n",
       "        22.8849813 ,  23.48478112,  24.10030129,  24.73195382,\n",
       "        25.38016154,  26.04535835,  26.72798951,  27.42851197,\n",
       "        28.14739464,  28.88511875,  29.6421781 ,  30.41907947,\n",
       "        31.21634289,  32.03450204,  32.87410459,  33.73571256,\n",
       "        34.61990268,  35.52726683,  36.45841237,  37.41396261,\n",
       "        38.39455717,  39.40085245,  40.43352204,  41.4932572 ,\n",
       "        42.5807673 ,  43.69678031,  44.84204325,  46.01732277,\n",
       "        47.22340555,  48.46109895,  49.73123146,  51.03465327,\n",
       "        52.37223689,  53.74487766,  55.15349442,  56.59903006,\n",
       "        58.08245222,  59.60475386,  61.16695399,  62.77009833,\n",
       "        64.41525999,  66.10354023,  67.83606914,  69.61400646,\n",
       "        71.43854231,  73.310898  ,  75.23232687,  77.20411508,\n",
       "        79.22758253,  81.30408368,  83.43500852,  85.62178345,\n",
       "        87.86587226,  90.16877712,  92.53203956,  94.95724149,\n",
       "        97.44600633, 100.        ])"
      ]
     },
     "execution_count": 229,
     "metadata": {},
     "output_type": "execute_result"
    }
   ],
   "source": [
    "betas = np.logspace(1, 2, base = 10, num=90)\n",
    "betas"
   ]
  },
  {
   "cell_type": "code",
   "execution_count": 22,
   "id": "0cbe97be-6852-46a2-a000-94efdcb1ae2f",
   "metadata": {},
   "outputs": [
    {
     "data": {
      "text/plain": [
       "array([0.0001    , 0.00062105, 0.00114211, 0.00166316, 0.00218421,\n",
       "       0.00270526, 0.00322632, 0.00374737, 0.00426842, 0.00478947,\n",
       "       0.00531053, 0.00583158, 0.00635263, 0.00687368, 0.00739474,\n",
       "       0.00791579, 0.00843684, 0.00895789, 0.00947895, 0.01      ])"
      ]
     },
     "execution_count": 22,
     "metadata": {},
     "output_type": "execute_result"
    }
   ],
   "source": [
    "betas = np.linspace(1e-4, 1e-2, 20)\n",
    "betas"
   ]
  },
  {
   "cell_type": "code",
   "execution_count": 231,
   "id": "49edf923-367f-48fe-a013-e12d09a7d976",
   "metadata": {},
   "outputs": [],
   "source": [
    "# betas = np.logspace(-13, -9, base = math.e, num=20)\n",
    "# betas"
   ]
  },
  {
   "cell_type": "code",
   "execution_count": 4,
   "id": "29043645-cbea-4155-8bd3-b43a162d92fe",
   "metadata": {},
   "outputs": [
    {
     "data": {
      "text/plain": [
       "array([1.00000000e-04, 1.27427499e-04, 1.62377674e-04, 2.06913808e-04,\n",
       "       2.63665090e-04, 3.35981829e-04, 4.28133240e-04, 5.45559478e-04,\n",
       "       6.95192796e-04, 8.85866790e-04, 1.12883789e-03, 1.43844989e-03,\n",
       "       1.83298071e-03, 2.33572147e-03, 2.97635144e-03, 3.79269019e-03,\n",
       "       4.83293024e-03, 6.15848211e-03, 7.84759970e-03, 1.00000000e-02])"
      ]
     },
     "execution_count": 4,
     "metadata": {},
     "output_type": "execute_result"
    }
   ],
   "source": [
    "betas = np.logspace(-4, -2, base = 10, num=20)\n",
    "betas"
   ]
  },
  {
   "cell_type": "code",
   "execution_count": 259,
   "id": "8a72327e-6ecc-4b95-ba1d-e7153427be39",
   "metadata": {},
   "outputs": [],
   "source": [
    "# betas[5]"
   ]
  },
  {
   "cell_type": "code",
   "execution_count": 220,
   "id": "49ef145f-f162-4c71-b777-41aafe642c56",
   "metadata": {},
   "outputs": [],
   "source": [
    "# betas = np.geomspace(1e-6, 1e-4, 20)\n",
    "# betas \n",
    "## similar to np.logspcace "
   ]
  },
  {
   "cell_type": "code",
   "execution_count": 232,
   "id": "ea8a1524-e060-480a-9bb9-0d3efad87806",
   "metadata": {},
   "outputs": [],
   "source": [
    "# betas = np.linspace(3.16e-6, 1e-4,20)\n",
    "# betas"
   ]
  },
  {
   "cell_type": "code",
   "execution_count": 5,
   "id": "82e13875-1355-441d-ae1b-4a000814c81d",
   "metadata": {},
   "outputs": [],
   "source": [
    "def calculate_adjacency_matrix(confusion_matrix, k=3):\n",
    "    ## calculate adjacency_matrix from confusion matrix \n",
    "    np.fill_diagonal(confusion_matrix,0) ## removing the dependency of the class with itself  ## its is an inplace argument \n",
    "    # indices = np.argpartition(confusion_matrix, -k, axis=1)[:, -k:]\n",
    "    # top_k_values = np.take_along_axis(confusion_matrix, indices, axis=1)\n",
    "    sorted_indices = np.argsort(confusion_matrix) \n",
    "    indices_as_ranks = np.argsort(np.argsort(confusion_matrix)) \n",
    "    indices_which_are_topk_as_bool = (indices_as_ranks >= confusion_matrix.shape[1] - k) # shape[1] used as we need to find it along row \n",
    "    adjacency_matrix = confusion_matrix * indices_which_are_topk_as_bool\n",
    "    # print(adjacency_matrix)   \n",
    "    ## for one hot adjacency matrix \n",
    "    adjacency_matrix_as_one_hot = adjacency_matrix.copy()\n",
    "    adjacency_matrix_as_one_hot[adjacency_matrix_as_one_hot>0] = 1 \n",
    "    \n",
    "    return adjacency_matrix_as_one_hot"
   ]
  },
  {
   "cell_type": "code",
   "execution_count": 161,
   "id": "f5fd9319-5b9c-40c6-a07e-6fe76aa36ff8",
   "metadata": {},
   "outputs": [],
   "source": [
    "adj =calculate_adjacency_matrix(con, k=15)"
   ]
  },
  {
   "cell_type": "code",
   "execution_count": 162,
   "id": "427e498c-a824-48b1-ba60-adfb924f0668",
   "metadata": {},
   "outputs": [
    {
     "data": {
      "text/plain": [
       "(19, 19)"
      ]
     },
     "execution_count": 162,
     "metadata": {},
     "output_type": "execute_result"
    }
   ],
   "source": [
    "adj.shape"
   ]
  },
  {
   "cell_type": "code",
   "execution_count": 163,
   "id": "4cbb4df0-2172-467d-a431-9c34eef9f963",
   "metadata": {},
   "outputs": [
    {
     "data": {
      "text/plain": [
       "array([0., 1., 1., 1., 1., 1., 0., 1., 1., 1., 1., 1., 1., 1., 1., 1., 0.,\n",
       "       0., 1.])"
      ]
     },
     "execution_count": 163,
     "metadata": {},
     "output_type": "execute_result"
    }
   ],
   "source": [
    "adj[0]"
   ]
  },
  {
   "cell_type": "code",
   "execution_count": 164,
   "id": "bf1b31a9-320c-492e-b385-6c0b5718179e",
   "metadata": {},
   "outputs": [],
   "source": [
    "adj_s = (adj + adj.T) / 30"
   ]
  },
  {
   "cell_type": "code",
   "execution_count": 165,
   "id": "ad3dd6b3-9c33-4fe3-9fab-47d822a32607",
   "metadata": {},
   "outputs": [
    {
     "data": {
      "text/plain": [
       "array([0.        , 0.06666667, 0.03333333, 0.06666667, 0.06666667,\n",
       "       0.06666667, 0.        , 0.06666667, 0.06666667, 0.06666667,\n",
       "       0.06666667, 0.06666667, 0.06666667, 0.06666667, 0.06666667,\n",
       "       0.06666667, 0.03333333, 0.03333333, 0.06666667])"
      ]
     },
     "execution_count": 165,
     "metadata": {},
     "output_type": "execute_result"
    }
   ],
   "source": [
    "adj_s[0]"
   ]
  },
  {
   "cell_type": "code",
   "execution_count": 166,
   "id": "0def6ac1-2582-4a85-9d40-4e78dde632bf",
   "metadata": {},
   "outputs": [],
   "source": [
    "tr = adj_s - np.diagflat(np.sum(adj_s,axis =1))"
   ]
  },
  {
   "cell_type": "code",
   "execution_count": 167,
   "id": "fe7cbb8b-302c-419a-abd1-004d043d4703",
   "metadata": {},
   "outputs": [
    {
     "data": {
      "text/plain": [
       "array([-1.03333333, -1.03333333, -1.1       , -1.06666667, -1.06666667,\n",
       "       -1.1       , -0.7       , -1.1       , -1.1       , -0.93333333,\n",
       "       -0.76666667, -1.1       , -1.03333333, -1.1       , -1.03333333,\n",
       "       -1.        , -0.7       , -0.8       , -1.03333333])"
      ]
     },
     "execution_count": 167,
     "metadata": {},
     "output_type": "execute_result"
    }
   ],
   "source": [
    "np.diag(tr)"
   ]
  },
  {
   "cell_type": "code",
   "execution_count": 168,
   "id": "e21ee47c-c830-492b-b548-264032d2e837",
   "metadata": {},
   "outputs": [
    {
     "data": {
      "text/plain": [
       "array([-3.19189120e-16, -3.05311332e-16, -2.08166817e-16, -1.94289029e-16,\n",
       "       -1.94289029e-16, -3.05311332e-16, -2.77555756e-17, -3.19189120e-16,\n",
       "       -2.08166817e-16, -1.24900090e-16, -1.38777878e-17, -1.94289029e-16,\n",
       "       -1.94289029e-16, -1.94289029e-16, -1.94289029e-16, -8.32667268e-17,\n",
       "       -9.71445147e-17, -9.71445147e-17, -2.22044605e-16])"
      ]
     },
     "execution_count": 168,
     "metadata": {},
     "output_type": "execute_result"
    }
   ],
   "source": [
    "tr.sum(0)"
   ]
  },
  {
   "cell_type": "code",
   "execution_count": 169,
   "id": "1cc75c05-201a-4be2-aa08-ad8065559ba4",
   "metadata": {},
   "outputs": [
    {
     "data": {
      "text/plain": [
       "array([-9.71445147e-17, -8.32667268e-17, -9.71445147e-17,  2.77555756e-17,\n",
       "        2.77555756e-17, -1.94289029e-16,  1.38777878e-17, -2.08166817e-16,\n",
       "       -2.08166817e-16, -6.93889390e-17,  1.38777878e-17, -8.32667268e-17,\n",
       "       -1.94289029e-16, -8.32667268e-17, -1.94289029e-16,  2.77555756e-17,\n",
       "        1.38777878e-17,  1.38777878e-17,  0.00000000e+00])"
      ]
     },
     "execution_count": 169,
     "metadata": {},
     "output_type": "execute_result"
    }
   ],
   "source": [
    "tr.sum(1)"
   ]
  },
  {
   "cell_type": "code",
   "execution_count": null,
   "id": "fdd94983-9596-46b7-8a3c-7d54c1f2d624",
   "metadata": {},
   "outputs": [],
   "source": []
  },
  {
   "cell_type": "code",
   "execution_count": 170,
   "id": "85deec97-f50d-4668-a255-7b0c6f42fde5",
   "metadata": {},
   "outputs": [
    {
     "data": {
      "text/plain": [
       "array([-1.03333333,  0.06666667,  0.03333333,  0.06666667,  0.06666667,\n",
       "        0.06666667,  0.        ,  0.06666667,  0.06666667,  0.06666667,\n",
       "        0.06666667,  0.06666667,  0.06666667,  0.06666667,  0.06666667,\n",
       "        0.06666667,  0.03333333,  0.03333333,  0.06666667])"
      ]
     },
     "execution_count": 170,
     "metadata": {},
     "output_type": "execute_result"
    }
   ],
   "source": [
    "tr[0]"
   ]
  },
  {
   "cell_type": "code",
   "execution_count": null,
   "id": "90d72831-2e47-4443-9253-364ba19a708f",
   "metadata": {},
   "outputs": [],
   "source": []
  },
  {
   "cell_type": "code",
   "execution_count": null,
   "id": "c5ba6975-7def-45e0-aed1-9079ad051bf4",
   "metadata": {},
   "outputs": [],
   "source": []
  },
  {
   "cell_type": "markdown",
   "id": "e5409723-0fc7-4297-934c-2fcbd3b9e5ae",
   "metadata": {},
   "source": [
    "### testing base matrix with various noise schedulers"
   ]
  },
  {
   "cell_type": "code",
   "execution_count": 185,
   "id": "b0a42762-89a2-4ef5-aab6-1dffca79b10f",
   "metadata": {},
   "outputs": [],
   "source": [
    "m = simmat(8, tr)"
   ]
  },
  {
   "cell_type": "code",
   "execution_count": 186,
   "id": "52b10c23-fd7a-47c2-94cb-434284b31a1e",
   "metadata": {},
   "outputs": [
    {
     "data": {
      "text/plain": [
       "array([0.05287917, 0.05274396, 0.0526114 , 0.05268433, 0.05266573,\n",
       "       0.0526417 , 0.05211753, 0.05264302, 0.05264789, 0.05272677,\n",
       "       0.05256704, 0.05268148, 0.05270629, 0.05268148, 0.05263825,\n",
       "       0.05262579, 0.05235408, 0.05265684, 0.05272727])"
      ]
     },
     "execution_count": 186,
     "metadata": {},
     "output_type": "execute_result"
    }
   ],
   "source": [
    "m[0]"
   ]
  },
  {
   "cell_type": "code",
   "execution_count": 24,
   "id": "195ab1a6-a696-49ee-b22a-5ab28c2c2741",
   "metadata": {},
   "outputs": [
    {
     "data": {
      "text/plain": [
       "array([9.99890007e-01, 1.99978501e-05, 5.99932838e-10, 1.99990333e-10,\n",
       "       2.99979834e-10, 3.99965668e-10, 5.00033329e-11, 9.99910005e-06,\n",
       "       7.49912006e-10, 1.99983001e-05, 5.00066658e-11, 9.99920004e-06,\n",
       "       2.99979667e-10, 1.99978501e-05, 9.99930003e-06, 9.99925004e-06,\n",
       "       1.49992500e-10, 1.99987334e-10, 9.99925004e-06])"
      ]
     },
     "execution_count": 24,
     "metadata": {},
     "output_type": "execute_result"
    }
   ],
   "source": [
    "m[0]"
   ]
  },
  {
   "cell_type": "code",
   "execution_count": 262,
   "id": "43a6a224-f090-41cc-9ef6-6e2a5a6589ec",
   "metadata": {},
   "outputs": [
    {
     "data": {
      "text/plain": [
       "array([0.05263675, 0.05263683, 0.0526356 , 0.05263658, 0.05263602,\n",
       "       0.0526362 , 0.05264379, 0.05263768, 0.05263596, 0.05263697,\n",
       "       0.05263654, 0.05263823, 0.05264545, 0.05263633, 0.05265286,\n",
       "       0.05268067, 0.05445235, 0.05318652, 0.05264033])"
      ]
     },
     "execution_count": 262,
     "metadata": {},
     "output_type": "execute_result"
    }
   ],
   "source": [
    "np.diag(m)"
   ]
  },
  {
   "cell_type": "code",
   "execution_count": 263,
   "id": "f72428a6-31a2-445c-97a4-c43b6350e9f3",
   "metadata": {},
   "outputs": [
    {
     "data": {
      "text/plain": [
       "array([1., 1., 1., 1., 1., 1., 1., 1., 1., 1., 1., 1., 1., 1., 1., 1., 1.,\n",
       "       1., 1.])"
      ]
     },
     "execution_count": 263,
     "metadata": {},
     "output_type": "execute_result"
    }
   ],
   "source": [
    "m.sum(0)"
   ]
  },
  {
   "cell_type": "code",
   "execution_count": 264,
   "id": "56edc777-314c-4c5b-9269-17fc26f31b4d",
   "metadata": {},
   "outputs": [
    {
     "data": {
      "text/plain": [
       "array([1., 1., 1., 1., 1., 1., 1., 1., 1., 1., 1., 1., 1., 1., 1., 1., 1.,\n",
       "       1., 1.])"
      ]
     },
     "execution_count": 264,
     "metadata": {},
     "output_type": "execute_result"
    }
   ],
   "source": [
    "m.sum(1)"
   ]
  },
  {
   "cell_type": "markdown",
   "id": "2f83f355-0b69-4e59-8914-d686f2372aa8",
   "metadata": {},
   "source": [
    "### comparision with confusion matrix"
   ]
  },
  {
   "cell_type": "code",
   "execution_count": 21,
   "id": "7f0b7556-1103-4814-84e7-71d6e653ab54",
   "metadata": {},
   "outputs": [],
   "source": [
    "con = np.load('/home/sidd_s/Diffusion_conditional_prior_segmentation/DDPS/tools/saved_files/matrix_numpy/confusion_matrix_cityscapes_segformerb2.npy')"
   ]
  },
  {
   "cell_type": "code",
   "execution_count": 22,
   "id": "1dc12a38-3d9f-431a-8d73-078a8233bf70",
   "metadata": {},
   "outputs": [
    {
     "data": {
      "text/plain": [
       "array([3.42191258e+08, 4.62292430e+07, 1.94722792e+08, 4.86530400e+06,\n",
       "       5.28670000e+06, 1.07098340e+07, 1.55824600e+06, 5.43912900e+06,\n",
       "       1.53996056e+08, 5.48386100e+06, 3.01713920e+07, 1.09683500e+07,\n",
       "       1.54797300e+06, 5.85725870e+07, 2.46212200e+06, 3.40205200e+06,\n",
       "       8.91340000e+05, 6.00022000e+05, 5.86972000e+06])"
      ]
     },
     "execution_count": 22,
     "metadata": {},
     "output_type": "execute_result"
    }
   ],
   "source": [
    "np.diag(con)"
   ]
  },
  {
   "cell_type": "code",
   "execution_count": 25,
   "id": "436d17da-cb8e-49b1-8ef1-c22f7e747f6f",
   "metadata": {},
   "outputs": [
    {
     "data": {
      "text/plain": [
       "array([ -5628417.,  -7248092., -13844283.,  -2487401.,  -3157585.,\n",
       "        -4894851.,   -523629.,  -1211845., -11490689.,  -3156210.,\n",
       "        -1468612.,  -2064963.,   -811242.,  -2678828.,   -401651.,\n",
       "         -322970.,   -191420.,   -234960.,  -1519438.])"
      ]
     },
     "execution_count": 25,
     "metadata": {},
     "output_type": "execute_result"
    }
   ],
   "source": [
    "np.diag(tr)"
   ]
  },
  {
   "cell_type": "code",
   "execution_count": 23,
   "id": "a011150a-55ab-4f48-8eb2-5f7dd26662db",
   "metadata": {},
   "outputs": [
    {
     "data": {
      "text/plain": [
       "array([3.42191258e+08, 2.05861000e+06, 4.92220000e+04, 1.59470000e+04,\n",
       "       2.46830000e+04, 3.69790000e+04, 1.00000000e+00, 1.24110000e+04,\n",
       "       4.58740000e+04, 1.01316000e+05, 7.39700000e+03, 1.13438000e+05,\n",
       "       7.62900000e+03, 4.67588000e+05, 8.48800000e+03, 2.04460000e+04,\n",
       "       5.30000000e+03, 4.17300000e+03, 5.12500000e+04])"
      ]
     },
     "execution_count": 23,
     "metadata": {},
     "output_type": "execute_result"
    }
   ],
   "source": [
    "con[0]"
   ]
  },
  {
   "cell_type": "code",
   "execution_count": 24,
   "id": "8d7564ac-ec6a-4607-a1f7-631c77f24473",
   "metadata": {},
   "outputs": [
    {
     "data": {
      "text/plain": [
       "array([1.14970000e+04, 2.52640000e+05, 1.94722792e+08, 1.44523000e+05,\n",
       "       1.85004000e+05, 7.84863000e+05, 9.77150000e+04, 2.29575000e+05,\n",
       "       3.30994100e+06, 1.56480000e+04, 4.05660000e+05, 2.95075000e+05,\n",
       "       2.96470000e+04, 1.78111000e+05, 2.47580000e+04, 1.55890000e+04,\n",
       "       1.21720000e+04, 6.23000000e+03, 1.73833000e+05])"
      ]
     },
     "execution_count": 24,
     "metadata": {},
     "output_type": "execute_result"
    }
   ],
   "source": [
    "con[2]"
   ]
  },
  {
   "cell_type": "code",
   "execution_count": null,
   "id": "dbb5342d-198a-4e44-b52a-e4aeb780ed9a",
   "metadata": {},
   "outputs": [],
   "source": []
  }
 ],
 "metadata": {
  "kernelspec": {
   "display_name": "Python 3 (ipykernel)",
   "language": "python",
   "name": "python3"
  },
  "language_info": {
   "codemirror_mode": {
    "name": "ipython",
    "version": 3
   },
   "file_extension": ".py",
   "mimetype": "text/x-python",
   "name": "python",
   "nbconvert_exporter": "python",
   "pygments_lexer": "ipython3",
   "version": "3.8.13"
  }
 },
 "nbformat": 4,
 "nbformat_minor": 5
}
