{
 "cells": [
  {
   "cell_type": "code",
   "execution_count": 62,
   "id": "8bf3112f-5f6a-4b39-a398-ba654cd4c258",
   "metadata": {},
   "outputs": [],
   "source": [
    "import torch \n",
    "import seaborn as sns\n",
    "import torch.nn.functional as F\n",
    "import numpy as np\n",
    "import scipy\n",
    "import matplotlib.pyplot as plt \n",
    "from PIL import Image \n",
    "from tqdm import tqdm\n",
    "import os"
   ]
  },
  {
   "cell_type": "code",
   "execution_count": 2,
   "id": "75d3aeed-2397-4fa3-904b-4bafc9e32ea8",
   "metadata": {},
   "outputs": [],
   "source": [
    "ind_2_class_dict = {  \n",
    "    0: \"Road\",\n",
    "    1: \"Sidewalk\", \n",
    "    2: \"Building\",  \n",
    "    3: \"wall\",\n",
    "    4: \"fence\",  \n",
    "    5: \"Pole\", \n",
    "    6: \"Traffic light\",\n",
    "    7: \"Traffic sign\",\n",
    "    8: \"Vegetation\", \n",
    "    9: \"Terrain\",\n",
    "    10: \"Sky\",\n",
    "    11: \"Person\",\n",
    "    12: \"Rider\",\n",
    "    13: \"Car\",\n",
    "    14: \"Truck\",\n",
    "    15: \"Bus\",\n",
    "    16: \"Train\",\n",
    "    17: \"Motorcycle\",\n",
    "    18: \"Bicycle\"\n",
    "}"
   ]
  },
  {
   "cell_type": "code",
   "execution_count": 20,
   "id": "d4e8189b-5612-47a3-b99c-de95d23f55d6",
   "metadata": {},
   "outputs": [],
   "source": [
    "## not required to make similarity matrix from perturbed cityscapes since, we are using the init distribution of original cityscapes, so we want original cityscapes similarity to use MI based noise scheduling!\n",
    "# confusion_matrix_pertubed = np.load('/home/sidd_s/Diffusion_conditional_prior_segmentation/DDP/segmentation/mmseg/models/discrete_diffusion/confusion_similarity_results/perturbed_cityscapes_confusion_segformerb2.npy')\n",
    "# similarity_matrix = confusion_matrix_pertubed.copy()\n",
    "# similarity_matrix = (confusion_matrix.T).copy() # just an exp ## not req\n",
    "\n",
    "## not req; tested and analysed\n",
    "# confusion_matrix = np.load('/home/sidd_s/Diffusion_conditional_prior_segmentation/DDP/segmentation/mmseg/models/discrete_diffusion/confusion_similarity_results/cityscapes_confusion_segformerb2.npy') \n",
    "# similarity_matrix = confusion_matrix.copy()\n",
    "# similarity_matrix_rs = np.sum(similarity_matrix, 1) \n",
    "# similarity_matrix_cs = np.sum(similarity_matrix, 0) \n",
    "# similarity_matrix_diag = np.diag(similarity_matrix) \n",
    "# similarity_matrix_tpfpfn = similarity_matrix_rs + similarity_matrix_cs - similarity_matrix_diag \n",
    "# similarity_matrix_diag_norm = similarity_matrix_diag / similarity_matrix_tpfpfn  # diving diagonal by (tp + fp + fn)\n",
    "# similarity_matrix_rswd = similarity_matrix_rs - similarity_matrix_diag # rows sum without diagonal term \n",
    "# similarity_matrix_div_rswd = similarity_matrix / similarity_matrix_rswd[:, np.newaxis] \n",
    "# np.fill_diagonal(similarity_matrix_div_rswd, similarity_matrix_diag_norm) \n",
    "# similarity_matrix_norm = similarity_matrix_div_rswd.copy()\n",
    "# transition_rate = similarity_matrix_norm - np.diag(np.sum(similarity_matrix_norm, axis=1))\n",
    "\n",
    "\n",
    "confusion_matrix = np.load('/home/sidd_s/Diffusion_conditional_prior_segmentation/DDP/segmentation/mmseg/models/discrete_diffusion/confusion_similarity_results/cityscapes_confusion_segformerb2.npy') \n",
    "similarity_matrix = confusion_matrix.copy()\n",
    "per_label_sums = similarity_matrix.sum(axis=1)[:, np.newaxis]\n",
    "confusion_matrix_norm = similarity_matrix.astype(np.float64) / per_label_sums \n",
    "similarity_matrix_norm = confusion_matrix_norm.copy() \n",
    "transition_rate = similarity_matrix_norm - np.diag(np.sum(similarity_matrix_norm, axis=1))"
   ]
  },
  {
   "cell_type": "code",
   "execution_count": 7,
   "id": "e8529b3d-82fe-4f01-b09a-a8ce7ff1547a",
   "metadata": {},
   "outputs": [],
   "source": [
    "# similarity_matrix_norm"
   ]
  },
  {
   "cell_type": "code",
   "execution_count": 11,
   "id": "5b640606-733c-46d5-b932-9fad09a6bfff",
   "metadata": {},
   "outputs": [],
   "source": [
    "# transition_rate"
   ]
  },
  {
   "cell_type": "code",
   "execution_count": 8,
   "id": "f4a3548e-1683-4313-816f-84f9a2832a68",
   "metadata": {},
   "outputs": [
    {
     "data": {
      "text/plain": [
       "array([0.99122086, 0.93281142, 0.96927513, 0.72393053, 0.70236239,\n",
       "       0.7895353 , 0.8591299 , 0.890135  , 0.97046413, 0.71910661,\n",
       "       0.9825231 , 0.92246752, 0.78555657, 0.98014147, 0.89192163,\n",
       "       0.95450086, 0.86361787, 0.82316352, 0.90291549])"
      ]
     },
     "execution_count": 8,
     "metadata": {},
     "output_type": "execute_result"
    }
   ],
   "source": [
    "np.diag(confusion_matrix_norm) "
   ]
  },
  {
   "cell_type": "code",
   "execution_count": 9,
   "id": "deec7a8d-4c9e-4df7-9e19-ce327d8d783d",
   "metadata": {},
   "outputs": [
    {
     "data": {
      "text/plain": [
       "array([-0.00877914, -0.06718858, -0.03072487, -0.27606947, -0.29763761,\n",
       "       -0.2104647 , -0.1408701 , -0.109865  , -0.02953587, -0.28089339,\n",
       "       -0.0174769 , -0.07753248, -0.21444343, -0.01985853, -0.10807837,\n",
       "       -0.04549914, -0.13638213, -0.17683648, -0.09708451])"
      ]
     },
     "execution_count": 9,
     "metadata": {},
     "output_type": "execute_result"
    }
   ],
   "source": [
    "np.diag(transition_rate)"
   ]
  },
  {
   "cell_type": "code",
   "execution_count": null,
   "id": "d5d1328b-3bb2-4b75-984f-da245b58beda",
   "metadata": {},
   "outputs": [],
   "source": []
  },
  {
   "cell_type": "code",
   "execution_count": null,
   "id": "08303656-7eed-4914-9bf4-3bcfbef095ba",
   "metadata": {},
   "outputs": [],
   "source": [
    "## now solving for stationary distribution (similar to one used for ctmc)\n",
    "## confusion matrix can't be the transition rate matrix \n",
    "\n",
    "Q = confusion_matrix_pertubed_norm.T # as we need to express in the form of Ax = b\n",
    "b = np.zeros((19,)) \n",
    "pi = np.linalg.solve(Q, b)\n",
    "pi # coming to be zero means there is no stationary distribution??"
   ]
  },
  {
   "cell_type": "code",
   "execution_count": null,
   "id": "a347814a-e382-46bf-a007-5264827b47b7",
   "metadata": {},
   "outputs": [],
   "source": []
  },
  {
   "cell_type": "code",
   "execution_count": 15,
   "id": "3c5f55a3-85a7-46d7-832b-7586f7fbfb64",
   "metadata": {},
   "outputs": [
    {
     "data": {
      "text/plain": [
       "array([-0., -0., -0., -0., -0., -0., -0., -0., -0., -0., -0., -0., -0.,\n",
       "       -0., -0., -0., -0.,  0.,  0.])"
      ]
     },
     "execution_count": 15,
     "metadata": {},
     "output_type": "execute_result"
    }
   ],
   "source": [
    "## now solving for stationary distribution (similar to one used for ctmc)\n",
    "\n",
    "Q = transition_rate.T # as we need to express in the form of Ax = b\n",
    "b = np.zeros((19,)) \n",
    "pi = np.linalg.solve(Q, b)\n",
    "pi # coming to be zero means there is no stationary distribution??"
   ]
  },
  {
   "cell_type": "code",
   "execution_count": null,
   "id": "1d418180-c164-42bf-b9b3-d65fd32f7d7d",
   "metadata": {},
   "outputs": [],
   "source": []
  },
  {
   "cell_type": "code",
   "execution_count": null,
   "id": "cd7845c2-ed35-4eef-ba59-c0842838dae6",
   "metadata": {},
   "outputs": [],
   "source": [
    "# def calculate_adjacency_matrix(confusion_matrix, k=3):\n",
    "#     ## calculate adjacency_matrix from confusion matrix \n",
    "#     np.fill_diagonal(confusion_matrix,0) ## removing the dependency of the class with itself  ## its is an inplace argument \n",
    "#     # indices = np.argpartition(confusion_matrix, -k, axis=1)[:, -k:]\n",
    "#     # top_k_values = np.take_along_axis(confusion_matrix, indices, axis=1)\n",
    "#     sorted_indices = np.argsort(confusion_matrix) \n",
    "#     indices_as_ranks = np.argsort(np.argsort(confusion_matrix)) \n",
    "#     indices_which_are_topk_as_bool = (indices_as_ranks >= confusion_matrix.shape[1] - k) # shape[1] used as we need to find it along row \n",
    "#     adjacency_matrix = confusion_matrix * indices_which_are_topk_as_bool\n",
    "#     # print(adjacency_matrix)   \n",
    "#     ## for one hot adjacency matrix \n",
    "#     adjacency_matrix_as_one_hot = adjacency_matrix.copy()\n",
    "#     adjacency_matrix_as_one_hot[adjacency_matrix_as_one_hot>0] = 1 \n",
    "    \n",
    "#     return adjacency_matrix_as_one_hot\n",
    "\n",
    "# k_nn = 4\n",
    "# adjacency_matrix_one_hot = calculate_adjacency_matrix(confusion_matrix=confusion_matrix, k=k_nn) ## for k nearest neighbours\n",
    "# adjacency_matrix_soft = (adjacency_matrix_one_hot + adjacency_matrix_one_hot.T) / (2 * k_nn)\n",
    "# transition_rate_from_adjacency = adjacency_matrix_soft - np.diagflat(np.sum(adjacency_matrix_soft, axis=1))\n",
    "\n",
    "# np.diag(transition_rate_from_adjacency)\n",
    "\n",
    "# # transition_rate_from_adjacency\n",
    "\n",
    "# transition_rate_from_adjacency.sum(1)\n",
    "\n",
    "# transition_rate_from_adjacency.sum(0)\n",
    "\n",
    "# ## valid transiton state does not come form the expression given by D3PM?? \n",
    "\n",
    "# Q = transition_rate_from_adjacency.T # as we need to express in the form of Ax = b\n",
    "# b = np.zeros((19,1)) \n",
    "# pi = np.linalg.solve(Q, b)\n",
    "# pi # coming to be zero means there is no stationary distribution??"
   ]
  },
  {
   "cell_type": "code",
   "execution_count": 21,
   "id": "623223f0-9e76-4f6c-a70e-625c2a77075c",
   "metadata": {},
   "outputs": [],
   "source": [
    "# ## trial\n",
    "\n",
    "# Q = np.array(((1,2), (4,8))) # as we need to express in the form of Ax = b\n",
    "# b = np.zeros((Q.shape[0],1)) \n",
    "# pi = np.linalg.solve(Q, b)\n",
    "# pi # coming to be zero means there is no stationary distribution??"
   ]
  },
  {
   "cell_type": "code",
   "execution_count": null,
   "id": "daa3c9d8-a548-44f4-b95b-d1fb8255197d",
   "metadata": {},
   "outputs": [],
   "source": []
  },
  {
   "cell_type": "code",
   "execution_count": null,
   "id": "4e2115ea-4946-4580-a76c-49c405e82edc",
   "metadata": {},
   "outputs": [],
   "source": []
  },
  {
   "cell_type": "code",
   "execution_count": null,
   "id": "64476ca3-ed52-4617-b3a8-31db45b2a900",
   "metadata": {},
   "outputs": [],
   "source": []
  },
  {
   "cell_type": "code",
   "execution_count": null,
   "id": "f8cf4647-9c85-4a43-9b82-57695fc7d285",
   "metadata": {},
   "outputs": [],
   "source": []
  },
  {
   "cell_type": "code",
   "execution_count": null,
   "id": "152cd1a2-103e-4744-997c-a2e8f7560fb8",
   "metadata": {},
   "outputs": [],
   "source": []
  },
  {
   "cell_type": "code",
   "execution_count": null,
   "id": "1933b5a1-3a4c-448e-b808-fde0a931b89f",
   "metadata": {},
   "outputs": [],
   "source": []
  },
  {
   "cell_type": "code",
   "execution_count": null,
   "id": "93b2f472-e12f-4d00-8a43-eebcce7286a4",
   "metadata": {},
   "outputs": [],
   "source": []
  },
  {
   "cell_type": "code",
   "execution_count": 4,
   "id": "0d95ded2-5243-44fe-bf15-e8d232a86704",
   "metadata": {},
   "outputs": [],
   "source": [
    "# transition_rate\n",
    "# np.diag(transition_rate) "
   ]
  },
  {
   "cell_type": "code",
   "execution_count": 22,
   "id": "447a2fe0-5858-4af8-a1b2-5fc7e085d4a7",
   "metadata": {},
   "outputs": [
    {
     "data": {
      "text/plain": [
       "array([ 1.05628397e-16,  9.71445147e-17,  4.26091454e-17,  6.80878964e-17,\n",
       "        3.98986399e-17, -9.54097912e-18, -1.08420217e-18,  1.43982049e-16,\n",
       "        5.06864516e-17,  5.24753851e-17, -2.79004182e-17, -5.37764278e-17,\n",
       "        2.08166817e-17,  3.40439482e-17, -2.42861287e-17, -4.46691295e-17,\n",
       "       -5.63785130e-18, -3.46944695e-17,  1.38777878e-17])"
      ]
     },
     "execution_count": 22,
     "metadata": {},
     "output_type": "execute_result"
    }
   ],
   "source": [
    "transition_rate.sum(1) # sum to zero, for making a valid base transition matrix"
   ]
  },
  {
   "cell_type": "raw",
   "id": "caeee6c5-8198-4652-867c-0957f99b2b19",
   "metadata": {},
   "source": [
    "Can't test with betas, without forming noise schduling and training, validation results\n",
    "\n",
    "taking risk and going with transition rate of \"similarity rate matrix from similarity_matrix_div_rswd\""
   ]
  },
  {
   "cell_type": "markdown",
   "id": "9bc73e1a-9489-4cd3-a595-dba4d3568889",
   "metadata": {
    "jp-MarkdownHeadingCollapsed": true
   },
   "source": [
    "### different noise scheduling"
   ]
  },
  {
   "cell_type": "code",
   "execution_count": 3,
   "id": "052b3cb0-02ee-4288-aad9-7ec71e09914c",
   "metadata": {},
   "outputs": [],
   "source": [
    "# linear scheduler\n",
    "betas = np.linspace(1e-6, 1e-4,20)\n",
    "btt = betas_tt_arr(betas)"
   ]
  },
  {
   "cell_type": "code",
   "execution_count": 25,
   "id": "49067956-1c54-473a-a3df-5fdbc98f4310",
   "metadata": {},
   "outputs": [],
   "source": [
    "## cosine scheduler "
   ]
  },
  {
   "cell_type": "code",
   "execution_count": 14,
   "id": "ddf4afcd-7075-4ee6-aa84-263c0e4acd57",
   "metadata": {},
   "outputs": [],
   "source": [
    "def cosine_fn(step):\n",
    "      return np.cos((step / num_steps + s) / (1 + s) * np.pi / 2)\n",
    "def schedule_fn(step):\n",
    "      return np.clip(1 - (cosine_fn(step + 1) / cosine_fn(step)), 0, 0.999)"
   ]
  },
  {
   "cell_type": "code",
   "execution_count": 35,
   "id": "ea8364c3-e079-40b6-9c9b-47aabcfa51e6",
   "metadata": {},
   "outputs": [],
   "source": [
    "s = 1e-9\n",
    "betas = []\n",
    "num_steps = 20"
   ]
  },
  {
   "cell_type": "code",
   "execution_count": 36,
   "id": "12974f0e-eab2-43de-aa06-a4918d1e1980",
   "metadata": {},
   "outputs": [],
   "source": [
    "betas = [schedule_fn(step) for step  in range(num_steps)]  \n",
    "betas = np.array(betas)"
   ]
  },
  {
   "cell_type": "code",
   "execution_count": 222,
   "id": "c8da2987-bcd3-49a1-815b-fcf1c4573beb",
   "metadata": {},
   "outputs": [],
   "source": [
    "# betas"
   ]
  },
  {
   "cell_type": "code",
   "execution_count": 134,
   "id": "9eed5157-7ef3-489e-87e9-c44878b49097",
   "metadata": {},
   "outputs": [],
   "source": [
    "def cos_alpha_schedule(time_step, N=20, att_1=0.99999, att_T=0.0001, ctt_1=0.0001, ctt_T=0.99999, exp=3):\n",
    "    att = np.arange(0, time_step)\n",
    "    att = (np.cos((att + time_step) * math.pi * 0.5 / time_step) + 1)**exp\n",
    "    att = att * (att_1 - att_T) + att_T\n",
    "    att = np.concatenate(([1], att))\n",
    "    at = att[1:] / att[:-1]\n",
    "\n",
    "    ctt = np.arange(0, time_step)\n",
    "    ctt = (np.cos((ctt + time_step) * math.pi * 0.5 / time_step) + 1)**exp\n",
    "    ctt = ctt * (ctt_1 - ctt_T) + ctt_T\n",
    "    ctt = np.concatenate(([0], ctt))\n",
    "\n",
    "    one_minus_ctt = 1 - ctt\n",
    "    one_minus_ct = one_minus_ctt[1:] / one_minus_ctt[:-1]\n",
    "    ct = 1 - one_minus_ct\n",
    "    bt = (1 - at - ct) / N\n",
    "    att = np.concatenate((att[1:], [1]))\n",
    "    ctt = np.concatenate((ctt[1:], [0]))\n",
    "    btt = (1 - att - ctt) / N\n",
    "    # return at, bt, ct, att, btt, ctt\n",
    "    return bt "
   ]
  },
  {
   "cell_type": "code",
   "execution_count": 221,
   "id": "06423a22-aac3-4193-a76e-51fda8ebd212",
   "metadata": {},
   "outputs": [],
   "source": [
    "# betas = cos_alpha_schedule(20)\n",
    "# betas "
   ]
  },
  {
   "cell_type": "code",
   "execution_count": 225,
   "id": "b60787b5-49d5-4d1c-8d69-89d443d6c771",
   "metadata": {},
   "outputs": [],
   "source": [
    "# np.power(np.linspace(1e-4, 1e-1, num=20), math.e)"
   ]
  },
  {
   "cell_type": "raw",
   "id": "0d0066e6-e338-46e8-a771-bb85c2a7409f",
   "metadata": {},
   "source": [
    "log space => numbers spaced evenly on a log scale.\n",
    "In linear space, the sequence starts at base ** start (base to the power of start) and ends with base ** stop\n",
    "\n",
    "Slow in the beginning, then rapidly increase in the later stages (kind of like exponential space growth)"
   ]
  },
  {
   "cell_type": "code",
   "execution_count": 226,
   "id": "ab7d4c2f-dd5b-4059-9d72-276d731d0b5c",
   "metadata": {},
   "outputs": [],
   "source": [
    "## testing log space vs linear space"
   ]
  },
  {
   "cell_type": "code",
   "execution_count": 229,
   "id": "757a6f63-481d-443b-9e63-e5c212788379",
   "metadata": {},
   "outputs": [
    {
     "data": {
      "text/plain": [
       "array([ 10.        ,  10.26209321,  10.53105571,  10.80706753,\n",
       "        11.09031343,  11.38098302,  11.67927086,  11.98537662,\n",
       "        12.2995052 ,  12.62186688,  12.95267744,  13.29215833,\n",
       "        13.64053677,  13.99804598,  14.36492526,  14.7414202 ,\n",
       "        15.12778282,  15.52427173,  15.93115236,  16.34869705,\n",
       "        16.7771853 ,  17.21690393,  17.6681473 ,  18.13121744,\n",
       "        18.60642434,  19.09408609,  19.59452913,  20.10808843,\n",
       "        20.63510778,  21.17593994,  21.73094695,  22.30050032,\n",
       "        22.8849813 ,  23.48478112,  24.10030129,  24.73195382,\n",
       "        25.38016154,  26.04535835,  26.72798951,  27.42851197,\n",
       "        28.14739464,  28.88511875,  29.6421781 ,  30.41907947,\n",
       "        31.21634289,  32.03450204,  32.87410459,  33.73571256,\n",
       "        34.61990268,  35.52726683,  36.45841237,  37.41396261,\n",
       "        38.39455717,  39.40085245,  40.43352204,  41.4932572 ,\n",
       "        42.5807673 ,  43.69678031,  44.84204325,  46.01732277,\n",
       "        47.22340555,  48.46109895,  49.73123146,  51.03465327,\n",
       "        52.37223689,  53.74487766,  55.15349442,  56.59903006,\n",
       "        58.08245222,  59.60475386,  61.16695399,  62.77009833,\n",
       "        64.41525999,  66.10354023,  67.83606914,  69.61400646,\n",
       "        71.43854231,  73.310898  ,  75.23232687,  77.20411508,\n",
       "        79.22758253,  81.30408368,  83.43500852,  85.62178345,\n",
       "        87.86587226,  90.16877712,  92.53203956,  94.95724149,\n",
       "        97.44600633, 100.        ])"
      ]
     },
     "execution_count": 229,
     "metadata": {},
     "output_type": "execute_result"
    }
   ],
   "source": [
    "betas = np.logspace(1, 2, base = 10, num=90)\n",
    "betas"
   ]
  },
  {
   "cell_type": "code",
   "execution_count": 3,
   "id": "0cbe97be-6852-46a2-a000-94efdcb1ae2f",
   "metadata": {},
   "outputs": [
    {
     "data": {
      "text/plain": [
       "array([0.0001    , 0.00062105, 0.00114211, 0.00166316, 0.00218421,\n",
       "       0.00270526, 0.00322632, 0.00374737, 0.00426842, 0.00478947,\n",
       "       0.00531053, 0.00583158, 0.00635263, 0.00687368, 0.00739474,\n",
       "       0.00791579, 0.00843684, 0.00895789, 0.00947895, 0.01      ])"
      ]
     },
     "execution_count": 3,
     "metadata": {},
     "output_type": "execute_result"
    }
   ],
   "source": [
    "betas = np.linspace(1e-4, 1e-2, 20)\n",
    "betas"
   ]
  },
  {
   "cell_type": "code",
   "execution_count": 231,
   "id": "49edf923-367f-48fe-a013-e12d09a7d976",
   "metadata": {},
   "outputs": [],
   "source": [
    "# betas = np.logspace(-13, -9, base = math.e, num=20)\n",
    "# betas"
   ]
  },
  {
   "cell_type": "code",
   "execution_count": 4,
   "id": "29043645-cbea-4155-8bd3-b43a162d92fe",
   "metadata": {},
   "outputs": [
    {
     "data": {
      "text/plain": [
       "array([1.00000000e-04, 1.27427499e-04, 1.62377674e-04, 2.06913808e-04,\n",
       "       2.63665090e-04, 3.35981829e-04, 4.28133240e-04, 5.45559478e-04,\n",
       "       6.95192796e-04, 8.85866790e-04, 1.12883789e-03, 1.43844989e-03,\n",
       "       1.83298071e-03, 2.33572147e-03, 2.97635144e-03, 3.79269019e-03,\n",
       "       4.83293024e-03, 6.15848211e-03, 7.84759970e-03, 1.00000000e-02])"
      ]
     },
     "execution_count": 4,
     "metadata": {},
     "output_type": "execute_result"
    }
   ],
   "source": [
    "betas = np.logspace(-4, -2, base = 10, num=20)\n",
    "betas"
   ]
  },
  {
   "cell_type": "code",
   "execution_count": 259,
   "id": "8a72327e-6ecc-4b95-ba1d-e7153427be39",
   "metadata": {},
   "outputs": [],
   "source": [
    "# betas[5]"
   ]
  },
  {
   "cell_type": "code",
   "execution_count": 220,
   "id": "49ef145f-f162-4c71-b777-41aafe642c56",
   "metadata": {},
   "outputs": [],
   "source": [
    "# betas = np.geomspace(1e-6, 1e-4, 20)\n",
    "# betas \n",
    "## similar to np.logspcace "
   ]
  },
  {
   "cell_type": "code",
   "execution_count": 232,
   "id": "ea8a1524-e060-480a-9bb9-0d3efad87806",
   "metadata": {},
   "outputs": [],
   "source": [
    "# betas = np.linspace(3.16e-6, 1e-4,20)\n",
    "# betas"
   ]
  },
  {
   "cell_type": "markdown",
   "id": "115b2492-533d-4e2a-9a77-b467f5d16533",
   "metadata": {
    "jp-MarkdownHeadingCollapsed": true
   },
   "source": [
    "### Adjacency matrix calc from confusion matrix"
   ]
  },
  {
   "cell_type": "code",
   "execution_count": 5,
   "id": "82e13875-1355-441d-ae1b-4a000814c81d",
   "metadata": {},
   "outputs": [],
   "source": [
    "def calculate_adjacency_matrix(confusion_matrix, k=3):\n",
    "    ## calculate adjacency_matrix from confusion matrix \n",
    "    np.fill_diagonal(confusion_matrix,0) ## removing the dependency of the class with itself  ## its is an inplace argument \n",
    "    # indices = np.argpartition(confusion_matrix, -k, axis=1)[:, -k:]\n",
    "    # top_k_values = np.take_along_axis(confusion_matrix, indices, axis=1)\n",
    "    sorted_indices = np.argsort(confusion_matrix) \n",
    "    indices_as_ranks = np.argsort(np.argsort(confusion_matrix)) \n",
    "    indices_which_are_topk_as_bool = (indices_as_ranks >= confusion_matrix.shape[1] - k) # shape[1] used as we need to find it along row \n",
    "    adjacency_matrix = confusion_matrix * indices_which_are_topk_as_bool\n",
    "    # print(adjacency_matrix)   \n",
    "    ## for one hot adjacency matrix \n",
    "    adjacency_matrix_as_one_hot = adjacency_matrix.copy()\n",
    "    adjacency_matrix_as_one_hot[adjacency_matrix_as_one_hot>0] = 1 \n",
    "    \n",
    "    return adjacency_matrix_as_one_hot"
   ]
  },
  {
   "cell_type": "code",
   "execution_count": 161,
   "id": "f5fd9319-5b9c-40c6-a07e-6fe76aa36ff8",
   "metadata": {},
   "outputs": [],
   "source": [
    "adj =calculate_adjacency_matrix(con, k=15)"
   ]
  },
  {
   "cell_type": "code",
   "execution_count": 162,
   "id": "427e498c-a824-48b1-ba60-adfb924f0668",
   "metadata": {},
   "outputs": [
    {
     "data": {
      "text/plain": [
       "(19, 19)"
      ]
     },
     "execution_count": 162,
     "metadata": {},
     "output_type": "execute_result"
    }
   ],
   "source": [
    "adj.shape"
   ]
  },
  {
   "cell_type": "code",
   "execution_count": 163,
   "id": "4cbb4df0-2172-467d-a431-9c34eef9f963",
   "metadata": {},
   "outputs": [
    {
     "data": {
      "text/plain": [
       "array([0., 1., 1., 1., 1., 1., 0., 1., 1., 1., 1., 1., 1., 1., 1., 1., 0.,\n",
       "       0., 1.])"
      ]
     },
     "execution_count": 163,
     "metadata": {},
     "output_type": "execute_result"
    }
   ],
   "source": [
    "adj[0]"
   ]
  },
  {
   "cell_type": "code",
   "execution_count": 164,
   "id": "bf1b31a9-320c-492e-b385-6c0b5718179e",
   "metadata": {},
   "outputs": [],
   "source": [
    "adj_s = (adj + adj.T) / 30"
   ]
  },
  {
   "cell_type": "code",
   "execution_count": 165,
   "id": "ad3dd6b3-9c33-4fe3-9fab-47d822a32607",
   "metadata": {},
   "outputs": [
    {
     "data": {
      "text/plain": [
       "array([0.        , 0.06666667, 0.03333333, 0.06666667, 0.06666667,\n",
       "       0.06666667, 0.        , 0.06666667, 0.06666667, 0.06666667,\n",
       "       0.06666667, 0.06666667, 0.06666667, 0.06666667, 0.06666667,\n",
       "       0.06666667, 0.03333333, 0.03333333, 0.06666667])"
      ]
     },
     "execution_count": 165,
     "metadata": {},
     "output_type": "execute_result"
    }
   ],
   "source": [
    "adj_s[0]"
   ]
  },
  {
   "cell_type": "code",
   "execution_count": 166,
   "id": "0def6ac1-2582-4a85-9d40-4e78dde632bf",
   "metadata": {},
   "outputs": [],
   "source": [
    "tr = adj_s - np.diagflat(np.sum(adj_s,axis =1))"
   ]
  },
  {
   "cell_type": "code",
   "execution_count": 167,
   "id": "fe7cbb8b-302c-419a-abd1-004d043d4703",
   "metadata": {},
   "outputs": [
    {
     "data": {
      "text/plain": [
       "array([-1.03333333, -1.03333333, -1.1       , -1.06666667, -1.06666667,\n",
       "       -1.1       , -0.7       , -1.1       , -1.1       , -0.93333333,\n",
       "       -0.76666667, -1.1       , -1.03333333, -1.1       , -1.03333333,\n",
       "       -1.        , -0.7       , -0.8       , -1.03333333])"
      ]
     },
     "execution_count": 167,
     "metadata": {},
     "output_type": "execute_result"
    }
   ],
   "source": [
    "np.diag(tr)"
   ]
  },
  {
   "cell_type": "code",
   "execution_count": 168,
   "id": "e21ee47c-c830-492b-b548-264032d2e837",
   "metadata": {},
   "outputs": [
    {
     "data": {
      "text/plain": [
       "array([-3.19189120e-16, -3.05311332e-16, -2.08166817e-16, -1.94289029e-16,\n",
       "       -1.94289029e-16, -3.05311332e-16, -2.77555756e-17, -3.19189120e-16,\n",
       "       -2.08166817e-16, -1.24900090e-16, -1.38777878e-17, -1.94289029e-16,\n",
       "       -1.94289029e-16, -1.94289029e-16, -1.94289029e-16, -8.32667268e-17,\n",
       "       -9.71445147e-17, -9.71445147e-17, -2.22044605e-16])"
      ]
     },
     "execution_count": 168,
     "metadata": {},
     "output_type": "execute_result"
    }
   ],
   "source": [
    "tr.sum(0)"
   ]
  },
  {
   "cell_type": "code",
   "execution_count": 169,
   "id": "1cc75c05-201a-4be2-aa08-ad8065559ba4",
   "metadata": {},
   "outputs": [
    {
     "data": {
      "text/plain": [
       "array([-9.71445147e-17, -8.32667268e-17, -9.71445147e-17,  2.77555756e-17,\n",
       "        2.77555756e-17, -1.94289029e-16,  1.38777878e-17, -2.08166817e-16,\n",
       "       -2.08166817e-16, -6.93889390e-17,  1.38777878e-17, -8.32667268e-17,\n",
       "       -1.94289029e-16, -8.32667268e-17, -1.94289029e-16,  2.77555756e-17,\n",
       "        1.38777878e-17,  1.38777878e-17,  0.00000000e+00])"
      ]
     },
     "execution_count": 169,
     "metadata": {},
     "output_type": "execute_result"
    }
   ],
   "source": [
    "tr.sum(1)"
   ]
  },
  {
   "cell_type": "code",
   "execution_count": null,
   "id": "fdd94983-9596-46b7-8a3c-7d54c1f2d624",
   "metadata": {},
   "outputs": [],
   "source": []
  },
  {
   "cell_type": "code",
   "execution_count": 170,
   "id": "85deec97-f50d-4668-a255-7b0c6f42fde5",
   "metadata": {},
   "outputs": [
    {
     "data": {
      "text/plain": [
       "array([-1.03333333,  0.06666667,  0.03333333,  0.06666667,  0.06666667,\n",
       "        0.06666667,  0.        ,  0.06666667,  0.06666667,  0.06666667,\n",
       "        0.06666667,  0.06666667,  0.06666667,  0.06666667,  0.06666667,\n",
       "        0.06666667,  0.03333333,  0.03333333,  0.06666667])"
      ]
     },
     "execution_count": 170,
     "metadata": {},
     "output_type": "execute_result"
    }
   ],
   "source": [
    "tr[0]"
   ]
  },
  {
   "cell_type": "code",
   "execution_count": null,
   "id": "90d72831-2e47-4443-9253-364ba19a708f",
   "metadata": {},
   "outputs": [],
   "source": []
  },
  {
   "cell_type": "code",
   "execution_count": null,
   "id": "c5ba6975-7def-45e0-aed1-9079ad051bf4",
   "metadata": {},
   "outputs": [],
   "source": []
  },
  {
   "cell_type": "markdown",
   "id": "e5409723-0fc7-4297-934c-2fcbd3b9e5ae",
   "metadata": {
    "jp-MarkdownHeadingCollapsed": true
   },
   "source": [
    "### testing base matrix with various noise schedulers"
   ]
  },
  {
   "cell_type": "code",
   "execution_count": 185,
   "id": "b0a42762-89a2-4ef5-aab6-1dffca79b10f",
   "metadata": {},
   "outputs": [],
   "source": [
    "m = simmat(8, tr)"
   ]
  },
  {
   "cell_type": "code",
   "execution_count": 186,
   "id": "52b10c23-fd7a-47c2-94cb-434284b31a1e",
   "metadata": {},
   "outputs": [
    {
     "data": {
      "text/plain": [
       "array([0.05287917, 0.05274396, 0.0526114 , 0.05268433, 0.05266573,\n",
       "       0.0526417 , 0.05211753, 0.05264302, 0.05264789, 0.05272677,\n",
       "       0.05256704, 0.05268148, 0.05270629, 0.05268148, 0.05263825,\n",
       "       0.05262579, 0.05235408, 0.05265684, 0.05272727])"
      ]
     },
     "execution_count": 186,
     "metadata": {},
     "output_type": "execute_result"
    }
   ],
   "source": [
    "m[0]"
   ]
  },
  {
   "cell_type": "code",
   "execution_count": 24,
   "id": "195ab1a6-a696-49ee-b22a-5ab28c2c2741",
   "metadata": {},
   "outputs": [
    {
     "data": {
      "text/plain": [
       "array([9.99890007e-01, 1.99978501e-05, 5.99932838e-10, 1.99990333e-10,\n",
       "       2.99979834e-10, 3.99965668e-10, 5.00033329e-11, 9.99910005e-06,\n",
       "       7.49912006e-10, 1.99983001e-05, 5.00066658e-11, 9.99920004e-06,\n",
       "       2.99979667e-10, 1.99978501e-05, 9.99930003e-06, 9.99925004e-06,\n",
       "       1.49992500e-10, 1.99987334e-10, 9.99925004e-06])"
      ]
     },
     "execution_count": 24,
     "metadata": {},
     "output_type": "execute_result"
    }
   ],
   "source": [
    "m[0]"
   ]
  },
  {
   "cell_type": "code",
   "execution_count": 262,
   "id": "43a6a224-f090-41cc-9ef6-6e2a5a6589ec",
   "metadata": {},
   "outputs": [
    {
     "data": {
      "text/plain": [
       "array([0.05263675, 0.05263683, 0.0526356 , 0.05263658, 0.05263602,\n",
       "       0.0526362 , 0.05264379, 0.05263768, 0.05263596, 0.05263697,\n",
       "       0.05263654, 0.05263823, 0.05264545, 0.05263633, 0.05265286,\n",
       "       0.05268067, 0.05445235, 0.05318652, 0.05264033])"
      ]
     },
     "execution_count": 262,
     "metadata": {},
     "output_type": "execute_result"
    }
   ],
   "source": [
    "np.diag(m)"
   ]
  },
  {
   "cell_type": "code",
   "execution_count": 263,
   "id": "f72428a6-31a2-445c-97a4-c43b6350e9f3",
   "metadata": {},
   "outputs": [
    {
     "data": {
      "text/plain": [
       "array([1., 1., 1., 1., 1., 1., 1., 1., 1., 1., 1., 1., 1., 1., 1., 1., 1.,\n",
       "       1., 1.])"
      ]
     },
     "execution_count": 263,
     "metadata": {},
     "output_type": "execute_result"
    }
   ],
   "source": [
    "m.sum(0)"
   ]
  },
  {
   "cell_type": "code",
   "execution_count": 264,
   "id": "56edc777-314c-4c5b-9269-17fc26f31b4d",
   "metadata": {},
   "outputs": [
    {
     "data": {
      "text/plain": [
       "array([1., 1., 1., 1., 1., 1., 1., 1., 1., 1., 1., 1., 1., 1., 1., 1., 1.,\n",
       "       1., 1.])"
      ]
     },
     "execution_count": 264,
     "metadata": {},
     "output_type": "execute_result"
    }
   ],
   "source": [
    "m.sum(1)"
   ]
  },
  {
   "cell_type": "markdown",
   "id": "2f83f355-0b69-4e59-8914-d686f2372aa8",
   "metadata": {
    "jp-MarkdownHeadingCollapsed": true
   },
   "source": [
    "### comparision with confusion matrix"
   ]
  },
  {
   "cell_type": "code",
   "execution_count": 4,
   "id": "7f0b7556-1103-4814-84e7-71d6e653ab54",
   "metadata": {},
   "outputs": [],
   "source": [
    "con = np.load('/home/sidd_s/Diffusion_conditional_prior_segmentation/DDPS/tools/saved_files/matrix_numpy/confusion_matrix_cityscapes_segformerb2.npy')"
   ]
  },
  {
   "cell_type": "code",
   "execution_count": 5,
   "id": "1dc12a38-3d9f-431a-8d73-078a8233bf70",
   "metadata": {},
   "outputs": [
    {
     "data": {
      "text/plain": [
       "array([3.42191258e+08, 4.62292430e+07, 1.94722792e+08, 4.86530400e+06,\n",
       "       5.28670000e+06, 1.07098340e+07, 1.55824600e+06, 5.43912900e+06,\n",
       "       1.53996056e+08, 5.48386100e+06, 3.01713920e+07, 1.09683500e+07,\n",
       "       1.54797300e+06, 5.85725870e+07, 2.46212200e+06, 3.40205200e+06,\n",
       "       8.91340000e+05, 6.00022000e+05, 5.86972000e+06])"
      ]
     },
     "execution_count": 5,
     "metadata": {},
     "output_type": "execute_result"
    }
   ],
   "source": [
    "np.diag(con)"
   ]
  },
  {
   "cell_type": "code",
   "execution_count": 25,
   "id": "436d17da-cb8e-49b1-8ef1-c22f7e747f6f",
   "metadata": {},
   "outputs": [
    {
     "data": {
      "text/plain": [
       "array([ -5628417.,  -7248092., -13844283.,  -2487401.,  -3157585.,\n",
       "        -4894851.,   -523629.,  -1211845., -11490689.,  -3156210.,\n",
       "        -1468612.,  -2064963.,   -811242.,  -2678828.,   -401651.,\n",
       "         -322970.,   -191420.,   -234960.,  -1519438.])"
      ]
     },
     "execution_count": 25,
     "metadata": {},
     "output_type": "execute_result"
    }
   ],
   "source": [
    "np.diag(tr)"
   ]
  },
  {
   "cell_type": "code",
   "execution_count": 23,
   "id": "a011150a-55ab-4f48-8eb2-5f7dd26662db",
   "metadata": {},
   "outputs": [
    {
     "data": {
      "text/plain": [
       "array([3.42191258e+08, 2.05861000e+06, 4.92220000e+04, 1.59470000e+04,\n",
       "       2.46830000e+04, 3.69790000e+04, 1.00000000e+00, 1.24110000e+04,\n",
       "       4.58740000e+04, 1.01316000e+05, 7.39700000e+03, 1.13438000e+05,\n",
       "       7.62900000e+03, 4.67588000e+05, 8.48800000e+03, 2.04460000e+04,\n",
       "       5.30000000e+03, 4.17300000e+03, 5.12500000e+04])"
      ]
     },
     "execution_count": 23,
     "metadata": {},
     "output_type": "execute_result"
    }
   ],
   "source": [
    "con[0]"
   ]
  },
  {
   "cell_type": "code",
   "execution_count": 24,
   "id": "8d7564ac-ec6a-4607-a1f7-631c77f24473",
   "metadata": {},
   "outputs": [
    {
     "data": {
      "text/plain": [
       "array([1.14970000e+04, 2.52640000e+05, 1.94722792e+08, 1.44523000e+05,\n",
       "       1.85004000e+05, 7.84863000e+05, 9.77150000e+04, 2.29575000e+05,\n",
       "       3.30994100e+06, 1.56480000e+04, 4.05660000e+05, 2.95075000e+05,\n",
       "       2.96470000e+04, 1.78111000e+05, 2.47580000e+04, 1.55890000e+04,\n",
       "       1.21720000e+04, 6.23000000e+03, 1.73833000e+05])"
      ]
     },
     "execution_count": 24,
     "metadata": {},
     "output_type": "execute_result"
    }
   ],
   "source": [
    "con[2]"
   ]
  },
  {
   "cell_type": "markdown",
   "id": "5efd27b1-2378-40aa-b3c3-1c529810ff85",
   "metadata": {
    "jp-MarkdownHeadingCollapsed": true
   },
   "source": [
    "### testing rough work"
   ]
  },
  {
   "cell_type": "code",
   "execution_count": 5,
   "id": "4d4209f0-5698-42bd-8dce-31ea19cad0e3",
   "metadata": {},
   "outputs": [],
   "source": [
    "# con = torch.tensor(np.load('/home/sidd_s/Diffusion_conditional_prior_segmentation/DDPS/tools/saved_files/matrix_numpy/confusion_matrix_cityscapes_segformerb2.npy'))\n",
    "\n",
    "# test = torch.ones((19,19))\n",
    "\n",
    "# test.shape\n",
    "\n",
    "# test_p = F.pad(input=test, pad=(0, 1, 0, 1), mode='constant', value=0)\n",
    "\n",
    "# test_p[:,-1]\n",
    "\n",
    "# test_p[-1,:]\n",
    "\n",
    "# test_p[0]\n",
    "\n",
    "# t2 = torch.matmul(test_p, test_p)\n",
    "\n",
    "# t2.shape\n",
    "\n",
    "# t2[-1,:] \n",
    "\n",
    "# t2[:, -1]\n",
    "\n",
    "# t2[0]\n",
    "\n",
    "# t3 = torch.matmul(t2, test_p)\n",
    "\n",
    "# # t3\n",
    "\n",
    "# test = torch.ones((20,20,20))\n",
    "\n",
    "# test = test.tril()\n",
    "\n",
    "# test.transpose()"
   ]
  },
  {
   "cell_type": "code",
   "execution_count": 12,
   "id": "e01ed034-4ccd-428e-8412-2ded737bcc8f",
   "metadata": {},
   "outputs": [],
   "source": [
    "path = '/home/sidd_s/scratch/dataset/cityscapes/gtFine/val/frankfurt/frankfurt_000000_000294_gtFine_labelTrainIds.png'"
   ]
  },
  {
   "cell_type": "code",
   "execution_count": 13,
   "id": "7f1e13ff-77c3-4c72-977d-2ecbaa825a78",
   "metadata": {},
   "outputs": [],
   "source": [
    "gt = torch.tensor(np.array(Image.open(path))) "
   ]
  },
  {
   "cell_type": "code",
   "execution_count": 15,
   "id": "a69901c9-a5f4-4e56-b482-c6e825354146",
   "metadata": {},
   "outputs": [
    {
     "data": {
      "image/png": "[encoded data removed]",
      "text/plain": [
       "<PIL.PngImagePlugin.PngImageFile image mode=RGBA size=2048x1024>"
      ]
     },
     "execution_count": 15,
     "metadata": {},
     "output_type": "execute_result"
    }
   ],
   "source": [
    "path_col = path.replace('_gtFine_labelTrainIds.png', '_gtFine_color.png')\n",
    "Image.open(path_col)"
   ]
  },
  {
   "cell_type": "code",
   "execution_count": null,
   "id": "03e00961-5b61-43e6-9749-c37668817593",
   "metadata": {},
   "outputs": [],
   "source": []
  },
  {
   "cell_type": "code",
   "execution_count": 8,
   "id": "ccda26a5-637f-40f5-9fe7-b5e13190fe8d",
   "metadata": {},
   "outputs": [
    {
     "data": {
      "text/plain": [
       "(tensor([  0,   1,   2,   4,   5,   7,   8,  10,  11,  13, 255],\n",
       "        dtype=torch.uint8),\n",
       " torch.Size([1024, 2048]))"
      ]
     },
     "execution_count": 8,
     "metadata": {},
     "output_type": "execute_result"
    }
   ],
   "source": [
    "gt.unique() , gt.shape"
   ]
  },
  {
   "cell_type": "code",
   "execution_count": 11,
   "id": "a260e214-0d2c-41a5-9bc9-b59d1443ad1f",
   "metadata": {},
   "outputs": [
    {
     "data": {
      "text/plain": [
       "(torch.Size([242742]),\n",
       " tensor([      0,       1,       2,  ..., 2097149, 2097150, 2097151]))"
      ]
     },
     "execution_count": 11,
     "metadata": {},
     "output_type": "execute_result"
    }
   ],
   "source": [
    "idx_bg = torch.where(gt.view(-1) == 255)[0]\n",
    "idx_bg.shape, idx_bg"
   ]
  },
  {
   "cell_type": "code",
   "execution_count": null,
   "id": "76e21d7e-2ca7-481f-bbf7-474c52c318ff",
   "metadata": {},
   "outputs": [],
   "source": [
    "## have to replace these idx values with random probability of being either 0, 1 "
   ]
  },
  {
   "cell_type": "code",
   "execution_count": 28,
   "id": "46f153bd-6ee6-4491-8e46-f95cedb31343",
   "metadata": {},
   "outputs": [
    {
     "data": {
      "text/plain": [
       "torch.Size([20, 19, 19])"
      ]
     },
     "execution_count": 28,
     "metadata": {},
     "output_type": "execute_result"
    }
   ],
   "source": [
    "t = torch.rand((20,19, 19))\n",
    "t.shape"
   ]
  },
  {
   "cell_type": "code",
   "execution_count": 51,
   "id": "750b4c51-1e45-478a-a6f4-f53dc9caa319",
   "metadata": {},
   "outputs": [
    {
     "data": {
      "text/plain": [
       "tensor([0.5453, 0.0664, 0.3263, 0.5510, 0.3300, 0.0041, 0.0373, 0.3933, 0.5013,\n",
       "        0.4777, 0.8399, 0.5230, 0.9674, 0.8247, 0.9597, 0.5932, 0.8471, 0.6615,\n",
       "        0.1358])"
      ]
     },
     "execution_count": 51,
     "metadata": {},
     "output_type": "execute_result"
    }
   ],
   "source": [
    "t[9][-2]"
   ]
  },
  {
   "cell_type": "code",
   "execution_count": 39,
   "id": "8e6db3c8-3d31-412f-b0da-68b6b378c12e",
   "metadata": {},
   "outputs": [],
   "source": [
    "f = torch.zeros((20,20,20)) \n",
    "f[:, :19, :19] = t \n",
    "# f[0][-2] "
   ]
  },
  {
   "cell_type": "code",
   "execution_count": 40,
   "id": "967ce7bf-5644-48ac-b824-679980c5fb44",
   "metadata": {},
   "outputs": [],
   "source": [
    "f[:, -1, -1] = 1  ## absorbing state for the background"
   ]
  },
  {
   "cell_type": "code",
   "execution_count": 52,
   "id": "f6d55085-c810-49ad-9714-da55650b0c57",
   "metadata": {},
   "outputs": [
    {
     "data": {
      "text/plain": [
       "tensor([0.5453, 0.0664, 0.3263, 0.5510, 0.3300, 0.0041, 0.0373, 0.3933, 0.5013,\n",
       "        0.4777, 0.8399, 0.5230, 0.9674, 0.8247, 0.9597, 0.5932, 0.8471, 0.6615,\n",
       "        0.1358, 0.0000])"
      ]
     },
     "execution_count": 52,
     "metadata": {},
     "output_type": "execute_result"
    }
   ],
   "source": [
    "f[9][-3]"
   ]
  },
  {
   "cell_type": "code",
   "execution_count": 53,
   "id": "5cea1914-e39c-47ff-be01-01aa79f6ba59",
   "metadata": {},
   "outputs": [],
   "source": [
    "## to load the prediciton of segformerb2 model"
   ]
  },
  {
   "cell_type": "code",
   "execution_count": null,
   "id": "9a915e21-d2dd-4075-8c3c-8fd0cda766e9",
   "metadata": {},
   "outputs": [],
   "source": []
  },
  {
   "cell_type": "code",
   "execution_count": null,
   "id": "819eb14c-37b2-484a-bca2-008795985a97",
   "metadata": {},
   "outputs": [],
   "source": []
  },
  {
   "cell_type": "code",
   "execution_count": null,
   "id": "9481b5c8-aa2e-41a2-8e76-2fe95f01695d",
   "metadata": {},
   "outputs": [],
   "source": []
  },
  {
   "cell_type": "code",
   "execution_count": null,
   "id": "d5abee73-b778-4353-b7ed-aafca681aae0",
   "metadata": {},
   "outputs": [],
   "source": []
  },
  {
   "cell_type": "code",
   "execution_count": null,
   "id": "2fce7bd3-335f-4a1c-9c5e-6617d54faf8d",
   "metadata": {},
   "outputs": [],
   "source": []
  },
  {
   "cell_type": "code",
   "execution_count": null,
   "id": "e42b138b-dfb6-4806-bcd1-3255de0f9d7f",
   "metadata": {},
   "outputs": [],
   "source": []
  },
  {
   "cell_type": "markdown",
   "id": "91efc342-87c6-4d28-b1b8-024cf81ba604",
   "metadata": {
    "jp-MarkdownHeadingCollapsed": true
   },
   "source": [
    "### testing for which Transition matrix type to be used "
   ]
  },
  {
   "cell_type": "code",
   "execution_count": 7,
   "id": "bc309f7d-0896-42f8-874d-641ae3fd1739",
   "metadata": {},
   "outputs": [],
   "source": [
    "def calculate_adjacency_matrix(confusion_matrix, k=3):\n",
    "    ## calculate adjacency_matrix from confusion matrix \n",
    "    np.fill_diagonal(confusion_matrix,0) ## removing the dependency of the class with itself  ## its is an inplace argument \n",
    "    sorted_indices = np.argsort(confusion_matrix) \n",
    "    indices_as_ranks = np.argsort(np.argsort(confusion_matrix)) \n",
    "    indices_which_are_topk_as_bool = (indices_as_ranks >= confusion_matrix.shape[1] - k) # shape[1] used as we need to find it along row \n",
    "    adjacency_matrix = confusion_matrix * indices_which_are_topk_as_bool\n",
    "    adjacency_matrix_as_one_hot = adjacency_matrix.copy()\n",
    "    adjacency_matrix_as_one_hot[adjacency_matrix_as_one_hot>0] = 1 \n",
    "    \n",
    "    return adjacency_matrix_as_one_hot"
   ]
  },
  {
   "cell_type": "code",
   "execution_count": 8,
   "id": "21b36a96-0449-4476-8752-7056b83542f7",
   "metadata": {},
   "outputs": [],
   "source": [
    "adj =calculate_adjacency_matrix(con, k=5)"
   ]
  },
  {
   "cell_type": "code",
   "execution_count": 9,
   "id": "ca8f77f2-f72f-48cf-a368-a14303821159",
   "metadata": {},
   "outputs": [
    {
     "data": {
      "text/plain": [
       "(19, 19)"
      ]
     },
     "execution_count": 9,
     "metadata": {},
     "output_type": "execute_result"
    }
   ],
   "source": [
    "adj.shape"
   ]
  },
  {
   "cell_type": "code",
   "execution_count": 10,
   "id": "bef329cd-6a78-4327-8482-1e4df47e5ae6",
   "metadata": {},
   "outputs": [
    {
     "data": {
      "text/plain": [
       "array([0., 1., 0., 0., 0., 0., 0., 0., 0., 1., 0., 1., 0., 1., 0., 0., 0.,\n",
       "       0., 1.])"
      ]
     },
     "execution_count": 10,
     "metadata": {},
     "output_type": "execute_result"
    }
   ],
   "source": [
    "adj[0]"
   ]
  },
  {
   "cell_type": "code",
   "execution_count": 14,
   "id": "682dc020-dab6-40b4-b3f0-2c87c2d23f1f",
   "metadata": {},
   "outputs": [],
   "source": [
    "adjacency_matrix_soft = (adj + adj.T) / 10"
   ]
  },
  {
   "cell_type": "code",
   "execution_count": 16,
   "id": "d9500bdd-3045-436a-b9cd-eb0a8756f197",
   "metadata": {},
   "outputs": [],
   "source": [
    "transition_rate = adjacency_matrix_soft - np.diagflat(np.sum(adjacency_matrix_soft, axis=1))"
   ]
  },
  {
   "cell_type": "code",
   "execution_count": 18,
   "id": "601925e2-b50b-4f3f-bc8e-d4e0a0c43198",
   "metadata": {},
   "outputs": [
    {
     "data": {
      "text/plain": [
       "array([-1.1, -1.3, -2.1, -0.7, -0.9, -1.4, -0.7, -0.7, -2.1, -0.8, -0.9,\n",
       "       -1.1, -0.8, -1.3, -0.5, -0.6, -0.5, -0.5, -1. ])"
      ]
     },
     "execution_count": 18,
     "metadata": {},
     "output_type": "execute_result"
    }
   ],
   "source": [
    "np.diag(transition_rate)"
   ]
  },
  {
   "cell_type": "code",
   "execution_count": 19,
   "id": "4663ce8e-18ea-4cb7-b6eb-ba5ef03e15c5",
   "metadata": {},
   "outputs": [
    {
     "data": {
      "text/plain": [
       "array([-8.32667268e-17, -1.94289029e-16, -2.77555756e-17,  2.77555756e-17,\n",
       "       -1.38777878e-16, -8.32667268e-17, -2.77555756e-17, -5.55111512e-17,\n",
       "       -2.49800181e-16,  0.00000000e+00,  2.77555756e-17, -2.77555756e-17,\n",
       "       -2.77555756e-17, -1.38777878e-16,  0.00000000e+00,  2.77555756e-17,\n",
       "        0.00000000e+00,  2.77555756e-17, -1.11022302e-16])"
      ]
     },
     "execution_count": 19,
     "metadata": {},
     "output_type": "execute_result"
    }
   ],
   "source": [
    "transition_rate.sum(0)"
   ]
  },
  {
   "cell_type": "code",
   "execution_count": 21,
   "id": "68c684dd-9fa3-42c2-8a04-c2cc587cc4eb",
   "metadata": {},
   "outputs": [
    {
     "data": {
      "text/plain": [
       "array([-8.32667268e-17,  0.00000000e+00, -1.38777878e-16,  0.00000000e+00,\n",
       "        0.00000000e+00,  1.11022302e-16, -5.55111512e-17, -5.55111512e-17,\n",
       "       -5.55111512e-17, -5.55111512e-17,  8.32667268e-17, -2.77555756e-17,\n",
       "       -2.77555756e-17,  8.32667268e-17,  5.55111512e-17,  8.32667268e-17,\n",
       "        0.00000000e+00,  2.77555756e-17,  0.00000000e+00])"
      ]
     },
     "execution_count": 21,
     "metadata": {},
     "output_type": "execute_result"
    }
   ],
   "source": [
    "transition_rate.sum(1)"
   ]
  },
  {
   "cell_type": "code",
   "execution_count": 50,
   "id": "2f9c24f6-c9ea-48e4-b590-c7b6aeec93ef",
   "metadata": {},
   "outputs": [],
   "source": [
    "betas = 2.5e1"
   ]
  },
  {
   "cell_type": "code",
   "execution_count": 51,
   "id": "4cff42a0-b9fb-44c6-8096-0b2f731ef678",
   "metadata": {},
   "outputs": [],
   "source": [
    "matrix = linalg.expm(\n",
    "                        np.array(betas * transition_rate, dtype=np.float64))"
   ]
  },
  {
   "cell_type": "code",
   "execution_count": 52,
   "id": "b99febd8-1752-43b9-acae-65bc735628ed",
   "metadata": {},
   "outputs": [],
   "source": [
    "# matrix.shape"
   ]
  },
  {
   "cell_type": "code",
   "execution_count": 53,
   "id": "25ad0e4a-71db-4045-81cf-7d1a7278de9e",
   "metadata": {},
   "outputs": [
    {
     "data": {
      "text/plain": [
       "array([0.05263213, 0.05263174, 0.05263146, 0.05263165, 0.05263137,\n",
       "       0.05263105, 0.05262969, 0.05263036, 0.05263136, 0.05263199,\n",
       "       0.05262998, 0.05263259, 0.05263293, 0.05263214, 0.05263243,\n",
       "       0.05263111, 0.0526297 , 0.05263354, 0.05263276])"
      ]
     },
     "execution_count": 53,
     "metadata": {},
     "output_type": "execute_result"
    }
   ],
   "source": [
    "matrix[0]"
   ]
  },
  {
   "cell_type": "code",
   "execution_count": 54,
   "id": "53cc964c-b7ca-4954-acb5-9adc1cc1fb25",
   "metadata": {},
   "outputs": [],
   "source": [
    "## next confusion matrix of results in darkzurich using cityscapes "
   ]
  },
  {
   "cell_type": "code",
   "execution_count": 55,
   "id": "0e949348-1c7c-42f7-8cfe-52fe1af64120",
   "metadata": {},
   "outputs": [
    {
     "data": {
      "text/plain": [
       "array([0.05263174, 0.05263489, 0.05263162, 0.05263964, 0.05263847,\n",
       "       0.05263582, 0.05263814, 0.05263793, 0.05263348, 0.05263725,\n",
       "       0.05263618, 0.0526242 , 0.05262041, 0.05262689, 0.05263254,\n",
       "       0.05263293, 0.0526318 , 0.05261364, 0.05262243])"
      ]
     },
     "execution_count": 55,
     "metadata": {},
     "output_type": "execute_result"
    }
   ],
   "source": [
    "matrix[1]"
   ]
  },
  {
   "cell_type": "markdown",
   "id": "9d73cb0b-90bc-4603-ad5d-b51b37e0231d",
   "metadata": {
    "jp-MarkdownHeadingCollapsed": true
   },
   "source": [
    "### checking betas for similarity matrix derived from protos"
   ]
  },
  {
   "cell_type": "code",
   "execution_count": 4,
   "id": "568337c0-e260-4f89-8236-a3fcfaf1cfeb",
   "metadata": {},
   "outputs": [],
   "source": [
    "model = torch.load('/home/sidd_s/scratch/saved_models/Protoseg/hrnet_w48_proto_lr1x_hrnet_proto_80k_latest.pth')\n",
    "protos = model['state_dict']['module.prototypes']"
   ]
  },
  {
   "cell_type": "code",
   "execution_count": 5,
   "id": "da6d88f7-c389-4fd4-8e13-669f04e9b87f",
   "metadata": {},
   "outputs": [],
   "source": [
    "def similarity_among_classes(protos):\n",
    "    cos = torch.nn.CosineSimilarity(dim=0)\n",
    "    similarity_matrix = []\n",
    "    for i in range(19):\n",
    "        per_row_similarity = [] \n",
    "        for j in range(19):\n",
    "            per_row_similarity.append(cos(protos[i][0], protos[j][0]))\n",
    "        similarity_matrix.append(per_row_similarity)\n",
    "    similarity_matrix_tensor = torch.FloatTensor(similarity_matrix)     \n",
    "\n",
    "    # sim_test = similarity_matrix_tensor.clone() \n",
    "    # sim_test.fill_diagonal_(-1e17) ## filling extremely low numbers at diagonals for removing them from similarity consideration\n",
    "    # probas_sim_test = F.softmax(sim_test, dim=1) ## applying softmax to convert into probability distribution \n",
    "\n",
    "    # return probas_sim_test, similarity_matrix_tensor\n",
    "    return similarity_matrix_tensor\n",
    "\n",
    "similarity_matrix_tensor = similarity_among_classes(protos)\n",
    "\n",
    "similarity_matrix = np.array(similarity_matrix_tensor)"
   ]
  },
  {
   "cell_type": "code",
   "execution_count": 6,
   "id": "e4f0b5fa-6431-4286-a076-3a38de43ea04",
   "metadata": {},
   "outputs": [],
   "source": [
    "ind_2_class_dict = {  \n",
    "    0: \"Road\",\n",
    "    1: \"Sidewalk\", \n",
    "    2: \"Building\",  \n",
    "    3: \"wall\",\n",
    "    4: \"fence\",  \n",
    "    5: \"Pole\", \n",
    "    6: \"Traffic light\",\n",
    "    7: \"Traffic sign\",\n",
    "    8: \"Vegetation\", \n",
    "    9: \"Terrain\",\n",
    "    10: \"Sky\",\n",
    "    11: \"Person\",\n",
    "    12: \"Rider\",\n",
    "    13: \"Car\",\n",
    "    14: \"Truck\",\n",
    "    15: \"Bus\",\n",
    "    16: \"Train\",\n",
    "    17: \"Motorcycle\",\n",
    "    18: \"Bicycle\"\n",
    "}\n",
    "\n",
    "def calculate_adjacency_matrix_knn(similarity_matrix, k): \n",
    "    adj = similarity_matrix.copy()\n",
    "    similar_classes = []\n",
    "    for row in range(adj.shape[0]):\n",
    "        row_sim_decrease_inds = np.argsort(adj[row])[::-1]\n",
    "        knn_indexs = row_sim_decrease_inds[:k] \n",
    "        adj[row][knn_indexs] = 1\n",
    "        adj[row][adj[row]!=1] = 0\n",
    "\n",
    "        similar_classes.append([ (('Current Class:' + ind_2_class_dict[row]) ,(knn_indexs[i], ind_2_class_dict[knn_indexs[i]])) for i in range(knn_indexs.shape[0])])\n",
    "    return adj, similar_classes\n"
   ]
  },
  {
   "cell_type": "code",
   "execution_count": 7,
   "id": "1a1e2758-cdf5-4ba5-a3d7-6a4062152f7e",
   "metadata": {},
   "outputs": [],
   "source": [
    "k = 5\n",
    "\n",
    "adj, similar_classes = calculate_adjacency_matrix_knn(similarity_matrix, k)\n",
    "\n",
    "adj_s = (adj + adj.T) / (2 * k) \n",
    "\n",
    "tr = adj_s - np.diag(np.sum(adj_s, axis=1))\n",
    "\n",
    "beta_min = 15\n",
    "\n",
    "matrix = scipy.linalg.expm(np.array(tr * beta_min, dtype=np.float64))"
   ]
  },
  {
   "cell_type": "code",
   "execution_count": 8,
   "id": "ebc0e1f4-3c7b-4f59-8f5b-faae70aeed8a",
   "metadata": {},
   "outputs": [
    {
     "data": {
      "text/plain": [
       "array([0.05206792, 0.05375777, 0.05466447, 0.05519611, 0.05630157,\n",
       "       0.05558731, 0.05821384, 0.0582283 , 0.05597781, 0.053944  ,\n",
       "       0.06125754, 0.04702434, 0.04555182, 0.04689879, 0.05023954,\n",
       "       0.05096637, 0.05389285, 0.04442411, 0.04580525])"
      ]
     },
     "execution_count": 8,
     "metadata": {},
     "output_type": "execute_result"
    }
   ],
   "source": [
    "matrix[10]"
   ]
  },
  {
   "cell_type": "code",
   "execution_count": 322,
   "id": "1999a729-b714-42d2-9d0d-c59b60ef14d0",
   "metadata": {},
   "outputs": [],
   "source": [
    "# tr.sum(1)"
   ]
  },
  {
   "cell_type": "code",
   "execution_count": 254,
   "id": "9591b112-f7ee-4361-b2b2-89026e115c6d",
   "metadata": {},
   "outputs": [],
   "source": [
    "# np.diag(tr)"
   ]
  },
  {
   "cell_type": "code",
   "execution_count": 9,
   "id": "5cecb57d-e97e-442d-a24a-96ef44161faf",
   "metadata": {},
   "outputs": [
    {
     "data": {
      "text/plain": [
       "[('Current Class:Sky', (10, 'Sky')),\n",
       " ('Current Class:Sky', (8, 'Vegetation')),\n",
       " ('Current Class:Sky', (2, 'Building')),\n",
       " ('Current Class:Sky', (7, 'Traffic sign')),\n",
       " ('Current Class:Sky', (5, 'Pole'))]"
      ]
     },
     "execution_count": 9,
     "metadata": {},
     "output_type": "execute_result"
    }
   ],
   "source": [
    "similar_classes[10]"
   ]
  },
  {
   "cell_type": "code",
   "execution_count": 10,
   "id": "53344e92-0e44-48d9-8fa4-4b187aebf1ca",
   "metadata": {},
   "outputs": [
    {
     "data": {
      "text/plain": [
       "array([ 0.        ,  0.        ,  0.1       ,  0.        ,  0.        ,\n",
       "        0.1       ,  0.        ,  0.1       ,  0.1       ,  0.        ,\n",
       "       -0.40000004,  0.        ,  0.        ,  0.        ,  0.        ,\n",
       "        0.        ,  0.        ,  0.        ,  0.        ], dtype=float32)"
      ]
     },
     "execution_count": 10,
     "metadata": {},
     "output_type": "execute_result"
    }
   ],
   "source": [
    "tr[10]"
   ]
  },
  {
   "cell_type": "code",
   "execution_count": 11,
   "id": "c7586e39-483d-4e1c-99c4-d778ebca5c70",
   "metadata": {},
   "outputs": [],
   "source": [
    "x = 0.05 \n",
    "y = 0.03\n",
    "tr[10][8] = 0.1 + 2 * x + y\n",
    "tr[10][2] = 0.1 + y \n",
    "tr[10][7] = 0.1 - y - x \n",
    "tr[10][5] = 0.1 - x - y "
   ]
  },
  {
   "cell_type": "code",
   "execution_count": 12,
   "id": "7448a6e8-3b2d-44fc-a3b6-533535a786bd",
   "metadata": {},
   "outputs": [
    {
     "data": {
      "text/plain": [
       "array([ 0.        ,  0.        ,  0.13      ,  0.        ,  0.        ,\n",
       "        0.02      ,  0.        ,  0.02      ,  0.23      ,  0.        ,\n",
       "       -0.40000004,  0.        ,  0.        ,  0.        ,  0.        ,\n",
       "        0.        ,  0.        ,  0.        ,  0.        ], dtype=float32)"
      ]
     },
     "execution_count": 12,
     "metadata": {},
     "output_type": "execute_result"
    }
   ],
   "source": [
    "tr[10]"
   ]
  },
  {
   "cell_type": "code",
   "execution_count": 13,
   "id": "7ee93a3c-b12b-44de-aef5-9d84b9613ff0",
   "metadata": {},
   "outputs": [],
   "source": [
    "beta_min = 15"
   ]
  },
  {
   "cell_type": "code",
   "execution_count": 14,
   "id": "aa0ba927-58ac-4928-839d-5181ce33401f",
   "metadata": {},
   "outputs": [],
   "source": [
    "matrix = scipy.linalg.expm(np.array(tr * beta_min, dtype=np.float64))"
   ]
  },
  {
   "cell_type": "code",
   "execution_count": 15,
   "id": "55759558-ae5f-4119-8700-d1a202695363",
   "metadata": {},
   "outputs": [
    {
     "data": {
      "text/plain": [
       "array([0.05461388, 0.05598873, 0.05515611, 0.05782134, 0.05854284,\n",
       "       0.05116666, 0.05435454, 0.05010336, 0.06121928, 0.0576171 ,\n",
       "       0.0588697 , 0.04568873, 0.04441637, 0.04735269, 0.05207343,\n",
       "       0.05230611, 0.05486069, 0.0435233 , 0.04432487])"
      ]
     },
     "execution_count": 15,
     "metadata": {},
     "output_type": "execute_result"
    }
   ],
   "source": [
    "matrix[10]"
   ]
  },
  {
   "cell_type": "code",
   "execution_count": 16,
   "id": "39a36950-36d5-4905-8aa5-55c697009a05",
   "metadata": {},
   "outputs": [
    {
     "data": {
      "text/plain": [
       "array([-0.09389959, -0.12291148,  0.00128791, -0.11124361, -0.09902826,\n",
       "       -0.07015408, -0.07521263, -0.04375174,  0.01210354, -0.12321121,\n",
       "        1.        , -0.10264361, -0.08833078, -0.08592686, -0.08899493,\n",
       "       -0.0894008 , -0.09961839, -0.09318795, -0.10486494], dtype=float32)"
      ]
     },
     "execution_count": 16,
     "metadata": {},
     "output_type": "execute_result"
    }
   ],
   "source": [
    "similarity_matrix[10]"
   ]
  },
  {
   "cell_type": "code",
   "execution_count": 6,
   "id": "2c80ee08-78d5-49c3-849b-b211224904b7",
   "metadata": {},
   "outputs": [],
   "source": [
    "# model = torch.load('/home/sidd_s/scratch/saved_models/Protoseg/hrnet_w48_proto_lr1x_hrnet_proto_80k_latest.pth')\n",
    "# protos = model['state_dict']['module.prototypes']\n",
    "\n",
    "# def similarity_among_classes(protos):\n",
    "#     cos = torch.nn.CosineSimilarity(dim=0)\n",
    "#     similarity_matrix = []\n",
    "#     for i in range(19):\n",
    "#         per_row_similarity = [] \n",
    "#         for j in range(19):\n",
    "#             per_row_similarity.append(cos(protos[i][0], protos[j][0]))\n",
    "#         similarity_matrix.append(per_row_similarity)\n",
    "#     similarity_matrix_tensor = torch.FloatTensor(similarity_matrix)     \n",
    "\n",
    "#     # sim_test = similarity_matrix_tensor.clone() \n",
    "#     # sim_test.fill_diagonal_(-1e17) ## filling extremely low numbers at diagonals for removing them from similarity consideration\n",
    "#     # probas_sim_test = F.softmax(sim_test, dim=1) ## applying softmax to convert into probability distribution \n",
    "\n",
    "#     # return probas_sim_test, similarity_matrix_tensor\n",
    "#     return similarity_matrix_tensor\n",
    "\n",
    "# similarity_matrix_tensor = similarity_among_classes(protos)\n",
    "\n",
    "# similarity_matrix = np.array(similarity_matrix_tensor)"
   ]
  },
  {
   "cell_type": "code",
   "execution_count": 7,
   "id": "be2ed507-03b9-4bfd-8bdf-e925be2c3f2b",
   "metadata": {},
   "outputs": [],
   "source": [
    "# def calculate_adjacency_matrix_knn(similarity_matrix, k): \n",
    "#     adj = similarity_matrix.copy()\n",
    "#     similar_classes = []\n",
    "#     for row in range(adj.shape[0]):\n",
    "#         row_sim_decrease_inds = np.argsort(adj[row])[::-1]\n",
    "#         knn_indexs = row_sim_decrease_inds[:k] \n",
    "#         adj[row][knn_indexs] = 1\n",
    "#         adj[row][adj[row]!=1] = 0\n",
    "\n",
    "#         similar_classes.append([ (('Current Class:' + ind_2_class_dict[row]) ,(knn_indexs[i], ind_2_class_dict[knn_indexs[i]])) for i in range(knn_indexs.shape[0])])\n",
    "#     return adj, similar_classes\n",
    "\n",
    "# k = 5\n",
    "\n",
    "# adj, similar_classes = calculate_adjacency_matrix_knn(similarity_matrix, k)\n",
    "\n",
    "# adj_s = (adj + adj.T) / (2 * k) \n",
    "\n",
    "\n",
    "# tr = adj_s - np.diag(np.sum(adj_s, axis=1))\n",
    "\n",
    "# beta_min = 15 # trial\n",
    "\n",
    "# matrix = scipy.linalg.expm(np.array(tr * beta_min, dtype=np.float64)) # trial "
   ]
  },
  {
   "cell_type": "code",
   "execution_count": null,
   "id": "49f2a725-3ae6-40c8-ac11-836ab42bbf4d",
   "metadata": {},
   "outputs": [],
   "source": []
  },
  {
   "cell_type": "code",
   "execution_count": null,
   "id": "7336d96a-285b-4aa2-a5fa-0749d3d47793",
   "metadata": {},
   "outputs": [],
   "source": []
  },
  {
   "cell_type": "raw",
   "id": "6a38e5fc-00d2-4c82-95ed-20f097243b94",
   "metadata": {},
   "source": [
    "conclusion: To work on this later as well\n",
    "\n",
    "The key point is that, we may need to weigh the Transition rate matrix off diagonal elements to reaching the state where dia elements of base matrix be replaced by off diagonal ones. "
   ]
  },
  {
   "cell_type": "markdown",
   "id": "bf133675-8541-4d6c-8328-7fc18c9bdd3a",
   "metadata": {
    "jp-MarkdownHeadingCollapsed": true
   },
   "source": [
    "### similarity matrix based on miou"
   ]
  },
  {
   "cell_type": "code",
   "execution_count": 142,
   "id": "71e7f2f6-1cc4-4521-9032-c59550c619e6",
   "metadata": {},
   "outputs": [],
   "source": [
    "# pred image\n",
    "path = '/home/sidd_s/scratch/results/segformer/cityscapes/frankfurt_000000_000294_leftImg8bit.png'\n",
    "pred = np.array(Image.open(path))\n",
    "# pred.shape # (1024, 2048) \n",
    "# np.unique(pred) # array([ 0,  1,  2,  5,  6,  7,  8,  9, 10, 11, 13], dtype=uint8) "
   ]
  },
  {
   "cell_type": "code",
   "execution_count": 143,
   "id": "5920d661-e953-4431-8ba8-6279f355ef31",
   "metadata": {},
   "outputs": [],
   "source": [
    "gt_path = '/home/sidd_s/scratch/dataset/cityscapes/gtFine/val/frankfurt/frankfurt_000000_000294_gtFine_labelTrainIds.png'\n",
    "gt = np.array(Image.open(gt_path)) \n",
    "# gt.shape  # (1024, 2048)\n",
    "# np.unique(gt) # array([  0,   1,   2,   4,   5,   7,   8,  10,  11,  13, 255], dtype=uint8)"
   ]
  },
  {
   "cell_type": "code",
   "execution_count": 168,
   "id": "d4b766fc-1cff-482a-ad3b-cdcebed83b6c",
   "metadata": {},
   "outputs": [],
   "source": [
    "### understanding diff between acc and iou of mmseg \n",
    "\n",
    "# label = torch.from_numpy(gt) \n",
    "# pred_label = torch.from_numpy(pred)\n",
    "\n",
    "# # label.unique()\n",
    "\n",
    "# # pred_label.unique()\n",
    "\n",
    "# ignore_index = 255 \n",
    "# mask = (label != ignore_index) \n",
    "# pred_label = pred_label[mask]\n",
    "# label = label[mask]\n",
    "\n",
    "# # pred_label.shape\n",
    "\n",
    "# # pred_label.unique()\n",
    "\n",
    "# # label.shape\n",
    "\n",
    "# # label.unique()\n",
    "\n",
    "# num_classes = 19\n",
    "\n",
    "# intersect = pred_label[pred_label == label]\n",
    "\n",
    "# # intersect.shape \n",
    "\n",
    "# area_intersect = torch.histc(\n",
    "#         intersect.float(), bins=(num_classes), min=0, max=num_classes - 1)\n",
    "# area_pred_label = torch.histc(\n",
    "#         pred_label.float(), bins=(num_classes), min=0, max=num_classes - 1)\n",
    "# area_label = torch.histc(\n",
    "#         label.float(), bins=(num_classes), min=0, max=num_classes - 1)\n",
    "# area_union = area_pred_label + area_label - area_intersect\n",
    "\n",
    "# area_intersect \n",
    "\n",
    "# # area_pred_label\n",
    "\n",
    "# area_label\n",
    "\n",
    "# area_union\n",
    "\n",
    "# area_label.sum()\n",
    "\n",
    "# area_union.sum()\n",
    "\n",
    "# all_acc = area_intersect.sum() / area_label.sum() ## very poor meaning, highly biased towards large area classes \n",
    "# all_acc\n",
    "\n",
    "# iou = area_intersect / area_union\n",
    "# iou \n",
    "\n",
    "# acc = area_intersect / area_label\n",
    "# acc"
   ]
  },
  {
   "cell_type": "code",
   "execution_count": 144,
   "id": "747bac6d-5f28-4993-b6d4-47769204a08a",
   "metadata": {},
   "outputs": [],
   "source": [
    "sim_miou_matrix = np.zeros(shape=[19, 19]) "
   ]
  },
  {
   "cell_type": "code",
   "execution_count": 207,
   "id": "b98fb2b7-c214-483f-9cd8-529d70e9d4ae",
   "metadata": {},
   "outputs": [],
   "source": [
    "gt_segm, res_segm = gt.flatten(), pred.flatten() \n",
    "\n",
    "to_ignore = gt_segm == 255\n",
    "gt_segm, res_segm = gt_segm[~to_ignore], res_segm[~to_ignore] \n",
    "n = 19\n",
    "\n",
    "inds = n * gt_segm + res_segm  ## what the hell? this is doing?\n",
    "\n",
    "# # inds.shape\n",
    "\n",
    "mat = np.bincount(inds, minlength=n**2).reshape(n, n) ## area intersect among all classes with each other"
   ]
  },
  {
   "cell_type": "code",
   "execution_count": 209,
   "id": "5f339467-3ee6-4383-bde3-3332c1a8459a",
   "metadata": {},
   "outputs": [],
   "source": [
    "# np.unique(gt_segm)\n",
    "\n",
    "# np.unique(gt_segm)\n",
    "# np.unique(res_segm*n)\n",
    "\n",
    "# np.unique(inds) \n",
    "\n",
    "# a = np.bincount(np.array([0, 1, 1, 3, 2, 1, 7]), minlength = 9).reshape(3, 3)\n",
    "# a\n",
    "\n",
    "# mat"
   ]
  },
  {
   "cell_type": "code",
   "execution_count": 174,
   "id": "d44ee92b-9681-402a-ab1f-3afd0144f8fc",
   "metadata": {},
   "outputs": [],
   "source": [
    "np.fill_diagonal(mat, 0)"
   ]
  },
  {
   "cell_type": "code",
   "execution_count": 176,
   "id": "389d537f-da5a-42e4-b89f-0735cac2b609",
   "metadata": {},
   "outputs": [
    {
     "data": {
      "text/plain": [
       "array([     0,   4281,     64,      0, 112891,    845,      0,      3,\n",
       "            0,      0,      0,      0,      0,    399,      0,      0,\n",
       "            0,      0,      0])"
      ]
     },
     "execution_count": 176,
     "metadata": {},
     "output_type": "execute_result"
    }
   ],
   "source": [
    "mat[0]"
   ]
  },
  {
   "cell_type": "code",
   "execution_count": 177,
   "id": "8f2b7c1a-716d-4acf-ad4b-a018ae71a364",
   "metadata": {},
   "outputs": [],
   "source": [
    "g = mat + mat.T"
   ]
  },
  {
   "cell_type": "code",
   "execution_count": 184,
   "id": "b6708e0b-6395-4b0b-aa29-27917d8eff07",
   "metadata": {},
   "outputs": [],
   "source": [
    "# g"
   ]
  },
  {
   "cell_type": "code",
   "execution_count": 185,
   "id": "40667e1d-5dda-4395-ac56-4a693bc76700",
   "metadata": {},
   "outputs": [],
   "source": [
    "# g.shape"
   ]
  },
  {
   "cell_type": "code",
   "execution_count": 190,
   "id": "57612795-4259-4560-a098-d3ce1e3e0eb5",
   "metadata": {},
   "outputs": [
    {
     "data": {
      "text/plain": [
       "array([121034,  11189,  18441,      0, 115693,   8011,      0,   2649,\n",
       "         3310,      7,   2018,   1041,      0,   4131,      0,      0,\n",
       "            0,      0,      0])"
      ]
     },
     "execution_count": 190,
     "metadata": {},
     "output_type": "execute_result"
    }
   ],
   "source": [
    "row_sums = g.sum(axis=1)\n",
    "row_sums"
   ]
  },
  {
   "cell_type": "code",
   "execution_count": 198,
   "id": "208459db-8796-48ee-8f5f-4ad0de099f6a",
   "metadata": {},
   "outputs": [],
   "source": [
    "# row_sums[:, np.newaxis].shape"
   ]
  },
  {
   "cell_type": "code",
   "execution_count": 201,
   "id": "af7d17ee-d604-49be-aabc-91c38a21f2f8",
   "metadata": {},
   "outputs": [
    {
     "data": {
      "text/plain": [
       "array([121034,  11189,  18441,      0, 115693,   8011,      0,   2649,\n",
       "         3310,      7,   2018,   1041,      0,   4131,      0,      0,\n",
       "            0,      0,      0])"
      ]
     },
     "execution_count": 201,
     "metadata": {},
     "output_type": "execute_result"
    }
   ],
   "source": [
    "col_sums = g.sum(axis=0)\n",
    "col_sums ## same as row sums since the matrix is symmetric "
   ]
  },
  {
   "cell_type": "code",
   "execution_count": 200,
   "id": "57e01f7e-7c2c-413f-8835-0beb58acafd8",
   "metadata": {},
   "outputs": [
    {
     "name": "stderr",
     "output_type": "stream",
     "text": [
      "/tmp/ipykernel_52118/2304567844.py:1: RuntimeWarning: invalid value encountered in divide\n",
      "  g_norm_row = g / row_sums[:, np.newaxis]\n"
     ]
    },
    {
     "data": {
      "text/plain": [
       "array([0.00000000e+00, 4.66315250e-02, 1.01624337e-03, 0.00000000e+00,\n",
       "       9.32754433e-01, 7.94817985e-03, 0.00000000e+00, 8.26214122e-05,\n",
       "       0.00000000e+00, 0.00000000e+00, 0.00000000e+00, 0.00000000e+00,\n",
       "       0.00000000e+00, 1.15669977e-02, 0.00000000e+00, 0.00000000e+00,\n",
       "       0.00000000e+00, 0.00000000e+00, 0.00000000e+00])"
      ]
     },
     "execution_count": 200,
     "metadata": {},
     "output_type": "execute_result"
    }
   ],
   "source": [
    "g_norm_row = g / row_sums[:, np.newaxis]\n",
    "g_norm_row[0] "
   ]
  },
  {
   "cell_type": "code",
   "execution_count": 202,
   "id": "17dbb51d-de97-437c-a6cb-9a138e66ee41",
   "metadata": {},
   "outputs": [
    {
     "name": "stderr",
     "output_type": "stream",
     "text": [
      "/tmp/ipykernel_52118/4275399626.py:1: RuntimeWarning: invalid value encountered in divide\n",
      "  g_norm_col = g / col_sums[:, np.newaxis]\n"
     ]
    },
    {
     "data": {
      "text/plain": [
       "array([0.00000000e+00, 4.66315250e-02, 1.01624337e-03, 0.00000000e+00,\n",
       "       9.32754433e-01, 7.94817985e-03, 0.00000000e+00, 8.26214122e-05,\n",
       "       0.00000000e+00, 0.00000000e+00, 0.00000000e+00, 0.00000000e+00,\n",
       "       0.00000000e+00, 1.15669977e-02, 0.00000000e+00, 0.00000000e+00,\n",
       "       0.00000000e+00, 0.00000000e+00, 0.00000000e+00])"
      ]
     },
     "execution_count": 202,
     "metadata": {},
     "output_type": "execute_result"
    }
   ],
   "source": [
    "g_norm_col = g / col_sums[:, np.newaxis]\n",
    "g_norm_col[0] "
   ]
  },
  {
   "cell_type": "code",
   "execution_count": 233,
   "id": "0d6c64db-d22f-49e4-a054-8450a1340626",
   "metadata": {},
   "outputs": [
    {
     "data": {
      "text/plain": [
       "array([7.49108107e-01, 3.93215842e-02, 1.75515568e-01, 7.56358603e-03,\n",
       "       2.11335492e-03, 1.04102298e-02, 1.19468407e-04, 1.57863081e-02,\n",
       "       6.17940035e-05])"
      ]
     },
     "execution_count": 233,
     "metadata": {},
     "output_type": "execute_result"
    }
   ],
   "source": [
    "## consideration background classes using the FN values \n",
    "gt_segm, res_segm = gt.flatten(), pred.flatten() \n",
    "\n",
    "# print(np.unique(gt_segm), np.unique(res_segm))\n",
    "# print(np.unique(res_segm[gt_segm == 255], return_counts=True))\n",
    "# print(np.unique(res_segm), res_segm.shape)\n",
    "\n",
    "cl_b, cl_b_counts = np.unique(res_segm[gt_segm == 255], return_counts=True)\n",
    "\n",
    "# cl_b_counts.sum()\n",
    "\n",
    "cl_b_norm = cl_b_counts / cl_b_counts.sum()\n",
    "cl_b_norm \n",
    "\n",
    "## later for all the classes, have to make this array as dim of 20 elements "
   ]
  },
  {
   "cell_type": "code",
   "execution_count": null,
   "id": "e3dd11a2-b3c2-4b35-ac0b-b01b878e9cd0",
   "metadata": {},
   "outputs": [],
   "source": []
  },
  {
   "cell_type": "code",
   "execution_count": null,
   "id": "c241855f-d2cf-4ca6-8bf6-2de1a2e576ac",
   "metadata": {},
   "outputs": [],
   "source": []
  },
  {
   "cell_type": "code",
   "execution_count": null,
   "id": "b6b2990f-5b65-44d7-bda8-40885a916a7a",
   "metadata": {},
   "outputs": [],
   "source": []
  },
  {
   "cell_type": "code",
   "execution_count": null,
   "id": "e700c69d-3575-4d25-b2d5-0bf2036b2178",
   "metadata": {},
   "outputs": [],
   "source": []
  },
  {
   "cell_type": "markdown",
   "id": "4fd5445f-52e6-43b1-8b34-411b2326e452",
   "metadata": {},
   "source": [
    "### Mutual information based noise schedule"
   ]
  },
  {
   "cell_type": "markdown",
   "id": "d903a2f2-132c-4ce7-b653-42551062f3e2",
   "metadata": {},
   "source": [
    "Have to follow the code from D3PM original codebase: \n",
    "\n",
    "There is a requirement of initial distribution: \n",
    "we have figured out to be: \n",
    "\n",
    "<!-- p(x0) = [ (#road pixels / 1024x2048), (#sidewalk pixels / 1024x2048)  ,...., (#background pixels / 1024x2048)]  \n",
    "here we can also consider background pixels since, there are also the part of GT... # with background  --> \n",
    "\n",
    "p(x0) = [ (#road pixels / norm_value), (#sidewalk pixels / norm_value)  ,...., (#bicycle pixels / norm_value)]  \n",
    "here we are not considering background since in the validation time, we will need to improve the predicted segmentation mask! \n",
    "\n",
    "<!-- One of the question is: in Q_mat transition matrices how to include transition to/from (row/column) background? { init guess is by uniform probability in both row and column) # with background --> "
   ]
  },
  {
   "cell_type": "code",
   "execution_count": 23,
   "id": "fb79993a-75fd-44bf-9664-af7d5ede5f9c",
   "metadata": {},
   "outputs": [],
   "source": [
    "## init cityscapes gt labels distribution ## train data \n",
    "cityscapes_gt_labels_init_distribution = np.load('confusion_similarity_results/cityscapes_gt_labels_init_distribution_without_background.npy',allow_pickle='TRUE').item()"
   ]
  },
  {
   "cell_type": "code",
   "execution_count": 24,
   "id": "b1caa31e-3ca2-4123-a25a-f2fc1a51e08c",
   "metadata": {},
   "outputs": [
    {
     "data": {
      "text/plain": [
       "{0: 0.36880975774750857,\n",
       " 1: 0.06086874054102551,\n",
       " 2: 0.22819570283385351,\n",
       " 3: 0.006559296959191458,\n",
       " 4: 0.008782959202080073,\n",
       " 5: 0.012275657265534682,\n",
       " 6: 0.0020849098115345898,\n",
       " 7: 0.0055286245692937885,\n",
       " 8: 0.15917384442191498,\n",
       " 9: 0.011586649487463331,\n",
       " 10: 0.04011514879508137,\n",
       " 11: 0.0121730286567891,\n",
       " 12: 0.0013485701801470244,\n",
       " 13: 0.07001107820593705,\n",
       " 14: 0.002676343508357241,\n",
       " 15: 0.002354059053386268,\n",
       " 16: 0.0023301726794817553,\n",
       " 17: 0.0009864704527446806,\n",
       " 18: 0.004138985628675025}"
      ]
     },
     "execution_count": 24,
     "metadata": {},
     "output_type": "execute_result"
    }
   ],
   "source": [
    "cityscapes_gt_labels_init_distribution"
   ]
  },
  {
   "cell_type": "code",
   "execution_count": 112,
   "id": "8ea71cfc-a799-487b-9a75-1a5e0af463d2",
   "metadata": {},
   "outputs": [],
   "source": [
    "# sum(cityscapes_gt_labels_init_distribution.values(), 0.0) == 1"
   ]
  },
  {
   "cell_type": "code",
   "execution_count": 25,
   "id": "7da225c8-25b3-4b8c-8b01-0c32845c904f",
   "metadata": {},
   "outputs": [],
   "source": [
    "class_2_ind = {v: k for k, v in ind_2_class_dict.items()}\n",
    "# class_2_ind['Background'] = 20  # with background\n",
    "# class_2_ind"
   ]
  },
  {
   "cell_type": "code",
   "execution_count": 26,
   "id": "b917e607-ea21-4c35-82eb-bb97948e4afe",
   "metadata": {},
   "outputs": [
    {
     "data": {
      "image/png": "[encoded data removed]",
      "text/plain": [
       "<Figure size 1000x500 with 1 Axes>"
      ]
     },
     "metadata": {},
     "output_type": "display_data"
    }
   ],
   "source": [
    "## train data \n",
    "sns.set_context('talk')\n",
    "plt.figure(figsize=(10,5))\n",
    "\n",
    "keys = list(cityscapes_gt_labels_init_distribution.keys())\n",
    "keys_for_plot = list(class_2_ind.keys()) \n",
    "# get values in the same order as keys, and parse percentage values\n",
    "vals = [float(cityscapes_gt_labels_init_distribution[k]) for k in keys]\n",
    "# sns.barplot(x=keys, y=vals)\n",
    "sns.barplot(x=keys_for_plot, y=vals)\n",
    "\n",
    "plt.xlabel(\"Class label\")\n",
    "plt.ylabel(\"Probability mass function\")\n",
    "plt.xticks(rotation=\"vertical\")\n",
    "\n",
    "# plt.show() \n",
    "plt.savefig('confusion_similarity_results/cityscapes_labels_distribution_without_background.png', bbox_inches = 'tight')"
   ]
  },
  {
   "cell_type": "code",
   "execution_count": 30,
   "id": "f38544fc-9490-4ebf-8f7f-b970f6702035",
   "metadata": {},
   "outputs": [
    {
     "data": {
      "text/plain": [
       "array([0.36880976, 0.06086874, 0.2281957 , 0.0065593 , 0.00878296,\n",
       "       0.01227566, 0.00208491, 0.00552862, 0.15917384, 0.01158665,\n",
       "       0.04011515, 0.01217303, 0.00134857, 0.07001108, 0.00267634,\n",
       "       0.00235406, 0.00233017, 0.00098647, 0.00413899])"
      ]
     },
     "execution_count": 30,
     "metadata": {},
     "output_type": "execute_result"
    }
   ],
   "source": [
    "init_distribution = np.array(list(cityscapes_gt_labels_init_distribution.values()))\n",
    "init_distribution"
   ]
  },
  {
   "cell_type": "raw",
   "id": "f98d30e1-ebd7-4077-9246-c281c31e031f",
   "metadata": {},
   "source": [
    "Now, below visualising the probability distribution of segformerb2 city val predictions"
   ]
  },
  {
   "cell_type": "code",
   "execution_count": 12,
   "id": "5e74bd8c-46a3-408b-b77c-159d5028451c",
   "metadata": {},
   "outputs": [],
   "source": [
    "## init cityscapes gt labels distribution ## train data \n",
    "seformerb2_city_val_pred_distri = np.load('confusion_similarity_results/segformerb2_cityscapes_pred_val_distribution.npy',allow_pickle='TRUE').item()"
   ]
  },
  {
   "cell_type": "code",
   "execution_count": 15,
   "id": "d83826c2-a4dd-4bc3-8739-799a04830fff",
   "metadata": {},
   "outputs": [
    {
     "data": {
      "text/plain": [
       "{0: 0.4105492296218872,\n",
       " 1: 0.05752428150177002,\n",
       " 2: 0.20906646537780763,\n",
       " 3: 0.006189051628112793,\n",
       " 4: 0.006779747009277344,\n",
       " 5: 0.014103196144104003,\n",
       " 6: 0.0019112462997436523,\n",
       " 7: 0.00692063045501709,\n",
       " 8: 0.15958975315093993,\n",
       " 9: 0.007254331588745117,\n",
       " 10: 0.0320015926361084,\n",
       " 11: 0.012443199157714843,\n",
       " 12: 0.001925506591796875,\n",
       " 13: 0.05882715892791748,\n",
       " 14: 0.002673495292663574,\n",
       " 15: 0.003502558708190918,\n",
       " 16: 0.0010153951644897461,\n",
       " 17: 0.0007603979110717774,\n",
       " 18: 0.0069627628326416014}"
      ]
     },
     "execution_count": 15,
     "metadata": {},
     "output_type": "execute_result"
    }
   ],
   "source": [
    "seformerb2_city_val_pred_distri"
   ]
  },
  {
   "cell_type": "code",
   "execution_count": 19,
   "id": "5598357a-e0c8-4b42-9ad8-cd0e297a3c2a",
   "metadata": {},
   "outputs": [
    {
     "data": {
      "image/png": "[encoded data removed]",
      "text/plain": [
       "<Figure size 1000x500 with 1 Axes>"
      ]
     },
     "metadata": {},
     "output_type": "display_data"
    }
   ],
   "source": [
    "class_2_ind = {v: k for k, v in ind_2_class_dict.items()} \n",
    "## val data \n",
    "sns.set_context('talk')\n",
    "plt.figure(figsize=(10,5))\n",
    "\n",
    "keys = list(seformerb2_city_val_pred_distri.keys())\n",
    "keys_for_plot = list(class_2_ind.keys()) \n",
    "# get values in the same order as keys, and parse percentage values\n",
    "vals = [float(seformerb2_city_val_pred_distri[k]) for k in keys]\n",
    "# sns.barplot(x=keys, y=vals)\n",
    "sns.barplot(x=keys_for_plot, y=vals)\n",
    "\n",
    "plt.xlabel(\"Class label\")\n",
    "plt.ylabel(\"Probability mass function\")\n",
    "plt.xticks(rotation=\"vertical\")\n",
    "plt.title('segformerb2_cityscapes_pred_val_distribution')\n",
    "\n",
    "# plt.show() \n",
    "plt.savefig('confusion_similarity_results/segformerb2_cityscapes_pred_val_distribution.png', bbox_inches = 'tight')"
   ]
  },
  {
   "cell_type": "code",
   "execution_count": null,
   "id": "d5d0a25c-96b5-4e20-b80b-0e1a918b92fa",
   "metadata": {},
   "outputs": [],
   "source": []
  },
  {
   "cell_type": "code",
   "execution_count": 34,
   "id": "545c3255-7a9b-4a7a-a176-7d4b9f6e8cd8",
   "metadata": {},
   "outputs": [],
   "source": [
    "# transition_rate.sum(1)\n",
    "# np.diag(transition_rate)"
   ]
  },
  {
   "cell_type": "code",
   "execution_count": 66,
   "id": "bc252c26-f737-40a5-91a8-bfb77a4328fe",
   "metadata": {},
   "outputs": [],
   "source": [
    "def builder_fn(trans_rate, exponent):\n",
    "    \"\"\"\n",
    "    Function that computes a matrix exponential. \n",
    "\n",
    "    Function that, given a float exponent parameter, returns a\n",
    "    transition matrix T[i, j] = p(x_t = j | x_0 = i) representing a matrix\n",
    "    exponetial with the given exponent.\n",
    "    \"\"\"\n",
    "    trans_matrix = scipy.linalg.expm(np.array(trans_rate * exponent, dtype=np.float64))\n",
    "    return trans_matrix\n",
    "\n",
    "def compute_information_removal_samples_closed_form(trans_rate, init_distribution, min_exponent=1e-4,\n",
    "                                                    max_exponent=1e5,\n",
    "                                                    interpolation_steps=256):  \n",
    "    \"\"\"Compute mutual information by evaluating a closed form estimate.\n",
    "\n",
    "  Chooses interpolation steps, then evaluates mutual information for each one.\n",
    "\n",
    "  Args:\n",
    "    builder_fn: Function that, given a float exponent parameter, returns a\n",
    "      transition matrix T[i, j] = p(x_t = j | x_0 = i) representing a matrix\n",
    "      exponetial with the given exponent.\n",
    "    init_distribution: Initial distribution of semantic class labels.\n",
    "    min_exponent: Smallest non-zero exponent to try.\n",
    "    max_exponent: Largest exponent to try.\n",
    "    interpolation_steps: How many interpolation steps to try.\n",
    "\n",
    "  Returns:\n",
    "    exponents: Array of exponents for which we computed relative mutual\n",
    "      information removal.\n",
    "    information_removals: Array of the information removal for each exponent.\n",
    "  \"\"\"\n",
    "    \n",
    "    query_exponents = np.geomspace(min_exponent, max_exponent,\n",
    "                                  interpolation_steps)\n",
    "\n",
    "    information_removals = [] \n",
    "    for exponent in query_exponents:  \n",
    "        trans_matrix = builder_fn(trans_rate, exponent) \n",
    "        info_remove = compute_relative_information_removal(trans_matrix, init_distribution) \n",
    "        information_removals.append(info_remove) \n",
    "    information_removals = np.stack(information_removals)\n",
    "    \n",
    "    return query_exponents, information_removals\n",
    "\n",
    "def compute_relative_information_removal(transition_matrix, init_distribution, use_perplexity=False):\n",
    "\n",
    "    \"\"\"Computes removal of (mutual) information after applying a transition matrix.\n",
    "\n",
    "    I(x_t; x_0) = [ log p(x_0, x_t) - log p(x_0) - log p(x_t)]\n",
    "                = H(x_0) + H(x_t) - H(x_0, x_t)\n",
    "         result = 1 - I(x_t; x_0) / H(x_0)\n",
    "                = 1 - (H(x_0) + H(x_t) - H(x_0, x_t)) / H(x_0)\n",
    "                = (H(x_0, x_t) - H(x_t)) / H(x_0)\n",
    "\n",
    "      Args:\n",
    "        transition_matrix: float32 matrix such that transition_matrix[i, j] = p(x_t\n",
    "          = j | x_0 = i)\n",
    "        init_distribution: float32 matrix reprezenting p(x_0)\n",
    "        use_perplexity: Use conditional perplexity(ish) instead of MI. Assumes\n",
    "          convergence to uniform. < Uniform thing we don't have :) > \n",
    "    \n",
    "      Returns:\n",
    "        Normalized information removal, which should be zero for the identity\n",
    "        matrix,\n",
    "        and 1 for a transition matrix which does not depend on the initial state.\n",
    "      \"\"\"\n",
    "    # Normalizations for stability ## with logarithms to work with \n",
    "    log_transition = np.log(transition_matrix)  ## log \n",
    "    log_transition = (log_transition - scipy.special.logsumexp(log_transition, axis=1, keepdims=True)) ## norm axis 1 differnt from the code (differ)\n",
    "    log_initial = np.log(init_distribution)\n",
    "    log_initial = (log_initial - scipy.special.logsumexp(log_initial, keepdims=True)) ## check as change  has been done here ## differ\n",
    "    log_joint = log_initial[:, None] + log_transition ## differ\n",
    "    log_marginal_after = scipy.special.logsumexp(log_joint, axis=0) ## differ \n",
    "    \n",
    "    joint_entropy = -np.sum(np.where(log_joint == -np.inf, 0.0, np.exp(log_joint) * log_joint))\n",
    "    initial_entropy = -np.sum(np.where(log_initial == -np.inf, 0.0, np.exp(log_initial) * log_initial)) \n",
    "    marginal_after_entropy = -np.sum(np.where(log_marginal_after == -np.inf, 0.0, np.exp(log_marginal_after) * log_marginal_after)) \n",
    "    \n",
    "    if use_perplexity:\n",
    "        dim = init_distribution.shape[0]\n",
    "        conditional_perplexity = np.exp(joint_entropy - initial_entropy) \n",
    "        return (conditional_perplexity - 1) / (dim - 1) \n",
    "    else: \n",
    "        information_removal = (joint_entropy - marginal_after_entropy) / initial_entropy\n",
    "    return information_removal \n",
    "\n",
    "def transition_rate_expm(matrix, target_diagonal=1e-3, renormalize_rows=True):  \n",
    "    \"\"\"Slightly improved expm for transition rate matrices.\n",
    "\n",
    "    A transition rate matrix will always have columns that sum to zero, and will\n",
    "    have nonnegative entries everywhere except the diagonal. We can ensure some\n",
    "    stability by controlling the magnitude of the diagonal elements and\n",
    "    renormalizing during each squaring to reduce error.\n",
    "    \n",
    "    Args:\n",
    "    matrix: The matrix to compute a matrix exponential for.\n",
    "    target_diagonal: Maximum magnitude of the diagonal elements for which it is\n",
    "      \"safe\" to approximate e(tA) as I + tA. Will automatically perform more\n",
    "      iterations until this is small enough to be a good approximation.\n",
    "    renormalize_cols: Whether to renormalize the columns of the result, with the\n",
    "      assumption that the rate matrix summed to zero across the columns. This\n",
    "      property should always hold, so renormalizing can prevent errors from\n",
    "      exploding.\n",
    "    \n",
    "    Returns:\n",
    "    Approximation of expm(matrix).\n",
    "    \"\"\" \n",
    "    max_diag = np.max(-np.diag(matrix)) \n",
    "    target_diagonal= ( 1 / 19) ## don't know, cause not going for uniform .. at stationary>>>\n",
    "    iterations_for_diagonal = np.ceil(np.log2(max_diag) - np.log2(target_diagonal))\n",
    "    iterations_for_mixing = np.ceil(np.log2(matrix.shape[0]))\n",
    "    iterations = np.maximum(iterations_for_diagonal, iterations_for_mixing).astype(np.int32)\n",
    "    tiny_approx = np.eye(matrix.shape[0]) + matrix / (2.0**iterations)    \n",
    "    mat = tiny_approx.copy()\n",
    "    for i in range(iterations): \n",
    "        mat = np.dot(mat, mat) \n",
    "        if renormalize_rows:\n",
    "          mat = mat / np.sum(mat, axis=1, keepdims=True)\n",
    "    return mat\n",
    "\n",
    "def compute_information_removal_samples_by_squaring(rate_matrix,\n",
    "                                                    init_distribution,\n",
    "                                                    min_exponent=1e-4,\n",
    "                                                    max_exponent=1e5,\n",
    "                                                    interpolation_steps=256,\n",
    "                                                    use_perplexity=False): \n",
    "\n",
    "    \"\"\"Compute mutual information using repeated squaring.\n",
    "    \n",
    "      Reduces a bunch of repeated work by evaluating power-of-two exponents using\n",
    "      repeated squaring, starting from a few different test offsets to fill the\n",
    "      gaps between powers of two.\n",
    "    \n",
    "      Args:\n",
    "        rate_matrix: Transition rate matrix of shape [vocab_size, vocab_size]\n",
    "        init_distribution: Initial distribution of tokens.\n",
    "        min_exponent: Smallest non-zero exponent to try.\n",
    "        max_exponent: Largest exponent to try.\n",
    "        interpolation_steps: Minimum number of interpolation steps to try.\n",
    "        use_perplexity: Use conditional perplexity(ish) instead of MI\n",
    "    \n",
    "      Returns:\n",
    "        exponents: Array of exponents for which we computed relative mutual\n",
    "          information removal.\n",
    "        information_removals: Array of the information removal for each exponent.\n",
    "    \"\"\" \n",
    "    # How many powers of two do we need to fill the range?\n",
    "    powers_of_two = 1 + np.ceil(np.log2(max_exponent) - np.log2(min_exponent)).astype(np.int32)  \n",
    "    # How many shifts should we evaluate between each power of two? For instance,\n",
    "    # in addition to evaluating at 1, 2, 4, 8, 16, 32 we might also evaluate at\n",
    "    # 3/2, 3, 6, 12, 24, 48. Increasing interpolation steps will increase this.\n",
    "    shifts = np.ceil(interpolation_steps / powers_of_two).astype(np.int32) \n",
    "    # Figure out the base exponents (1 and 3/2 in the above example, but there\n",
    "    # may be more)\n",
    "    base_exponents = np.exp2(np.log2(min_exponent) + np.linspace(0, 1, shifts, endpoint=False)) \n",
    "    \n",
    "    for base_exponent in base_exponents:  \n",
    "        base_matrix = transition_rate_expm(base_exponent * rate_matrix)   \n",
    "        # base_matrix = scipy.linalg.expm(np.array(base_exponent * rate_matrix, dtype=np.float64)) ## using scipy instead of above base matrix calc\n",
    "        mat = base_matrix\n",
    "        ys = [] \n",
    "        for i in np.arange(powers_of_two): \n",
    "            exponent = base_exponent * (2.0**i) \n",
    "            info_removal = compute_relative_information_removal(mat, init_distribution, use_perplexity=use_perplexity) \n",
    "            mat = np.dot(mat, mat)\n",
    "            mat = mat / np.sum(mat, axis=1, keepdims=True)\n",
    "            ys.append((exponent, info_removal)) \n",
    "        ys = np.stack(ys)  \n",
    "        exponents = ys[:,0]\n",
    "        info_removals = ys[:, 1]\n",
    "        return exponents.reshape([-1]), info_removals.reshape([-1]) \n",
    "\n",
    "def build_mutual_information_schedule(schedule_steps,\n",
    "                                      exponents,\n",
    "                                      information_removals,\n",
    "                                      allow_out_of_bounds=False,\n",
    "                                      kind=\"linear\"): # \"warn\" ## logging\n",
    "    \"\"\"Compute a mutual-information-based schedule by interpolation.\n",
    "\n",
    "      Args:\n",
    "        schedule_steps: Desired number of steps in the schedule.\n",
    "        exponents: Array of exponents for which we computed relative mutual\n",
    "          information removal.\n",
    "        information_removals: Array of the information removal for each exponent.\n",
    "        allow_out_of_bounds: Whether to allow interpolation for mutual information\n",
    "          values that are not encountered before `max_exponent`. If True, clips the\n",
    "          schedule so that it ends at the mutual info for `max_exponent` instead of\n",
    "          at the desired (near-one) amount of mutual information removal. If False,\n",
    "          throws an error.\n",
    "        kind: one of ['linear', 'cosine']. Used to determine the schedule used.\n",
    "    \n",
    "      Returns:\n",
    "        schedule_info_removals: float32[schedule_steps] array giving the amount of\n",
    "          relative information removal at each point in the schedule. Will linearly\n",
    "          interpolate between 0 and 1, not including either endpoint, unless this\n",
    "          goes out of bounds and `allow_out_of_bounds=True`, in which case it may\n",
    "          linearly interpolate to some value smaller than 1. Note that this may\n",
    "          not be exactly correct due to the interpolation, but it should be close.\n",
    "        schedule_exponents: float32[schedule_steps] array with the exponents\n",
    "          needed to obtain each level of information removal. Note that this array\n",
    "          does NOT include zero or infinity at the beginning/end, which are needed\n",
    "          to obtain zero or one information removal. The caller should take care of\n",
    "          padding so that the schedule takes the appropriate number of steps, for\n",
    "          instance by adding zero to the front and ensuring that the sequence is\n",
    "          replaced by a mask at the last step.\n",
    "    \"\"\"\n",
    "    exponents = np.array(exponents)\n",
    "    information_removals = np.array(information_removals)\n",
    "    # Sort by exponent.\n",
    "    permutation = np.argsort(exponents) \n",
    "    exponents = exponents[permutation]\n",
    "    information_removals = information_removals[permutation] \n",
    "    # Fix out-of-order information removals due to numerical error.\n",
    "    cmax_info_removal = np.maximum.accumulate(information_removals)\n",
    "    bad = information_removals <= np.concatenate([[0], cmax_info_removal[:-1]])\n",
    "    exponents = exponents[~bad]\n",
    "    information_removals = information_removals[~bad]  \n",
    "    # Add zero at the start.\n",
    "    exponents = np.concatenate([[0], exponents])\n",
    "    information_removals = np.concatenate([[0], information_removals])    \n",
    "\n",
    "    # Interpolate monotonically so that our exponents are non-decreasing\n",
    "    interpolator = scipy.interpolate.PchipInterpolator(information_removals, exponents, extrapolate=False)  # monotonic cubic interpolation \n",
    "\n",
    "    if kind == \"linear\":\n",
    "        schedule_info_removals = np.linspace(0, 1, schedule_steps + 2)[1:-1]   # skipping the first and the last step \n",
    "    \n",
    "    elif kind == \"cosine\": \n",
    "        s = 0.008 \n",
    "        def cosine_fn(step):\n",
    "          return np.cos((step / schedule_steps + s) / (1 + s) * np.pi / 2) \n",
    "        \n",
    "        schedule_info_removals = 1 - cosine_fn(np.arange(schedule_steps)) \n",
    "    else:\n",
    "        raise ValueError(f\"kind {kind} is not supported.\") \n",
    "\n",
    "    if schedule_info_removals[-1] > information_removals[-1]: \n",
    "        if allow_out_of_bounds: \n",
    "            if allow_out_of_bounds == \"warn\": \n",
    "                ## logging \n",
    "                # \"build_mutual_information_schedule: Requested mutual \"\n",
    "                # \"information removal value schedule_info_removals[-1] for \"\n",
    "                # \"schedule was larger than largest observed value \"\n",
    "                # information_removals[-1]. Clipping schedule to this largest \"\n",
    "                # \"observed value; consider increasing extrapolation range.\",\n",
    "                pass \n",
    "            schedule_info_removals = (np.linspace(0, information_removals[-1], schedule_steps + 1)[1:]) \n",
    "        else:\n",
    "            raise ValueError(\n",
    "            \"Requested mutual information removal value \"\n",
    "            f\"{schedule_info_removals[-1]} for schedule was larger than largest \"\n",
    "            f\"observed value {information_removals[-1]}\") \n",
    "            \n",
    "    schedule_exponents = interpolator(schedule_info_removals) \n",
    "    return schedule_info_removals, schedule_exponents "
   ]
  },
  {
   "cell_type": "code",
   "execution_count": 89,
   "id": "8032308f-fa6c-45e5-aa5b-85d9c1a67760",
   "metadata": {},
   "outputs": [],
   "source": [
    "schedule_steps = 3 # changed from 20 steps to 3 steps for testing \n",
    "# below hyperparams are same as the D3PMs\n",
    "mutual_info_min_exponent = 1e-4\n",
    "mutual_info_max_exponent = 1e+5\n",
    "mutual_info_interpolation_steps = 256\n",
    "\n",
    "# ## using this way\n",
    "query_exponents, query_info_removals = compute_information_removal_samples_closed_form(\n",
    "                                                    transition_rate, \n",
    "                                                    init_distribution,\n",
    "                                                    min_exponent=mutual_info_min_exponent,\n",
    "                                                    max_exponent=mutual_info_max_exponent,\n",
    "                                                    interpolation_steps=mutual_info_interpolation_steps) \n",
    "\n",
    "# query_exponents, query_info_removals = compute_information_removal_samples_by_squaring(\n",
    "#                                                     transition_rate, \n",
    "#                                                     init_distribution,\n",
    "#                                                     min_exponent=mutual_info_min_exponent,\n",
    "#                                                     max_exponent=mutual_info_max_exponent,\n",
    "#                                                     interpolation_steps=mutual_info_interpolation_steps) \n",
    "\n",
    "## above both query exponents and query info removals are giving nearly the approximate results!!\n",
    "\n",
    "# linear noise schedule\n",
    "_, middle_exponents = build_mutual_information_schedule(\n",
    "        schedule_steps, \n",
    "        query_exponents, \n",
    "        query_info_removals, kind='linear') \n",
    "\n",
    "# cosine noise schedule\n",
    "# _, middle_exponents = build_mutual_information_schedule(\n",
    "#         schedule_steps, \n",
    "#         query_exponents, \n",
    "#         query_info_removals, kind='cosine') \n",
    "\n",
    "exponents = np.concatenate([np.zeros([1]), middle_exponents])\n",
    "## rounding it off \n",
    "min_exponent = middle_exponents[0] \n",
    "powers = np.round(exponents / min_exponent).astype(np.int32) "
   ]
  },
  {
   "cell_type": "code",
   "execution_count": 90,
   "id": "240dc147-ac1f-4e10-9085-583c08a0d92c",
   "metadata": {},
   "outputs": [
    {
     "data": {
      "text/plain": [
       "array([ 0.        ,  3.34867965, 11.74859687, 37.45633462])"
      ]
     },
     "execution_count": 90,
     "metadata": {},
     "output_type": "execute_result"
    }
   ],
   "source": [
    "exponents # with linear scheduling "
   ]
  },
  {
   "cell_type": "code",
   "execution_count": 37,
   "id": "9ae280fd-1e74-4846-b97c-dcacc64a9bd3",
   "metadata": {},
   "outputs": [],
   "source": [
    "# exponents # with cosine scheduling "
   ]
  },
  {
   "cell_type": "code",
   "execution_count": 91,
   "id": "f2354bc3-bb25-4880-8fe6-174a30089a03",
   "metadata": {},
   "outputs": [
    {
     "data": {
      "text/plain": [
       "array([2.90325357e-01, 4.97154970e-01, 6.50481983e-02, 3.67233075e-03,\n",
       "       4.50251610e-03, 1.26351150e-02, 5.84199212e-04, 1.61729694e-03,\n",
       "       5.23704721e-02, 1.00848721e-02, 1.92472631e-03, 1.58677523e-02,\n",
       "       2.11570759e-03, 2.69208067e-02, 5.28480435e-04, 9.76035466e-04,\n",
       "       3.25889647e-04, 8.11882548e-04, 1.25333911e-02])"
      ]
     },
     "execution_count": 91,
     "metadata": {},
     "output_type": "execute_result"
    }
   ],
   "source": [
    "# with linear time scheduling\n",
    "t = 2\n",
    "# beta = powers[t + 1] - powers[t]  ## beta value at timestep t \n",
    "beta = powers[t + 1]  ## cummulative value at timestep t for beta \n",
    "transition_matrix = builder_fn(transition_rate, beta) \n",
    "transition_matrix[1]"
   ]
  },
  {
   "cell_type": "code",
   "execution_count": 92,
   "id": "12b829a1-46de-412e-a1dc-3f8eb70af7ec",
   "metadata": {},
   "outputs": [
    {
     "data": {
      "text/plain": [
       "(19, 19)"
      ]
     },
     "execution_count": 92,
     "metadata": {},
     "output_type": "execute_result"
    }
   ],
   "source": [
    "transition_matrix.shape"
   ]
  },
  {
   "cell_type": "code",
   "execution_count": 93,
   "id": "2c99025b-a300-4729-a92d-d55466605edc",
   "metadata": {},
   "outputs": [
    {
     "data": {
      "text/plain": [
       "array([1., 1., 1., 1., 1., 1., 1., 1., 1., 1., 1., 1., 1., 1., 1., 1., 1.,\n",
       "       1., 1.])"
      ]
     },
     "execution_count": 93,
     "metadata": {},
     "output_type": "execute_result"
    }
   ],
   "source": [
    "transition_matrix.sum(1) ## necessary to be one"
   ]
  },
  {
   "cell_type": "code",
   "execution_count": 94,
   "id": "5dbb6b90-0782-4093-96c0-f4a93d03dd10",
   "metadata": {},
   "outputs": [
    {
     "data": {
      "text/plain": [
       "array([1.83013291, 1.20357275, 4.58241445, 0.11695596, 0.15016075,\n",
       "       0.42842402, 0.25837506, 0.40829225, 3.2867542 , 0.12145893,\n",
       "       1.06589138, 1.09852727, 0.28451274, 1.78514282, 0.32867439,\n",
       "       0.74692369, 0.234328  , 0.19078446, 0.87867397])"
      ]
     },
     "execution_count": 94,
     "metadata": {},
     "output_type": "execute_result"
    }
   ],
   "source": [
    "transition_matrix.sum(0)"
   ]
  },
  {
   "cell_type": "code",
   "execution_count": 97,
   "id": "2ae871cd-920c-4c5e-a911-a2c06087bf16",
   "metadata": {},
   "outputs": [
    {
     "name": "stderr",
     "output_type": "stream",
     "text": [
      "100%|████████████████████████████████████████████████████████████████████████████████████████████████████████████████████| 295/295 [00:43<00:00,  6.82it/s]\n",
      "100%|████████████████████████████████████████████████████████████████████████████████████████████████████████████████████| 870/870 [02:10<00:00,  6.68it/s]\n",
      "100%|██████████████████████████████████████████████████████████████████████████████████████████████████████████████████| 1335/1335 [03:14<00:00,  6.85it/s]\n",
      "0it [00:00, ?it/s]"
     ]
    },
    {
     "name": "stdout",
     "output_type": "stream",
     "text": [
      "{0: 0.04384692192077637, 1: 0.05534249210357666, 2: 0.0594293794631958, 3: 0.0656245813369751, 4: 0.07071306610107422, 5: 0.06312588596343995, 6: 0.06118376064300537, 7: 0.0657660665512085, 8: 0.06975719547271729, 9: 0.06725554180145264, 10: 0.0569489688873291, 11: 0.04859399604797363, 12: 0.043131808280944824, 13: 0.044072882652282715, 14: 0.046208212852478024, 15: 0.04340731906890869, 16: 0.03694346618652344, 17: 0.03256345272064209, 18: 0.02051145839691162, 19: 0.005573543548583984}\n",
      "Finished it\n"
     ]
    },
    {
     "name": "stderr",
     "output_type": "stream",
     "text": [
      "\n"
     ]
    }
   ],
   "source": [
    "num_classes = 19\n",
    "\n",
    "q_mats = torch.tensor(transition_matrix)  ## last step cumulative transition probability matrix\n",
    "extended_q_mats = torch.zeros(num_classes + 1 ,num_classes +1 ) \n",
    "extended_q_mats[:q_mats.shape[0],:q_mats.shape[1]] = q_mats\n",
    "extended_q_mats = extended_q_mats[None, :, :]\n",
    "\n",
    "def logits_to_categorical(logits):\n",
    "    uniform_noise = torch.rand_like(logits)\n",
    "    ## # To avoid numerical issues clip the uniform noise to a minimum value\n",
    "    uniform_noise = torch.clamp(uniform_noise, min=torch.finfo(uniform_noise.dtype).tiny, max=1.)\n",
    "    gumbel_noise = - torch.log(-torch.log(uniform_noise))\n",
    "    sample = (gumbel_noise + logits).argmax(dim=1)\n",
    "    return sample\n",
    "\n",
    "## prediction at last time step of diffusion forward process \n",
    "\n",
    "def q_stationary_sample(path):\n",
    "    x0 = torch.tensor(np.array(Image.open(path))) # a cityscapes validation gt\n",
    "    x0[x0 == 255] = 19\n",
    "    x0 = x0.unsqueeze(dim=0)\n",
    "    # print(x0.shape) # torch.Size([1, 1024, 2048])\n",
    "    B,H,W = x0.shape\n",
    "    x0_onehot = F.one_hot(x0.view(B, -1).to(torch.int64), num_classes+1).to(torch.float32) \n",
    "    out = torch.matmul(x0_onehot, extended_q_mats) \n",
    "    out = out.view(B, num_classes+1, H, W)\n",
    "    logits = torch.log(out + torch.finfo(torch.float32).eps)  # eps approx 1e-7\n",
    "    out_sample = logits_to_categorical(logits) \n",
    "    return out_sample\n",
    "    \n",
    "## getting distribution \n",
    "folder = \"/home/sidd_s/scratch/dataset/cityscapes/gtFine/val\"  \n",
    "gt_dataset_num_of_labels = dict.fromkeys(range(20),0) \n",
    "num_gts = 0 \n",
    "for root, dirs, files in os.walk(folder, topdown=False):\n",
    "    for name in tqdm(files): \n",
    "        path = os.path.join(root, name) \n",
    "        if path.find('_gtFine_labelTrainIds.png')!=-1:\n",
    "            num_gts += 1\n",
    "            gt = np.array(q_stationary_sample(path)) # stationary sample\n",
    "            unique_labels, unique_labels_counts = np.unique(gt, return_counts = True)\n",
    "            assert unique_labels_counts.sum() == 1024*2048\n",
    "            for ind in range(unique_labels.shape[0]):\n",
    "                gt_dataset_num_of_labels[unique_labels[ind]] += unique_labels_counts[ind]\n",
    "\n",
    "assert num_gts == 500 ## number of cityscapes validation images\n",
    "\n",
    "total_num_pixels = gt.reshape(1, -1).shape[1] * num_gts \n",
    "gt_dataset_labels_init_distribution = {k: v / total_num_pixels for k, v in gt_dataset_num_of_labels.items()}\n",
    "# save in numpy format\n",
    "np.save('confusion_similarity_results/q_stationary_sample_'+ str(schedule_steps) +'_steps_cityscapes_val_distribution.npy', gt_dataset_labels_init_distribution)\n",
    "# loading dictionary \n",
    "# cityscapes_gt_labels_init_distribution = np.load('cityscapes_gt_labels_init_distribution.npy',allow_pickle='TRUE').item()\n",
    "print(gt_dataset_labels_init_distribution) \n",
    "print('Finished it')    "
   ]
  },
  {
   "cell_type": "code",
   "execution_count": 96,
   "id": "518948e9-6c2a-4b3f-ba46-606252cf7cd0",
   "metadata": {},
   "outputs": [],
   "source": [
    "# np.save('confusion_similarity_results/q_stationary_sample_'+ str(schedule_steps) +'_steps_cityscapes_val_distribution.npy', gt_dataset_labels_init_distribution)"
   ]
  },
  {
   "cell_type": "code",
   "execution_count": 98,
   "id": "c1111684-897c-44fb-ad44-6cfac40a6878",
   "metadata": {},
   "outputs": [
    {
     "data": {
      "image/png": "[encoded data removed]",
      "text/plain": [
       "<Figure size 1000x500 with 1 Axes>"
      ]
     },
     "metadata": {},
     "output_type": "display_data"
    }
   ],
   "source": [
    "q_stationary_sample_cityscapes_val_distribution = np.load('confusion_similarity_results/q_stationary_sample_'+ str(schedule_steps) +'_steps_cityscapes_val_distribution.npy',allow_pickle='TRUE').item()   \n",
    "class_2_ind = {v: k for k, v in ind_2_class_dict.items()}  \n",
    "class_2_ind['Background'] = 19  \n",
    "## val data \n",
    "sns.set_context('talk')\n",
    "plt.figure(figsize=(10,5))\n",
    "\n",
    "keys = list(q_stationary_sample_cityscapes_val_distribution.keys())\n",
    "keys_for_plot = list(class_2_ind.keys()) \n",
    "# get values in the same order as keys, and parse percentage values\n",
    "vals = [float(q_stationary_sample_cityscapes_val_distribution[k]) for k in keys]\n",
    "# sns.barplot(x=keys, y=vals)\n",
    "sns.barplot(x=keys_for_plot, y=vals)\n",
    "\n",
    "plt.xlabel(\"Class label\")\n",
    "plt.ylabel(\"Probability mass function\")\n",
    "plt.xticks(rotation=\"vertical\")\n",
    "plt.title('q_stationary_sample_'+ str(schedule_steps) +'_steps_cityscapes_val_distribution.npy')\n",
    "\n",
    "# plt.show() \n",
    "plt.savefig('confusion_similarity_results/q_stationary_sample_'+ str(schedule_steps) +'_steps_cityscapes_val_distribution.png', bbox_inches = 'tight')"
   ]
  },
  {
   "cell_type": "code",
   "execution_count": 99,
   "id": "5984207e-d062-4ac0-8200-fa6072c3bbda",
   "metadata": {},
   "outputs": [
    {
     "data": {
      "image/png": "[encoded data removed]",
      "text/plain": [
       "<Figure size 1000x500 with 1 Axes>"
      ]
     },
     "metadata": {},
     "output_type": "display_data"
    }
   ],
   "source": [
    "schedule_steps = 20\n",
    "\n",
    "q_stationary_sample_cityscapes_val_distribution = np.load('confusion_similarity_results/q_stationary_sample_'+ str(schedule_steps) +'_steps_cityscapes_val_distribution.npy',allow_pickle='TRUE').item()   \n",
    "class_2_ind = {v: k for k, v in ind_2_class_dict.items()}  \n",
    "class_2_ind['Background'] = 19  \n",
    "## val data \n",
    "sns.set_context('talk')\n",
    "plt.figure(figsize=(10,5))\n",
    "\n",
    "keys = list(q_stationary_sample_cityscapes_val_distribution.keys())\n",
    "keys_for_plot = list(class_2_ind.keys()) \n",
    "# get values in the same order as keys, and parse percentage values\n",
    "vals = [float(q_stationary_sample_cityscapes_val_distribution[k]) for k in keys]\n",
    "# sns.barplot(x=keys, y=vals)\n",
    "sns.barplot(x=keys_for_plot, y=vals)\n",
    "\n",
    "plt.xlabel(\"Class label\")\n",
    "plt.ylabel(\"Probability mass function\")\n",
    "plt.xticks(rotation=\"vertical\")\n",
    "plt.title('q_stationary_sample_'+ str(schedule_steps) +'_steps_cityscapes_val_distribution.npy')\n",
    "\n",
    "# plt.show() \n",
    "plt.savefig('confusion_similarity_results/q_stationary_sample_'+ str(schedule_steps) +'_steps_cityscapes_val_distribution.png', bbox_inches = 'tight')"
   ]
  },
  {
   "cell_type": "code",
   "execution_count": 35,
   "id": "8e54488b-2f50-427b-8b4e-c27981c88926",
   "metadata": {},
   "outputs": [],
   "source": [
    "# # with cosine time scheduling \n",
    "# t = 1\n",
    "# # beta = powers[t + 1] - powers[t]  ## beta value at timestep t \n",
    "# beta = powers[t + 1]  ## cummulative value at timestep t for beta \n",
    "# transition_matrix = builder_fn(transition_rate, beta) \n",
    "# transition_matrix[-1]"
   ]
  },
  {
   "cell_type": "code",
   "execution_count": 79,
   "id": "4ea74f1e-ffbd-4957-80cd-f381c4473a2f",
   "metadata": {},
   "outputs": [
    {
     "data": {
      "text/plain": [
       "array([1., 1., 1., 1., 1., 1., 1., 1., 1., 1., 1., 1., 1., 1., 1., 1., 1.,\n",
       "       1., 1.])"
      ]
     },
     "execution_count": 79,
     "metadata": {},
     "output_type": "execute_result"
    }
   ],
   "source": [
    "transition_matrix.sum(1) ## necessary to be one"
   ]
  },
  {
   "cell_type": "code",
   "execution_count": 78,
   "id": "50bf290f-a060-4f79-a3a5-13dbccdf752e",
   "metadata": {},
   "outputs": [
    {
     "data": {
      "text/plain": [
       "array([5.09438708, 0.86727819, 4.6397479 , 0.03536898, 0.05305737,\n",
       "       0.21771907, 0.04260175, 0.10292113, 4.58621797, 0.08198936,\n",
       "       1.35042924, 0.30495182, 0.04470476, 1.29569976, 0.01982885,\n",
       "       0.06538527, 0.00659646, 0.01297863, 0.17813639])"
      ]
     },
     "execution_count": 78,
     "metadata": {},
     "output_type": "execute_result"
    }
   ],
   "source": [
    "transition_matrix.sum(0)"
   ]
  },
  {
   "cell_type": "code",
   "execution_count": null,
   "id": "ff379c64-656b-4248-bb25-f36cb67e8f6d",
   "metadata": {},
   "outputs": [],
   "source": []
  }
 ],
 "metadata": {
  "kernelspec": {
   "display_name": "Python 3 (ipykernel)",
   "language": "python",
   "name": "python3"
  },
  "language_info": {
   "codemirror_mode": {
    "name": "ipython",
    "version": 3
   },
   "file_extension": ".py",
   "mimetype": "text/x-python",
   "name": "python",
   "nbconvert_exporter": "python",
   "pygments_lexer": "ipython3",
   "version": "3.9.12"
  }
 },
 "nbformat": 4,
 "nbformat_minor": 5
}
