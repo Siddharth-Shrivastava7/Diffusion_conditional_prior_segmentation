{
 "cells": [
  {
   "cell_type": "code",
   "execution_count": 6,
   "id": "8bf3112f-5f6a-4b39-a398-ba654cd4c258",
   "metadata": {},
   "outputs": [],
   "source": [
    "import torch \n",
    "import seaborn as sns\n",
    "import torch.nn.functional as F\n",
    "import numpy as np\n",
    "import scipy\n",
    "import matplotlib.pyplot as plt \n",
    "from PIL import Image "
   ]
  },
  {
   "cell_type": "code",
   "execution_count": 2,
   "id": "8f6b232d-9380-49f0-ab11-950d58be4d16",
   "metadata": {},
   "outputs": [],
   "source": [
    "model = torch.load('/home/sidd_s/scratch/saved_models/Protoseg/hrnet_w48_proto_lr1x_hrnet_proto_80k_latest.pth')\n",
    "protos = model['state_dict']['module.prototypes']"
   ]
  },
  {
   "cell_type": "code",
   "execution_count": 3,
   "id": "ad236c70-476a-428b-a401-cdde76475855",
   "metadata": {},
   "outputs": [],
   "source": [
    "def similarity_among_classes(protos):\n",
    "    cos = torch.nn.CosineSimilarity(dim=0)\n",
    "    similarity_matrix = []\n",
    "    for i in range(19):\n",
    "        per_row_similarity = [] \n",
    "        for j in range(19):\n",
    "            per_row_similarity.append(cos(protos[i][0], protos[j][0]))\n",
    "        similarity_matrix.append(per_row_similarity)\n",
    "    similarity_matrix_tensor = torch.FloatTensor(similarity_matrix)     \n",
    "\n",
    "    # sim_test = similarity_matrix_tensor.clone() \n",
    "    # sim_test.fill_diagonal_(-1e17) ## filling extremely low numbers at diagonals for removing them from similarity consideration\n",
    "    # probas_sim_test = F.softmax(sim_test, dim=1) ## applying softmax to convert into probability distribution \n",
    "\n",
    "    # return probas_sim_test, similarity_matrix_tensor\n",
    "    return similarity_matrix_tensor\n",
    "\n",
    "similarity_matrix_tensor = similarity_among_classes(protos)\n",
    "\n",
    "similarity_matrix = np.array(similarity_matrix_tensor)"
   ]
  },
  {
   "cell_type": "code",
   "execution_count": 4,
   "id": "75d3aeed-2397-4fa3-904b-4bafc9e32ea8",
   "metadata": {},
   "outputs": [],
   "source": [
    "ind_2_class_dict = {  \n",
    "    0: \"Road\",\n",
    "    1: \"Sidewalk\", \n",
    "    2: \"Building\",  \n",
    "    3: \"wall\",\n",
    "    4: \"fence\",  \n",
    "    5: \"Pole\", \n",
    "    6: \"Traffic light\",\n",
    "    7: \"Traffic sign\",\n",
    "    8: \"Vegetation\", \n",
    "    9: \"Terrain\",\n",
    "    10: \"Sky\",\n",
    "    11: \"Person\",\n",
    "    12: \"Rider\",\n",
    "    13: \"Car\",\n",
    "    14: \"Truck\",\n",
    "    15: \"Bus\",\n",
    "    16: \"Train\",\n",
    "    17: \"Motorcycle\",\n",
    "    18: \"Bicycle\"\n",
    "}\n",
    "\n",
    "def calculate_adjacency_matrix_knn(similarity_matrix, k): \n",
    "    adj = similarity_matrix.copy()\n",
    "    similar_classes = []\n",
    "    for row in range(adj.shape[0]):\n",
    "        row_sim_decrease_inds = np.argsort(adj[row])[::-1]\n",
    "        knn_indexs = row_sim_decrease_inds[:k] \n",
    "        adj[row][knn_indexs] = 1\n",
    "        adj[row][adj[row]!=1] = 0\n",
    "\n",
    "        similar_classes.append([ (('Current Class:' + ind_2_class_dict[row]) ,(knn_indexs[i], ind_2_class_dict[knn_indexs[i]])) for i in range(knn_indexs.shape[0])])\n",
    "    return adj, similar_classes\n"
   ]
  },
  {
   "cell_type": "code",
   "execution_count": 5,
   "id": "79ffb231-7b02-4d1f-8db7-25b7a3964d93",
   "metadata": {},
   "outputs": [],
   "source": [
    "k = 5\n",
    "\n",
    "adj, similar_classes = calculate_adjacency_matrix_knn(similarity_matrix, k)\n",
    "\n",
    "adj_s = (adj + adj.T) / (2 * k) \n",
    "\n",
    "tr = adj_s - np.diag(np.sum(adj_s, axis=1))\n",
    "\n",
    "beta_min = 15 # trial\n",
    "\n",
    "matrix = scipy.linalg.expm(np.array(tr * beta_min, dtype=np.float64)) # trial "
   ]
  },
  {
   "cell_type": "markdown",
   "id": "9bc73e1a-9489-4cd3-a595-dba4d3568889",
   "metadata": {
    "jp-MarkdownHeadingCollapsed": true
   },
   "source": [
    "### different noise scheduling"
   ]
  },
  {
   "cell_type": "code",
   "execution_count": 3,
   "id": "052b3cb0-02ee-4288-aad9-7ec71e09914c",
   "metadata": {},
   "outputs": [],
   "source": [
    "# linear scheduler\n",
    "betas = np.linspace(1e-6, 1e-4,20)\n",
    "btt = betas_tt_arr(betas)"
   ]
  },
  {
   "cell_type": "code",
   "execution_count": 25,
   "id": "49067956-1c54-473a-a3df-5fdbc98f4310",
   "metadata": {},
   "outputs": [],
   "source": [
    "## cosine scheduler "
   ]
  },
  {
   "cell_type": "code",
   "execution_count": 14,
   "id": "ddf4afcd-7075-4ee6-aa84-263c0e4acd57",
   "metadata": {},
   "outputs": [],
   "source": [
    "def cosine_fn(step):\n",
    "      return np.cos((step / num_steps + s) / (1 + s) * np.pi / 2)\n",
    "def schedule_fn(step):\n",
    "      return np.clip(1 - (cosine_fn(step + 1) / cosine_fn(step)), 0, 0.999)"
   ]
  },
  {
   "cell_type": "code",
   "execution_count": 35,
   "id": "ea8364c3-e079-40b6-9c9b-47aabcfa51e6",
   "metadata": {},
   "outputs": [],
   "source": [
    "s = 1e-9\n",
    "betas = []\n",
    "num_steps = 20"
   ]
  },
  {
   "cell_type": "code",
   "execution_count": 36,
   "id": "12974f0e-eab2-43de-aa06-a4918d1e1980",
   "metadata": {},
   "outputs": [],
   "source": [
    "betas = [schedule_fn(step) for step  in range(num_steps)]  \n",
    "betas = np.array(betas)"
   ]
  },
  {
   "cell_type": "code",
   "execution_count": 222,
   "id": "c8da2987-bcd3-49a1-815b-fcf1c4573beb",
   "metadata": {},
   "outputs": [],
   "source": [
    "# betas"
   ]
  },
  {
   "cell_type": "code",
   "execution_count": 134,
   "id": "9eed5157-7ef3-489e-87e9-c44878b49097",
   "metadata": {},
   "outputs": [],
   "source": [
    "def cos_alpha_schedule(time_step, N=20, att_1=0.99999, att_T=0.0001, ctt_1=0.0001, ctt_T=0.99999, exp=3):\n",
    "    att = np.arange(0, time_step)\n",
    "    att = (np.cos((att + time_step) * math.pi * 0.5 / time_step) + 1)**exp\n",
    "    att = att * (att_1 - att_T) + att_T\n",
    "    att = np.concatenate(([1], att))\n",
    "    at = att[1:] / att[:-1]\n",
    "\n",
    "    ctt = np.arange(0, time_step)\n",
    "    ctt = (np.cos((ctt + time_step) * math.pi * 0.5 / time_step) + 1)**exp\n",
    "    ctt = ctt * (ctt_1 - ctt_T) + ctt_T\n",
    "    ctt = np.concatenate(([0], ctt))\n",
    "\n",
    "    one_minus_ctt = 1 - ctt\n",
    "    one_minus_ct = one_minus_ctt[1:] / one_minus_ctt[:-1]\n",
    "    ct = 1 - one_minus_ct\n",
    "    bt = (1 - at - ct) / N\n",
    "    att = np.concatenate((att[1:], [1]))\n",
    "    ctt = np.concatenate((ctt[1:], [0]))\n",
    "    btt = (1 - att - ctt) / N\n",
    "    # return at, bt, ct, att, btt, ctt\n",
    "    return bt "
   ]
  },
  {
   "cell_type": "code",
   "execution_count": 221,
   "id": "06423a22-aac3-4193-a76e-51fda8ebd212",
   "metadata": {},
   "outputs": [],
   "source": [
    "# betas = cos_alpha_schedule(20)\n",
    "# betas "
   ]
  },
  {
   "cell_type": "code",
   "execution_count": 225,
   "id": "b60787b5-49d5-4d1c-8d69-89d443d6c771",
   "metadata": {},
   "outputs": [],
   "source": [
    "# np.power(np.linspace(1e-4, 1e-1, num=20), math.e)"
   ]
  },
  {
   "cell_type": "raw",
   "id": "0d0066e6-e338-46e8-a771-bb85c2a7409f",
   "metadata": {},
   "source": [
    "log space => numbers spaced evenly on a log scale.\n",
    "In linear space, the sequence starts at base ** start (base to the power of start) and ends with base ** stop\n",
    "\n",
    "Slow in the beginning, then rapidly increase in the later stages (kind of like exponential space growth)"
   ]
  },
  {
   "cell_type": "code",
   "execution_count": 226,
   "id": "ab7d4c2f-dd5b-4059-9d72-276d731d0b5c",
   "metadata": {},
   "outputs": [],
   "source": [
    "## testing log space vs linear space"
   ]
  },
  {
   "cell_type": "code",
   "execution_count": 229,
   "id": "757a6f63-481d-443b-9e63-e5c212788379",
   "metadata": {},
   "outputs": [
    {
     "data": {
      "text/plain": [
       "array([ 10.        ,  10.26209321,  10.53105571,  10.80706753,\n",
       "        11.09031343,  11.38098302,  11.67927086,  11.98537662,\n",
       "        12.2995052 ,  12.62186688,  12.95267744,  13.29215833,\n",
       "        13.64053677,  13.99804598,  14.36492526,  14.7414202 ,\n",
       "        15.12778282,  15.52427173,  15.93115236,  16.34869705,\n",
       "        16.7771853 ,  17.21690393,  17.6681473 ,  18.13121744,\n",
       "        18.60642434,  19.09408609,  19.59452913,  20.10808843,\n",
       "        20.63510778,  21.17593994,  21.73094695,  22.30050032,\n",
       "        22.8849813 ,  23.48478112,  24.10030129,  24.73195382,\n",
       "        25.38016154,  26.04535835,  26.72798951,  27.42851197,\n",
       "        28.14739464,  28.88511875,  29.6421781 ,  30.41907947,\n",
       "        31.21634289,  32.03450204,  32.87410459,  33.73571256,\n",
       "        34.61990268,  35.52726683,  36.45841237,  37.41396261,\n",
       "        38.39455717,  39.40085245,  40.43352204,  41.4932572 ,\n",
       "        42.5807673 ,  43.69678031,  44.84204325,  46.01732277,\n",
       "        47.22340555,  48.46109895,  49.73123146,  51.03465327,\n",
       "        52.37223689,  53.74487766,  55.15349442,  56.59903006,\n",
       "        58.08245222,  59.60475386,  61.16695399,  62.77009833,\n",
       "        64.41525999,  66.10354023,  67.83606914,  69.61400646,\n",
       "        71.43854231,  73.310898  ,  75.23232687,  77.20411508,\n",
       "        79.22758253,  81.30408368,  83.43500852,  85.62178345,\n",
       "        87.86587226,  90.16877712,  92.53203956,  94.95724149,\n",
       "        97.44600633, 100.        ])"
      ]
     },
     "execution_count": 229,
     "metadata": {},
     "output_type": "execute_result"
    }
   ],
   "source": [
    "betas = np.logspace(1, 2, base = 10, num=90)\n",
    "betas"
   ]
  },
  {
   "cell_type": "code",
   "execution_count": 3,
   "id": "0cbe97be-6852-46a2-a000-94efdcb1ae2f",
   "metadata": {},
   "outputs": [
    {
     "data": {
      "text/plain": [
       "array([0.0001    , 0.00062105, 0.00114211, 0.00166316, 0.00218421,\n",
       "       0.00270526, 0.00322632, 0.00374737, 0.00426842, 0.00478947,\n",
       "       0.00531053, 0.00583158, 0.00635263, 0.00687368, 0.00739474,\n",
       "       0.00791579, 0.00843684, 0.00895789, 0.00947895, 0.01      ])"
      ]
     },
     "execution_count": 3,
     "metadata": {},
     "output_type": "execute_result"
    }
   ],
   "source": [
    "betas = np.linspace(1e-4, 1e-2, 20)\n",
    "betas"
   ]
  },
  {
   "cell_type": "code",
   "execution_count": 231,
   "id": "49edf923-367f-48fe-a013-e12d09a7d976",
   "metadata": {},
   "outputs": [],
   "source": [
    "# betas = np.logspace(-13, -9, base = math.e, num=20)\n",
    "# betas"
   ]
  },
  {
   "cell_type": "code",
   "execution_count": 4,
   "id": "29043645-cbea-4155-8bd3-b43a162d92fe",
   "metadata": {},
   "outputs": [
    {
     "data": {
      "text/plain": [
       "array([1.00000000e-04, 1.27427499e-04, 1.62377674e-04, 2.06913808e-04,\n",
       "       2.63665090e-04, 3.35981829e-04, 4.28133240e-04, 5.45559478e-04,\n",
       "       6.95192796e-04, 8.85866790e-04, 1.12883789e-03, 1.43844989e-03,\n",
       "       1.83298071e-03, 2.33572147e-03, 2.97635144e-03, 3.79269019e-03,\n",
       "       4.83293024e-03, 6.15848211e-03, 7.84759970e-03, 1.00000000e-02])"
      ]
     },
     "execution_count": 4,
     "metadata": {},
     "output_type": "execute_result"
    }
   ],
   "source": [
    "betas = np.logspace(-4, -2, base = 10, num=20)\n",
    "betas"
   ]
  },
  {
   "cell_type": "code",
   "execution_count": 259,
   "id": "8a72327e-6ecc-4b95-ba1d-e7153427be39",
   "metadata": {},
   "outputs": [],
   "source": [
    "# betas[5]"
   ]
  },
  {
   "cell_type": "code",
   "execution_count": 220,
   "id": "49ef145f-f162-4c71-b777-41aafe642c56",
   "metadata": {},
   "outputs": [],
   "source": [
    "# betas = np.geomspace(1e-6, 1e-4, 20)\n",
    "# betas \n",
    "## similar to np.logspcace "
   ]
  },
  {
   "cell_type": "code",
   "execution_count": 232,
   "id": "ea8a1524-e060-480a-9bb9-0d3efad87806",
   "metadata": {},
   "outputs": [],
   "source": [
    "# betas = np.linspace(3.16e-6, 1e-4,20)\n",
    "# betas"
   ]
  },
  {
   "cell_type": "markdown",
   "id": "115b2492-533d-4e2a-9a77-b467f5d16533",
   "metadata": {
    "jp-MarkdownHeadingCollapsed": true
   },
   "source": [
    "### Adjacency matrix calc from confusion matrix"
   ]
  },
  {
   "cell_type": "code",
   "execution_count": 5,
   "id": "82e13875-1355-441d-ae1b-4a000814c81d",
   "metadata": {},
   "outputs": [],
   "source": [
    "def calculate_adjacency_matrix(confusion_matrix, k=3):\n",
    "    ## calculate adjacency_matrix from confusion matrix \n",
    "    np.fill_diagonal(confusion_matrix,0) ## removing the dependency of the class with itself  ## its is an inplace argument \n",
    "    # indices = np.argpartition(confusion_matrix, -k, axis=1)[:, -k:]\n",
    "    # top_k_values = np.take_along_axis(confusion_matrix, indices, axis=1)\n",
    "    sorted_indices = np.argsort(confusion_matrix) \n",
    "    indices_as_ranks = np.argsort(np.argsort(confusion_matrix)) \n",
    "    indices_which_are_topk_as_bool = (indices_as_ranks >= confusion_matrix.shape[1] - k) # shape[1] used as we need to find it along row \n",
    "    adjacency_matrix = confusion_matrix * indices_which_are_topk_as_bool\n",
    "    # print(adjacency_matrix)   \n",
    "    ## for one hot adjacency matrix \n",
    "    adjacency_matrix_as_one_hot = adjacency_matrix.copy()\n",
    "    adjacency_matrix_as_one_hot[adjacency_matrix_as_one_hot>0] = 1 \n",
    "    \n",
    "    return adjacency_matrix_as_one_hot"
   ]
  },
  {
   "cell_type": "code",
   "execution_count": 161,
   "id": "f5fd9319-5b9c-40c6-a07e-6fe76aa36ff8",
   "metadata": {},
   "outputs": [],
   "source": [
    "adj =calculate_adjacency_matrix(con, k=15)"
   ]
  },
  {
   "cell_type": "code",
   "execution_count": 162,
   "id": "427e498c-a824-48b1-ba60-adfb924f0668",
   "metadata": {},
   "outputs": [
    {
     "data": {
      "text/plain": [
       "(19, 19)"
      ]
     },
     "execution_count": 162,
     "metadata": {},
     "output_type": "execute_result"
    }
   ],
   "source": [
    "adj.shape"
   ]
  },
  {
   "cell_type": "code",
   "execution_count": 163,
   "id": "4cbb4df0-2172-467d-a431-9c34eef9f963",
   "metadata": {},
   "outputs": [
    {
     "data": {
      "text/plain": [
       "array([0., 1., 1., 1., 1., 1., 0., 1., 1., 1., 1., 1., 1., 1., 1., 1., 0.,\n",
       "       0., 1.])"
      ]
     },
     "execution_count": 163,
     "metadata": {},
     "output_type": "execute_result"
    }
   ],
   "source": [
    "adj[0]"
   ]
  },
  {
   "cell_type": "code",
   "execution_count": 164,
   "id": "bf1b31a9-320c-492e-b385-6c0b5718179e",
   "metadata": {},
   "outputs": [],
   "source": [
    "adj_s = (adj + adj.T) / 30"
   ]
  },
  {
   "cell_type": "code",
   "execution_count": 165,
   "id": "ad3dd6b3-9c33-4fe3-9fab-47d822a32607",
   "metadata": {},
   "outputs": [
    {
     "data": {
      "text/plain": [
       "array([0.        , 0.06666667, 0.03333333, 0.06666667, 0.06666667,\n",
       "       0.06666667, 0.        , 0.06666667, 0.06666667, 0.06666667,\n",
       "       0.06666667, 0.06666667, 0.06666667, 0.06666667, 0.06666667,\n",
       "       0.06666667, 0.03333333, 0.03333333, 0.06666667])"
      ]
     },
     "execution_count": 165,
     "metadata": {},
     "output_type": "execute_result"
    }
   ],
   "source": [
    "adj_s[0]"
   ]
  },
  {
   "cell_type": "code",
   "execution_count": 166,
   "id": "0def6ac1-2582-4a85-9d40-4e78dde632bf",
   "metadata": {},
   "outputs": [],
   "source": [
    "tr = adj_s - np.diagflat(np.sum(adj_s,axis =1))"
   ]
  },
  {
   "cell_type": "code",
   "execution_count": 167,
   "id": "fe7cbb8b-302c-419a-abd1-004d043d4703",
   "metadata": {},
   "outputs": [
    {
     "data": {
      "text/plain": [
       "array([-1.03333333, -1.03333333, -1.1       , -1.06666667, -1.06666667,\n",
       "       -1.1       , -0.7       , -1.1       , -1.1       , -0.93333333,\n",
       "       -0.76666667, -1.1       , -1.03333333, -1.1       , -1.03333333,\n",
       "       -1.        , -0.7       , -0.8       , -1.03333333])"
      ]
     },
     "execution_count": 167,
     "metadata": {},
     "output_type": "execute_result"
    }
   ],
   "source": [
    "np.diag(tr)"
   ]
  },
  {
   "cell_type": "code",
   "execution_count": 168,
   "id": "e21ee47c-c830-492b-b548-264032d2e837",
   "metadata": {},
   "outputs": [
    {
     "data": {
      "text/plain": [
       "array([-3.19189120e-16, -3.05311332e-16, -2.08166817e-16, -1.94289029e-16,\n",
       "       -1.94289029e-16, -3.05311332e-16, -2.77555756e-17, -3.19189120e-16,\n",
       "       -2.08166817e-16, -1.24900090e-16, -1.38777878e-17, -1.94289029e-16,\n",
       "       -1.94289029e-16, -1.94289029e-16, -1.94289029e-16, -8.32667268e-17,\n",
       "       -9.71445147e-17, -9.71445147e-17, -2.22044605e-16])"
      ]
     },
     "execution_count": 168,
     "metadata": {},
     "output_type": "execute_result"
    }
   ],
   "source": [
    "tr.sum(0)"
   ]
  },
  {
   "cell_type": "code",
   "execution_count": 169,
   "id": "1cc75c05-201a-4be2-aa08-ad8065559ba4",
   "metadata": {},
   "outputs": [
    {
     "data": {
      "text/plain": [
       "array([-9.71445147e-17, -8.32667268e-17, -9.71445147e-17,  2.77555756e-17,\n",
       "        2.77555756e-17, -1.94289029e-16,  1.38777878e-17, -2.08166817e-16,\n",
       "       -2.08166817e-16, -6.93889390e-17,  1.38777878e-17, -8.32667268e-17,\n",
       "       -1.94289029e-16, -8.32667268e-17, -1.94289029e-16,  2.77555756e-17,\n",
       "        1.38777878e-17,  1.38777878e-17,  0.00000000e+00])"
      ]
     },
     "execution_count": 169,
     "metadata": {},
     "output_type": "execute_result"
    }
   ],
   "source": [
    "tr.sum(1)"
   ]
  },
  {
   "cell_type": "code",
   "execution_count": null,
   "id": "fdd94983-9596-46b7-8a3c-7d54c1f2d624",
   "metadata": {},
   "outputs": [],
   "source": []
  },
  {
   "cell_type": "code",
   "execution_count": 170,
   "id": "85deec97-f50d-4668-a255-7b0c6f42fde5",
   "metadata": {},
   "outputs": [
    {
     "data": {
      "text/plain": [
       "array([-1.03333333,  0.06666667,  0.03333333,  0.06666667,  0.06666667,\n",
       "        0.06666667,  0.        ,  0.06666667,  0.06666667,  0.06666667,\n",
       "        0.06666667,  0.06666667,  0.06666667,  0.06666667,  0.06666667,\n",
       "        0.06666667,  0.03333333,  0.03333333,  0.06666667])"
      ]
     },
     "execution_count": 170,
     "metadata": {},
     "output_type": "execute_result"
    }
   ],
   "source": [
    "tr[0]"
   ]
  },
  {
   "cell_type": "code",
   "execution_count": null,
   "id": "90d72831-2e47-4443-9253-364ba19a708f",
   "metadata": {},
   "outputs": [],
   "source": []
  },
  {
   "cell_type": "code",
   "execution_count": null,
   "id": "c5ba6975-7def-45e0-aed1-9079ad051bf4",
   "metadata": {},
   "outputs": [],
   "source": []
  },
  {
   "cell_type": "markdown",
   "id": "e5409723-0fc7-4297-934c-2fcbd3b9e5ae",
   "metadata": {
    "jp-MarkdownHeadingCollapsed": true
   },
   "source": [
    "### testing base matrix with various noise schedulers"
   ]
  },
  {
   "cell_type": "code",
   "execution_count": 185,
   "id": "b0a42762-89a2-4ef5-aab6-1dffca79b10f",
   "metadata": {},
   "outputs": [],
   "source": [
    "m = simmat(8, tr)"
   ]
  },
  {
   "cell_type": "code",
   "execution_count": 186,
   "id": "52b10c23-fd7a-47c2-94cb-434284b31a1e",
   "metadata": {},
   "outputs": [
    {
     "data": {
      "text/plain": [
       "array([0.05287917, 0.05274396, 0.0526114 , 0.05268433, 0.05266573,\n",
       "       0.0526417 , 0.05211753, 0.05264302, 0.05264789, 0.05272677,\n",
       "       0.05256704, 0.05268148, 0.05270629, 0.05268148, 0.05263825,\n",
       "       0.05262579, 0.05235408, 0.05265684, 0.05272727])"
      ]
     },
     "execution_count": 186,
     "metadata": {},
     "output_type": "execute_result"
    }
   ],
   "source": [
    "m[0]"
   ]
  },
  {
   "cell_type": "code",
   "execution_count": 24,
   "id": "195ab1a6-a696-49ee-b22a-5ab28c2c2741",
   "metadata": {},
   "outputs": [
    {
     "data": {
      "text/plain": [
       "array([9.99890007e-01, 1.99978501e-05, 5.99932838e-10, 1.99990333e-10,\n",
       "       2.99979834e-10, 3.99965668e-10, 5.00033329e-11, 9.99910005e-06,\n",
       "       7.49912006e-10, 1.99983001e-05, 5.00066658e-11, 9.99920004e-06,\n",
       "       2.99979667e-10, 1.99978501e-05, 9.99930003e-06, 9.99925004e-06,\n",
       "       1.49992500e-10, 1.99987334e-10, 9.99925004e-06])"
      ]
     },
     "execution_count": 24,
     "metadata": {},
     "output_type": "execute_result"
    }
   ],
   "source": [
    "m[0]"
   ]
  },
  {
   "cell_type": "code",
   "execution_count": 262,
   "id": "43a6a224-f090-41cc-9ef6-6e2a5a6589ec",
   "metadata": {},
   "outputs": [
    {
     "data": {
      "text/plain": [
       "array([0.05263675, 0.05263683, 0.0526356 , 0.05263658, 0.05263602,\n",
       "       0.0526362 , 0.05264379, 0.05263768, 0.05263596, 0.05263697,\n",
       "       0.05263654, 0.05263823, 0.05264545, 0.05263633, 0.05265286,\n",
       "       0.05268067, 0.05445235, 0.05318652, 0.05264033])"
      ]
     },
     "execution_count": 262,
     "metadata": {},
     "output_type": "execute_result"
    }
   ],
   "source": [
    "np.diag(m)"
   ]
  },
  {
   "cell_type": "code",
   "execution_count": 263,
   "id": "f72428a6-31a2-445c-97a4-c43b6350e9f3",
   "metadata": {},
   "outputs": [
    {
     "data": {
      "text/plain": [
       "array([1., 1., 1., 1., 1., 1., 1., 1., 1., 1., 1., 1., 1., 1., 1., 1., 1.,\n",
       "       1., 1.])"
      ]
     },
     "execution_count": 263,
     "metadata": {},
     "output_type": "execute_result"
    }
   ],
   "source": [
    "m.sum(0)"
   ]
  },
  {
   "cell_type": "code",
   "execution_count": 264,
   "id": "56edc777-314c-4c5b-9269-17fc26f31b4d",
   "metadata": {},
   "outputs": [
    {
     "data": {
      "text/plain": [
       "array([1., 1., 1., 1., 1., 1., 1., 1., 1., 1., 1., 1., 1., 1., 1., 1., 1.,\n",
       "       1., 1.])"
      ]
     },
     "execution_count": 264,
     "metadata": {},
     "output_type": "execute_result"
    }
   ],
   "source": [
    "m.sum(1)"
   ]
  },
  {
   "cell_type": "markdown",
   "id": "2f83f355-0b69-4e59-8914-d686f2372aa8",
   "metadata": {
    "jp-MarkdownHeadingCollapsed": true
   },
   "source": [
    "### comparision with confusion matrix"
   ]
  },
  {
   "cell_type": "code",
   "execution_count": 4,
   "id": "7f0b7556-1103-4814-84e7-71d6e653ab54",
   "metadata": {},
   "outputs": [],
   "source": [
    "con = np.load('/home/sidd_s/Diffusion_conditional_prior_segmentation/DDPS/tools/saved_files/matrix_numpy/confusion_matrix_cityscapes_segformerb2.npy')"
   ]
  },
  {
   "cell_type": "code",
   "execution_count": 5,
   "id": "1dc12a38-3d9f-431a-8d73-078a8233bf70",
   "metadata": {},
   "outputs": [
    {
     "data": {
      "text/plain": [
       "array([3.42191258e+08, 4.62292430e+07, 1.94722792e+08, 4.86530400e+06,\n",
       "       5.28670000e+06, 1.07098340e+07, 1.55824600e+06, 5.43912900e+06,\n",
       "       1.53996056e+08, 5.48386100e+06, 3.01713920e+07, 1.09683500e+07,\n",
       "       1.54797300e+06, 5.85725870e+07, 2.46212200e+06, 3.40205200e+06,\n",
       "       8.91340000e+05, 6.00022000e+05, 5.86972000e+06])"
      ]
     },
     "execution_count": 5,
     "metadata": {},
     "output_type": "execute_result"
    }
   ],
   "source": [
    "np.diag(con)"
   ]
  },
  {
   "cell_type": "code",
   "execution_count": 25,
   "id": "436d17da-cb8e-49b1-8ef1-c22f7e747f6f",
   "metadata": {},
   "outputs": [
    {
     "data": {
      "text/plain": [
       "array([ -5628417.,  -7248092., -13844283.,  -2487401.,  -3157585.,\n",
       "        -4894851.,   -523629.,  -1211845., -11490689.,  -3156210.,\n",
       "        -1468612.,  -2064963.,   -811242.,  -2678828.,   -401651.,\n",
       "         -322970.,   -191420.,   -234960.,  -1519438.])"
      ]
     },
     "execution_count": 25,
     "metadata": {},
     "output_type": "execute_result"
    }
   ],
   "source": [
    "np.diag(tr)"
   ]
  },
  {
   "cell_type": "code",
   "execution_count": 23,
   "id": "a011150a-55ab-4f48-8eb2-5f7dd26662db",
   "metadata": {},
   "outputs": [
    {
     "data": {
      "text/plain": [
       "array([3.42191258e+08, 2.05861000e+06, 4.92220000e+04, 1.59470000e+04,\n",
       "       2.46830000e+04, 3.69790000e+04, 1.00000000e+00, 1.24110000e+04,\n",
       "       4.58740000e+04, 1.01316000e+05, 7.39700000e+03, 1.13438000e+05,\n",
       "       7.62900000e+03, 4.67588000e+05, 8.48800000e+03, 2.04460000e+04,\n",
       "       5.30000000e+03, 4.17300000e+03, 5.12500000e+04])"
      ]
     },
     "execution_count": 23,
     "metadata": {},
     "output_type": "execute_result"
    }
   ],
   "source": [
    "con[0]"
   ]
  },
  {
   "cell_type": "code",
   "execution_count": 24,
   "id": "8d7564ac-ec6a-4607-a1f7-631c77f24473",
   "metadata": {},
   "outputs": [
    {
     "data": {
      "text/plain": [
       "array([1.14970000e+04, 2.52640000e+05, 1.94722792e+08, 1.44523000e+05,\n",
       "       1.85004000e+05, 7.84863000e+05, 9.77150000e+04, 2.29575000e+05,\n",
       "       3.30994100e+06, 1.56480000e+04, 4.05660000e+05, 2.95075000e+05,\n",
       "       2.96470000e+04, 1.78111000e+05, 2.47580000e+04, 1.55890000e+04,\n",
       "       1.21720000e+04, 6.23000000e+03, 1.73833000e+05])"
      ]
     },
     "execution_count": 24,
     "metadata": {},
     "output_type": "execute_result"
    }
   ],
   "source": [
    "con[2]"
   ]
  },
  {
   "cell_type": "markdown",
   "id": "5efd27b1-2378-40aa-b3c3-1c529810ff85",
   "metadata": {
    "jp-MarkdownHeadingCollapsed": true
   },
   "source": [
    "### testing rough work"
   ]
  },
  {
   "cell_type": "code",
   "execution_count": 8,
   "id": "7a096f83-c00d-43b1-bc05-34cd710f9840",
   "metadata": {},
   "outputs": [],
   "source": [
    "con = torch.tensor(np.load('/home/sidd_s/Diffusion_conditional_prior_segmentation/DDPS/tools/saved_files/matrix_numpy/confusion_matrix_cityscapes_segformerb2.npy'))"
   ]
  },
  {
   "cell_type": "code",
   "execution_count": 12,
   "id": "0b803d5e-e656-4d6a-b009-0a01b93803b6",
   "metadata": {},
   "outputs": [],
   "source": [
    "test = torch.ones((19,19))"
   ]
  },
  {
   "cell_type": "code",
   "execution_count": 14,
   "id": "bdd9c004-2a9f-4767-a58c-47d7eb104d9e",
   "metadata": {},
   "outputs": [
    {
     "data": {
      "text/plain": [
       "torch.Size([19, 19])"
      ]
     },
     "execution_count": 14,
     "metadata": {},
     "output_type": "execute_result"
    }
   ],
   "source": [
    "test.shape"
   ]
  },
  {
   "cell_type": "code",
   "execution_count": 17,
   "id": "e422d17b-f7a8-40af-b06f-aba0ef6020d8",
   "metadata": {},
   "outputs": [],
   "source": [
    "test_p = F.pad(input=test, pad=(0, 1, 0, 1), mode='constant', value=0)"
   ]
  },
  {
   "cell_type": "code",
   "execution_count": 20,
   "id": "17012f60-04b2-4853-9dc6-13e0a5d0e834",
   "metadata": {},
   "outputs": [
    {
     "data": {
      "text/plain": [
       "tensor([0., 0., 0., 0., 0., 0., 0., 0., 0., 0., 0., 0., 0., 0., 0., 0., 0., 0., 0., 0.])"
      ]
     },
     "execution_count": 20,
     "metadata": {},
     "output_type": "execute_result"
    }
   ],
   "source": [
    "test_p[:,-1]"
   ]
  },
  {
   "cell_type": "code",
   "execution_count": 21,
   "id": "ba222d51-0553-4bd1-aafe-4234316e57b7",
   "metadata": {},
   "outputs": [
    {
     "data": {
      "text/plain": [
       "tensor([0., 0., 0., 0., 0., 0., 0., 0., 0., 0., 0., 0., 0., 0., 0., 0., 0., 0., 0., 0.])"
      ]
     },
     "execution_count": 21,
     "metadata": {},
     "output_type": "execute_result"
    }
   ],
   "source": [
    "test_p[-1,:]"
   ]
  },
  {
   "cell_type": "code",
   "execution_count": 22,
   "id": "c55a7352-dff3-459e-87b9-cf89d12b0e27",
   "metadata": {},
   "outputs": [
    {
     "data": {
      "text/plain": [
       "tensor([1., 1., 1., 1., 1., 1., 1., 1., 1., 1., 1., 1., 1., 1., 1., 1., 1., 1.,\n",
       "        1., 0.])"
      ]
     },
     "execution_count": 22,
     "metadata": {},
     "output_type": "execute_result"
    }
   ],
   "source": [
    "test_p[0]"
   ]
  },
  {
   "cell_type": "code",
   "execution_count": 23,
   "id": "aad1c3a7-f555-4c5a-9f4a-b50fa511db43",
   "metadata": {},
   "outputs": [],
   "source": [
    "t2 = torch.matmul(test_p, test_p)"
   ]
  },
  {
   "cell_type": "code",
   "execution_count": 24,
   "id": "2b474658-0ae0-4ce4-a566-28ca2717e9f0",
   "metadata": {},
   "outputs": [
    {
     "data": {
      "text/plain": [
       "torch.Size([20, 20])"
      ]
     },
     "execution_count": 24,
     "metadata": {},
     "output_type": "execute_result"
    }
   ],
   "source": [
    "t2.shape"
   ]
  },
  {
   "cell_type": "code",
   "execution_count": 25,
   "id": "e7b3996f-51ba-44ee-ad1b-6654f227a570",
   "metadata": {},
   "outputs": [
    {
     "data": {
      "text/plain": [
       "tensor([0., 0., 0., 0., 0., 0., 0., 0., 0., 0., 0., 0., 0., 0., 0., 0., 0., 0., 0., 0.])"
      ]
     },
     "execution_count": 25,
     "metadata": {},
     "output_type": "execute_result"
    }
   ],
   "source": [
    "t2[-1,:] "
   ]
  },
  {
   "cell_type": "code",
   "execution_count": 26,
   "id": "2ee3c57f-9504-48d1-8ae5-8688dc25fc1d",
   "metadata": {},
   "outputs": [
    {
     "data": {
      "text/plain": [
       "tensor([0., 0., 0., 0., 0., 0., 0., 0., 0., 0., 0., 0., 0., 0., 0., 0., 0., 0., 0., 0.])"
      ]
     },
     "execution_count": 26,
     "metadata": {},
     "output_type": "execute_result"
    }
   ],
   "source": [
    "t2[:, -1]"
   ]
  },
  {
   "cell_type": "code",
   "execution_count": 27,
   "id": "5e8bdc8c-28e9-40ac-b004-c1686dc62fb7",
   "metadata": {},
   "outputs": [
    {
     "data": {
      "text/plain": [
       "tensor([19., 19., 19., 19., 19., 19., 19., 19., 19., 19., 19., 19., 19., 19.,\n",
       "        19., 19., 19., 19., 19.,  0.])"
      ]
     },
     "execution_count": 27,
     "metadata": {},
     "output_type": "execute_result"
    }
   ],
   "source": [
    "t2[0]"
   ]
  },
  {
   "cell_type": "code",
   "execution_count": 30,
   "id": "d5cb48f0-4843-4fb1-bffc-6cf662b46c8e",
   "metadata": {},
   "outputs": [],
   "source": [
    "t3 = torch.matmul(t2, test_p)"
   ]
  },
  {
   "cell_type": "code",
   "execution_count": 32,
   "id": "4a1ffc98-ebf7-46e0-8028-27aed4fad9f8",
   "metadata": {},
   "outputs": [],
   "source": [
    "# t3"
   ]
  },
  {
   "cell_type": "code",
   "execution_count": 39,
   "id": "ce128c8a-493e-4d6a-a148-0ea8525b5d8f",
   "metadata": {},
   "outputs": [],
   "source": [
    "test = torch.ones((20,20,20))"
   ]
  },
  {
   "cell_type": "code",
   "execution_count": 40,
   "id": "c632aae6-9b3b-4b20-9362-a6739e4f2784",
   "metadata": {},
   "outputs": [],
   "source": [
    "test = test.tril()"
   ]
  },
  {
   "cell_type": "code",
   "execution_count": 41,
   "id": "ff721e4c-02f0-437b-a2f6-b4608b8f7b16",
   "metadata": {},
   "outputs": [
    {
     "data": {
      "text/plain": [
       "tensor([[[1., 0., 0.,  ..., 0., 0., 0.],\n",
       "         [1., 1., 0.,  ..., 0., 0., 0.],\n",
       "         [1., 1., 1.,  ..., 0., 0., 0.],\n",
       "         ...,\n",
       "         [1., 1., 1.,  ..., 1., 0., 0.],\n",
       "         [1., 1., 1.,  ..., 1., 1., 0.],\n",
       "         [1., 1., 1.,  ..., 1., 1., 1.]],\n",
       "\n",
       "        [[1., 0., 0.,  ..., 0., 0., 0.],\n",
       "         [1., 1., 0.,  ..., 0., 0., 0.],\n",
       "         [1., 1., 1.,  ..., 0., 0., 0.],\n",
       "         ...,\n",
       "         [1., 1., 1.,  ..., 1., 0., 0.],\n",
       "         [1., 1., 1.,  ..., 1., 1., 0.],\n",
       "         [1., 1., 1.,  ..., 1., 1., 1.]],\n",
       "\n",
       "        [[1., 0., 0.,  ..., 0., 0., 0.],\n",
       "         [1., 1., 0.,  ..., 0., 0., 0.],\n",
       "         [1., 1., 1.,  ..., 0., 0., 0.],\n",
       "         ...,\n",
       "         [1., 1., 1.,  ..., 1., 0., 0.],\n",
       "         [1., 1., 1.,  ..., 1., 1., 0.],\n",
       "         [1., 1., 1.,  ..., 1., 1., 1.]],\n",
       "\n",
       "        ...,\n",
       "\n",
       "        [[1., 0., 0.,  ..., 0., 0., 0.],\n",
       "         [1., 1., 0.,  ..., 0., 0., 0.],\n",
       "         [1., 1., 1.,  ..., 0., 0., 0.],\n",
       "         ...,\n",
       "         [1., 1., 1.,  ..., 1., 0., 0.],\n",
       "         [1., 1., 1.,  ..., 1., 1., 0.],\n",
       "         [1., 1., 1.,  ..., 1., 1., 1.]],\n",
       "\n",
       "        [[1., 0., 0.,  ..., 0., 0., 0.],\n",
       "         [1., 1., 0.,  ..., 0., 0., 0.],\n",
       "         [1., 1., 1.,  ..., 0., 0., 0.],\n",
       "         ...,\n",
       "         [1., 1., 1.,  ..., 1., 0., 0.],\n",
       "         [1., 1., 1.,  ..., 1., 1., 0.],\n",
       "         [1., 1., 1.,  ..., 1., 1., 1.]],\n",
       "\n",
       "        [[1., 0., 0.,  ..., 0., 0., 0.],\n",
       "         [1., 1., 0.,  ..., 0., 0., 0.],\n",
       "         [1., 1., 1.,  ..., 0., 0., 0.],\n",
       "         ...,\n",
       "         [1., 1., 1.,  ..., 1., 0., 0.],\n",
       "         [1., 1., 1.,  ..., 1., 1., 0.],\n",
       "         [1., 1., 1.,  ..., 1., 1., 1.]]])"
      ]
     },
     "execution_count": 41,
     "metadata": {},
     "output_type": "execute_result"
    }
   ],
   "source": [
    "test.transpose()"
   ]
  },
  {
   "cell_type": "code",
   "execution_count": null,
   "id": "7f1e13ff-77c3-4c72-977d-2ecbaa825a78",
   "metadata": {},
   "outputs": [],
   "source": []
  },
  {
   "cell_type": "markdown",
   "id": "91efc342-87c6-4d28-b1b8-024cf81ba604",
   "metadata": {
    "jp-MarkdownHeadingCollapsed": true
   },
   "source": [
    "### testing for which Transition matrix type to be used "
   ]
  },
  {
   "cell_type": "code",
   "execution_count": 7,
   "id": "bc309f7d-0896-42f8-874d-641ae3fd1739",
   "metadata": {},
   "outputs": [],
   "source": [
    "def calculate_adjacency_matrix(confusion_matrix, k=3):\n",
    "    ## calculate adjacency_matrix from confusion matrix \n",
    "    np.fill_diagonal(confusion_matrix,0) ## removing the dependency of the class with itself  ## its is an inplace argument \n",
    "    sorted_indices = np.argsort(confusion_matrix) \n",
    "    indices_as_ranks = np.argsort(np.argsort(confusion_matrix)) \n",
    "    indices_which_are_topk_as_bool = (indices_as_ranks >= confusion_matrix.shape[1] - k) # shape[1] used as we need to find it along row \n",
    "    adjacency_matrix = confusion_matrix * indices_which_are_topk_as_bool\n",
    "    adjacency_matrix_as_one_hot = adjacency_matrix.copy()\n",
    "    adjacency_matrix_as_one_hot[adjacency_matrix_as_one_hot>0] = 1 \n",
    "    \n",
    "    return adjacency_matrix_as_one_hot"
   ]
  },
  {
   "cell_type": "code",
   "execution_count": 8,
   "id": "21b36a96-0449-4476-8752-7056b83542f7",
   "metadata": {},
   "outputs": [],
   "source": [
    "adj =calculate_adjacency_matrix(con, k=5)"
   ]
  },
  {
   "cell_type": "code",
   "execution_count": 9,
   "id": "ca8f77f2-f72f-48cf-a368-a14303821159",
   "metadata": {},
   "outputs": [
    {
     "data": {
      "text/plain": [
       "(19, 19)"
      ]
     },
     "execution_count": 9,
     "metadata": {},
     "output_type": "execute_result"
    }
   ],
   "source": [
    "adj.shape"
   ]
  },
  {
   "cell_type": "code",
   "execution_count": 10,
   "id": "bef329cd-6a78-4327-8482-1e4df47e5ae6",
   "metadata": {},
   "outputs": [
    {
     "data": {
      "text/plain": [
       "array([0., 1., 0., 0., 0., 0., 0., 0., 0., 1., 0., 1., 0., 1., 0., 0., 0.,\n",
       "       0., 1.])"
      ]
     },
     "execution_count": 10,
     "metadata": {},
     "output_type": "execute_result"
    }
   ],
   "source": [
    "adj[0]"
   ]
  },
  {
   "cell_type": "code",
   "execution_count": 14,
   "id": "682dc020-dab6-40b4-b3f0-2c87c2d23f1f",
   "metadata": {},
   "outputs": [],
   "source": [
    "adjacency_matrix_soft = (adj + adj.T) / 10"
   ]
  },
  {
   "cell_type": "code",
   "execution_count": 16,
   "id": "d9500bdd-3045-436a-b9cd-eb0a8756f197",
   "metadata": {},
   "outputs": [],
   "source": [
    "transition_rate = adjacency_matrix_soft - np.diagflat(np.sum(adjacency_matrix_soft, axis=1))"
   ]
  },
  {
   "cell_type": "code",
   "execution_count": 18,
   "id": "601925e2-b50b-4f3f-bc8e-d4e0a0c43198",
   "metadata": {},
   "outputs": [
    {
     "data": {
      "text/plain": [
       "array([-1.1, -1.3, -2.1, -0.7, -0.9, -1.4, -0.7, -0.7, -2.1, -0.8, -0.9,\n",
       "       -1.1, -0.8, -1.3, -0.5, -0.6, -0.5, -0.5, -1. ])"
      ]
     },
     "execution_count": 18,
     "metadata": {},
     "output_type": "execute_result"
    }
   ],
   "source": [
    "np.diag(transition_rate)"
   ]
  },
  {
   "cell_type": "code",
   "execution_count": 19,
   "id": "4663ce8e-18ea-4cb7-b6eb-ba5ef03e15c5",
   "metadata": {},
   "outputs": [
    {
     "data": {
      "text/plain": [
       "array([-8.32667268e-17, -1.94289029e-16, -2.77555756e-17,  2.77555756e-17,\n",
       "       -1.38777878e-16, -8.32667268e-17, -2.77555756e-17, -5.55111512e-17,\n",
       "       -2.49800181e-16,  0.00000000e+00,  2.77555756e-17, -2.77555756e-17,\n",
       "       -2.77555756e-17, -1.38777878e-16,  0.00000000e+00,  2.77555756e-17,\n",
       "        0.00000000e+00,  2.77555756e-17, -1.11022302e-16])"
      ]
     },
     "execution_count": 19,
     "metadata": {},
     "output_type": "execute_result"
    }
   ],
   "source": [
    "transition_rate.sum(0)"
   ]
  },
  {
   "cell_type": "code",
   "execution_count": 21,
   "id": "68c684dd-9fa3-42c2-8a04-c2cc587cc4eb",
   "metadata": {},
   "outputs": [
    {
     "data": {
      "text/plain": [
       "array([-8.32667268e-17,  0.00000000e+00, -1.38777878e-16,  0.00000000e+00,\n",
       "        0.00000000e+00,  1.11022302e-16, -5.55111512e-17, -5.55111512e-17,\n",
       "       -5.55111512e-17, -5.55111512e-17,  8.32667268e-17, -2.77555756e-17,\n",
       "       -2.77555756e-17,  8.32667268e-17,  5.55111512e-17,  8.32667268e-17,\n",
       "        0.00000000e+00,  2.77555756e-17,  0.00000000e+00])"
      ]
     },
     "execution_count": 21,
     "metadata": {},
     "output_type": "execute_result"
    }
   ],
   "source": [
    "transition_rate.sum(1)"
   ]
  },
  {
   "cell_type": "code",
   "execution_count": 50,
   "id": "2f9c24f6-c9ea-48e4-b590-c7b6aeec93ef",
   "metadata": {},
   "outputs": [],
   "source": [
    "betas = 2.5e1"
   ]
  },
  {
   "cell_type": "code",
   "execution_count": 51,
   "id": "4cff42a0-b9fb-44c6-8096-0b2f731ef678",
   "metadata": {},
   "outputs": [],
   "source": [
    "matrix = linalg.expm(\n",
    "                        np.array(betas * transition_rate, dtype=np.float64))"
   ]
  },
  {
   "cell_type": "code",
   "execution_count": 52,
   "id": "b99febd8-1752-43b9-acae-65bc735628ed",
   "metadata": {},
   "outputs": [],
   "source": [
    "# matrix.shape"
   ]
  },
  {
   "cell_type": "code",
   "execution_count": 53,
   "id": "25ad0e4a-71db-4045-81cf-7d1a7278de9e",
   "metadata": {},
   "outputs": [
    {
     "data": {
      "text/plain": [
       "array([0.05263213, 0.05263174, 0.05263146, 0.05263165, 0.05263137,\n",
       "       0.05263105, 0.05262969, 0.05263036, 0.05263136, 0.05263199,\n",
       "       0.05262998, 0.05263259, 0.05263293, 0.05263214, 0.05263243,\n",
       "       0.05263111, 0.0526297 , 0.05263354, 0.05263276])"
      ]
     },
     "execution_count": 53,
     "metadata": {},
     "output_type": "execute_result"
    }
   ],
   "source": [
    "matrix[0]"
   ]
  },
  {
   "cell_type": "code",
   "execution_count": 54,
   "id": "53cc964c-b7ca-4954-acb5-9adc1cc1fb25",
   "metadata": {},
   "outputs": [],
   "source": [
    "## next confusion matrix of results in darkzurich using cityscapes "
   ]
  },
  {
   "cell_type": "code",
   "execution_count": 55,
   "id": "0e949348-1c7c-42f7-8cfe-52fe1af64120",
   "metadata": {},
   "outputs": [
    {
     "data": {
      "text/plain": [
       "array([0.05263174, 0.05263489, 0.05263162, 0.05263964, 0.05263847,\n",
       "       0.05263582, 0.05263814, 0.05263793, 0.05263348, 0.05263725,\n",
       "       0.05263618, 0.0526242 , 0.05262041, 0.05262689, 0.05263254,\n",
       "       0.05263293, 0.0526318 , 0.05261364, 0.05262243])"
      ]
     },
     "execution_count": 55,
     "metadata": {},
     "output_type": "execute_result"
    }
   ],
   "source": [
    "matrix[1]"
   ]
  },
  {
   "cell_type": "markdown",
   "id": "9d73cb0b-90bc-4603-ad5d-b51b37e0231d",
   "metadata": {
    "jp-MarkdownHeadingCollapsed": true
   },
   "source": [
    "### checking betas for similarity matrix derived from protos"
   ]
  },
  {
   "cell_type": "code",
   "execution_count": 4,
   "id": "568337c0-e260-4f89-8236-a3fcfaf1cfeb",
   "metadata": {},
   "outputs": [],
   "source": [
    "model = torch.load('/home/sidd_s/scratch/saved_models/Protoseg/hrnet_w48_proto_lr1x_hrnet_proto_80k_latest.pth')\n",
    "protos = model['state_dict']['module.prototypes']"
   ]
  },
  {
   "cell_type": "code",
   "execution_count": 5,
   "id": "da6d88f7-c389-4fd4-8e13-669f04e9b87f",
   "metadata": {},
   "outputs": [],
   "source": [
    "def similarity_among_classes(protos):\n",
    "    cos = torch.nn.CosineSimilarity(dim=0)\n",
    "    similarity_matrix = []\n",
    "    for i in range(19):\n",
    "        per_row_similarity = [] \n",
    "        for j in range(19):\n",
    "            per_row_similarity.append(cos(protos[i][0], protos[j][0]))\n",
    "        similarity_matrix.append(per_row_similarity)\n",
    "    similarity_matrix_tensor = torch.FloatTensor(similarity_matrix)     \n",
    "\n",
    "    # sim_test = similarity_matrix_tensor.clone() \n",
    "    # sim_test.fill_diagonal_(-1e17) ## filling extremely low numbers at diagonals for removing them from similarity consideration\n",
    "    # probas_sim_test = F.softmax(sim_test, dim=1) ## applying softmax to convert into probability distribution \n",
    "\n",
    "    # return probas_sim_test, similarity_matrix_tensor\n",
    "    return similarity_matrix_tensor\n",
    "\n",
    "similarity_matrix_tensor = similarity_among_classes(protos)\n",
    "\n",
    "similarity_matrix = np.array(similarity_matrix_tensor)"
   ]
  },
  {
   "cell_type": "code",
   "execution_count": 6,
   "id": "e4f0b5fa-6431-4286-a076-3a38de43ea04",
   "metadata": {},
   "outputs": [],
   "source": [
    "ind_2_class_dict = {  \n",
    "    0: \"Road\",\n",
    "    1: \"Sidewalk\", \n",
    "    2: \"Building\",  \n",
    "    3: \"wall\",\n",
    "    4: \"fence\",  \n",
    "    5: \"Pole\", \n",
    "    6: \"Traffic light\",\n",
    "    7: \"Traffic sign\",\n",
    "    8: \"Vegetation\", \n",
    "    9: \"Terrain\",\n",
    "    10: \"Sky\",\n",
    "    11: \"Person\",\n",
    "    12: \"Rider\",\n",
    "    13: \"Car\",\n",
    "    14: \"Truck\",\n",
    "    15: \"Bus\",\n",
    "    16: \"Train\",\n",
    "    17: \"Motorcycle\",\n",
    "    18: \"Bicycle\"\n",
    "}\n",
    "\n",
    "def calculate_adjacency_matrix_knn(similarity_matrix, k): \n",
    "    adj = similarity_matrix.copy()\n",
    "    similar_classes = []\n",
    "    for row in range(adj.shape[0]):\n",
    "        row_sim_decrease_inds = np.argsort(adj[row])[::-1]\n",
    "        knn_indexs = row_sim_decrease_inds[:k] \n",
    "        adj[row][knn_indexs] = 1\n",
    "        adj[row][adj[row]!=1] = 0\n",
    "\n",
    "        similar_classes.append([ (('Current Class:' + ind_2_class_dict[row]) ,(knn_indexs[i], ind_2_class_dict[knn_indexs[i]])) for i in range(knn_indexs.shape[0])])\n",
    "    return adj, similar_classes\n"
   ]
  },
  {
   "cell_type": "code",
   "execution_count": 7,
   "id": "1a1e2758-cdf5-4ba5-a3d7-6a4062152f7e",
   "metadata": {},
   "outputs": [],
   "source": [
    "k = 5\n",
    "\n",
    "adj, similar_classes = calculate_adjacency_matrix_knn(similarity_matrix, k)\n",
    "\n",
    "adj_s = (adj + adj.T) / (2 * k) \n",
    "\n",
    "tr = adj_s - np.diag(np.sum(adj_s, axis=1))\n",
    "\n",
    "beta_min = 15\n",
    "\n",
    "matrix = scipy.linalg.expm(np.array(tr * beta_min, dtype=np.float64))"
   ]
  },
  {
   "cell_type": "code",
   "execution_count": 8,
   "id": "ebc0e1f4-3c7b-4f59-8f5b-faae70aeed8a",
   "metadata": {},
   "outputs": [
    {
     "data": {
      "text/plain": [
       "array([0.05206792, 0.05375777, 0.05466447, 0.05519611, 0.05630157,\n",
       "       0.05558731, 0.05821384, 0.0582283 , 0.05597781, 0.053944  ,\n",
       "       0.06125754, 0.04702434, 0.04555182, 0.04689879, 0.05023954,\n",
       "       0.05096637, 0.05389285, 0.04442411, 0.04580525])"
      ]
     },
     "execution_count": 8,
     "metadata": {},
     "output_type": "execute_result"
    }
   ],
   "source": [
    "matrix[10]"
   ]
  },
  {
   "cell_type": "code",
   "execution_count": 322,
   "id": "1999a729-b714-42d2-9d0d-c59b60ef14d0",
   "metadata": {},
   "outputs": [],
   "source": [
    "# tr.sum(1)"
   ]
  },
  {
   "cell_type": "code",
   "execution_count": 254,
   "id": "9591b112-f7ee-4361-b2b2-89026e115c6d",
   "metadata": {},
   "outputs": [],
   "source": [
    "# np.diag(tr)"
   ]
  },
  {
   "cell_type": "code",
   "execution_count": 9,
   "id": "5cecb57d-e97e-442d-a24a-96ef44161faf",
   "metadata": {},
   "outputs": [
    {
     "data": {
      "text/plain": [
       "[('Current Class:Sky', (10, 'Sky')),\n",
       " ('Current Class:Sky', (8, 'Vegetation')),\n",
       " ('Current Class:Sky', (2, 'Building')),\n",
       " ('Current Class:Sky', (7, 'Traffic sign')),\n",
       " ('Current Class:Sky', (5, 'Pole'))]"
      ]
     },
     "execution_count": 9,
     "metadata": {},
     "output_type": "execute_result"
    }
   ],
   "source": [
    "similar_classes[10]"
   ]
  },
  {
   "cell_type": "code",
   "execution_count": 10,
   "id": "53344e92-0e44-48d9-8fa4-4b187aebf1ca",
   "metadata": {},
   "outputs": [
    {
     "data": {
      "text/plain": [
       "array([ 0.        ,  0.        ,  0.1       ,  0.        ,  0.        ,\n",
       "        0.1       ,  0.        ,  0.1       ,  0.1       ,  0.        ,\n",
       "       -0.40000004,  0.        ,  0.        ,  0.        ,  0.        ,\n",
       "        0.        ,  0.        ,  0.        ,  0.        ], dtype=float32)"
      ]
     },
     "execution_count": 10,
     "metadata": {},
     "output_type": "execute_result"
    }
   ],
   "source": [
    "tr[10]"
   ]
  },
  {
   "cell_type": "code",
   "execution_count": 11,
   "id": "c7586e39-483d-4e1c-99c4-d778ebca5c70",
   "metadata": {},
   "outputs": [],
   "source": [
    "x = 0.05 \n",
    "y = 0.03\n",
    "tr[10][8] = 0.1 + 2 * x + y\n",
    "tr[10][2] = 0.1 + y \n",
    "tr[10][7] = 0.1 - y - x \n",
    "tr[10][5] = 0.1 - x - y "
   ]
  },
  {
   "cell_type": "code",
   "execution_count": 12,
   "id": "7448a6e8-3b2d-44fc-a3b6-533535a786bd",
   "metadata": {},
   "outputs": [
    {
     "data": {
      "text/plain": [
       "array([ 0.        ,  0.        ,  0.13      ,  0.        ,  0.        ,\n",
       "        0.02      ,  0.        ,  0.02      ,  0.23      ,  0.        ,\n",
       "       -0.40000004,  0.        ,  0.        ,  0.        ,  0.        ,\n",
       "        0.        ,  0.        ,  0.        ,  0.        ], dtype=float32)"
      ]
     },
     "execution_count": 12,
     "metadata": {},
     "output_type": "execute_result"
    }
   ],
   "source": [
    "tr[10]"
   ]
  },
  {
   "cell_type": "code",
   "execution_count": 13,
   "id": "7ee93a3c-b12b-44de-aef5-9d84b9613ff0",
   "metadata": {},
   "outputs": [],
   "source": [
    "beta_min = 15"
   ]
  },
  {
   "cell_type": "code",
   "execution_count": 14,
   "id": "aa0ba927-58ac-4928-839d-5181ce33401f",
   "metadata": {},
   "outputs": [],
   "source": [
    "matrix = scipy.linalg.expm(np.array(tr * beta_min, dtype=np.float64))"
   ]
  },
  {
   "cell_type": "code",
   "execution_count": 15,
   "id": "55759558-ae5f-4119-8700-d1a202695363",
   "metadata": {},
   "outputs": [
    {
     "data": {
      "text/plain": [
       "array([0.05461388, 0.05598873, 0.05515611, 0.05782134, 0.05854284,\n",
       "       0.05116666, 0.05435454, 0.05010336, 0.06121928, 0.0576171 ,\n",
       "       0.0588697 , 0.04568873, 0.04441637, 0.04735269, 0.05207343,\n",
       "       0.05230611, 0.05486069, 0.0435233 , 0.04432487])"
      ]
     },
     "execution_count": 15,
     "metadata": {},
     "output_type": "execute_result"
    }
   ],
   "source": [
    "matrix[10]"
   ]
  },
  {
   "cell_type": "code",
   "execution_count": 16,
   "id": "39a36950-36d5-4905-8aa5-55c697009a05",
   "metadata": {},
   "outputs": [
    {
     "data": {
      "text/plain": [
       "array([-0.09389959, -0.12291148,  0.00128791, -0.11124361, -0.09902826,\n",
       "       -0.07015408, -0.07521263, -0.04375174,  0.01210354, -0.12321121,\n",
       "        1.        , -0.10264361, -0.08833078, -0.08592686, -0.08899493,\n",
       "       -0.0894008 , -0.09961839, -0.09318795, -0.10486494], dtype=float32)"
      ]
     },
     "execution_count": 16,
     "metadata": {},
     "output_type": "execute_result"
    }
   ],
   "source": [
    "similarity_matrix[10]"
   ]
  },
  {
   "cell_type": "raw",
   "id": "6a38e5fc-00d2-4c82-95ed-20f097243b94",
   "metadata": {},
   "source": [
    "conclusion: To work on this later as well\n",
    "\n",
    "The key point is that, we may need to weigh the Transition rate matrix off diagonal elements to reaching the state where dia elements of base matrix be replaced by off diagonal ones. "
   ]
  },
  {
   "cell_type": "markdown",
   "id": "bf133675-8541-4d6c-8328-7fc18c9bdd3a",
   "metadata": {},
   "source": [
    "### similarity matrix based on miou"
   ]
  },
  {
   "cell_type": "code",
   "execution_count": 10,
   "id": "71e7f2f6-1cc4-4521-9032-c59550c619e6",
   "metadata": {},
   "outputs": [],
   "source": [
    "# pred image\n",
    "path = '/home/sidd_s/scratch/results/segformer/cityscapes/frankfurt_000000_000294_leftImg8bit.png'\n",
    "pred = np.array(Image.open(path))\n",
    "# pred.shape # (1024, 2048) \n",
    "# np.unique(pred) # array([ 0,  1,  2,  5,  6,  7,  8,  9, 10, 11, 13], dtype=uint8) "
   ]
  },
  {
   "cell_type": "code",
   "execution_count": 15,
   "id": "5920d661-e953-4431-8ba8-6279f355ef31",
   "metadata": {},
   "outputs": [],
   "source": [
    "gt_path = '/home/sidd_s/scratch/dataset/cityscapes/gtFine/val/frankfurt/frankfurt_000000_000294_gtFine_labelTrainIds.png'\n",
    "gt = np.array(Image.open(gt_path)) \n",
    "# gt.shape  # (1024, 2048)\n",
    "# np.unique(gt) # array([  0,   1,   2,   4,   5,   7,   8,  10,  11,  13, 255], dtype=uint8)"
   ]
  },
  {
   "cell_type": "code",
   "execution_count": null,
   "id": "747bac6d-5f28-4993-b6d4-47769204a08a",
   "metadata": {},
   "outputs": [],
   "source": []
  },
  {
   "cell_type": "code",
   "execution_count": null,
   "id": "b6034661-0477-43e2-8e86-a186ad4aa7e2",
   "metadata": {},
   "outputs": [],
   "source": []
  },
  {
   "cell_type": "code",
   "execution_count": null,
   "id": "7cc2df20-ffd6-4874-aa63-494c73fcc933",
   "metadata": {},
   "outputs": [],
   "source": []
  },
  {
   "cell_type": "code",
   "execution_count": null,
   "id": "38a5ef40-5260-4682-8990-086dfa9db033",
   "metadata": {},
   "outputs": [],
   "source": []
  },
  {
   "cell_type": "markdown",
   "id": "4fd5445f-52e6-43b1-8b34-411b2326e452",
   "metadata": {
    "jp-MarkdownHeadingCollapsed": true
   },
   "source": [
    "### Mutual information based noise schedule"
   ]
  },
  {
   "cell_type": "markdown",
   "id": "d903a2f2-132c-4ce7-b653-42551062f3e2",
   "metadata": {},
   "source": [
    "Have to follow the code from D3PM original codebase: \n",
    "\n",
    "There is a requirement of initial distribution: \n",
    "we have figured out to be: \n",
    "\n",
    "p(x0) = [ (#road pixels / 1024x2048), (#sidewalk pixels / 1024x2048)  ,...., (#background pixels / 1024x2048)]  \n",
    "here we can also consider background pixels since, there are also the part of GT...\n",
    "\n",
    "One of the question is: in Q_mat transition matrices how to include transition to/from (row/column) background? { init guess is by uniform probability in both row and column)"
   ]
  },
  {
   "cell_type": "code",
   "execution_count": 7,
   "id": "fb79993a-75fd-44bf-9664-af7d5ede5f9c",
   "metadata": {},
   "outputs": [],
   "source": [
    "## init cityscapes gt labels distribution\n",
    "cityscapes_gt_labels_init_distribution = np.load('cityscapes_gt_labels_init_distribution.npy',allow_pickle='TRUE').item()"
   ]
  },
  {
   "cell_type": "code",
   "execution_count": 8,
   "id": "b1caa31e-3ca2-4123-a25a-f2fc1a51e08c",
   "metadata": {},
   "outputs": [
    {
     "data": {
      "text/plain": [
       "{0: 0.326340837398497,\n",
       " 1: 0.053859626385344174,\n",
       " 2: 0.20191867267384248,\n",
       " 3: 0.0058039854354217275,\n",
       " 4: 0.007771590096609933,\n",
       " 5: 0.010862099463198365,\n",
       " 6: 0.001844829751663849,\n",
       " 7: 0.0048919963035262935,\n",
       " 8: 0.14084477047960298,\n",
       " 9: 0.010252431821422417,\n",
       " 10: 0.03549583755621389,\n",
       " 11: 0.010771288671413389,\n",
       " 12: 0.001193280580664883,\n",
       " 13: 0.061949212050237575,\n",
       " 14: 0.0023681590937766708,\n",
       " 15: 0.0020829861103987494,\n",
       " 16: 0.002061850283326221,\n",
       " 17: 0.00087287710494354,\n",
       " 18: 0.0036623760832457984,\n",
       " 19: 0.11515129265665006}"
      ]
     },
     "execution_count": 8,
     "metadata": {},
     "output_type": "execute_result"
    }
   ],
   "source": [
    "cityscapes_gt_labels_init_distribution"
   ]
  },
  {
   "cell_type": "code",
   "execution_count": 9,
   "id": "8ea71cfc-a799-487b-9a75-1a5e0af463d2",
   "metadata": {},
   "outputs": [
    {
     "data": {
      "text/plain": [
       "True"
      ]
     },
     "execution_count": 9,
     "metadata": {},
     "output_type": "execute_result"
    }
   ],
   "source": [
    "sum(cityscapes_gt_labels_init_distribution.values(), 0.0) == 1"
   ]
  },
  {
   "cell_type": "code",
   "execution_count": 17,
   "id": "c5f292c9-b76b-44d7-9b8f-a5cf06f5a3fa",
   "metadata": {},
   "outputs": [],
   "source": [
    "# cityscapes_gt_labels_init_distribution.keys() # class labels"
   ]
  },
  {
   "cell_type": "code",
   "execution_count": 16,
   "id": "571d86ef-6675-4664-9f49-2a09b715063a",
   "metadata": {},
   "outputs": [],
   "source": [
    "# cityscapes_gt_labels_init_distribution.values() ## probability values for each of the class labels"
   ]
  },
  {
   "cell_type": "code",
   "execution_count": 26,
   "id": "973afa63-5215-40ed-af43-fc92de8b8c7a",
   "metadata": {},
   "outputs": [],
   "source": [
    "# plt.bar(cityscapes_gt_labels_init_distribution.keys(), cityscapes_gt_labels_init_distribution.values(), color='b')"
   ]
  },
  {
   "cell_type": "code",
   "execution_count": 23,
   "id": "1a3699ad-869d-4fed-be61-9cc263d5af32",
   "metadata": {},
   "outputs": [],
   "source": [
    "# fig, ax = plt.subplots()\n",
    "# ax.plot(cityscapes_gt_labels_init_distribution.keys(), cityscapes_gt_labels_init_distribution.values(), 'k-')"
   ]
  },
  {
   "cell_type": "code",
   "execution_count": 42,
   "id": "363eb89a-285c-4328-9c1e-5ca73ede627b",
   "metadata": {},
   "outputs": [],
   "source": [
    "# ind_2_class_dict.keys()"
   ]
  },
  {
   "cell_type": "code",
   "execution_count": 44,
   "id": "7da225c8-25b3-4b8c-8b01-0c32845c904f",
   "metadata": {},
   "outputs": [
    {
     "data": {
      "text/plain": [
       "{'Road': 0,\n",
       " 'Sidewalk': 1,\n",
       " 'Building': 2,\n",
       " 'wall': 3,\n",
       " 'fence': 4,\n",
       " 'Pole': 5,\n",
       " 'Traffic light': 6,\n",
       " 'Traffic sign': 7,\n",
       " 'Vegetation': 8,\n",
       " 'Terrain': 9,\n",
       " 'Sky': 10,\n",
       " 'Person': 11,\n",
       " 'Rider': 12,\n",
       " 'Car': 13,\n",
       " 'Truck': 14,\n",
       " 'Bus': 15,\n",
       " 'Train': 16,\n",
       " 'Motorcycle': 17,\n",
       " 'Bicycle': 18,\n",
       " 'Background': 20}"
      ]
     },
     "execution_count": 44,
     "metadata": {},
     "output_type": "execute_result"
    }
   ],
   "source": [
    "class_2_ind = {v: k for k, v in ind_2_class_dict.items()}\n",
    "class_2_ind['Background'] = 20\n",
    "class_2_ind"
   ]
  },
  {
   "cell_type": "code",
   "execution_count": 60,
   "id": "b917e607-ea21-4c35-82eb-bb97948e4afe",
   "metadata": {},
   "outputs": [
    {
     "data": {
      "image/png": "[encoded data removed]",
      "text/plain": [
       "<Figure size 1000x500 with 1 Axes>"
      ]
     },
     "metadata": {},
     "output_type": "display_data"
    }
   ],
   "source": [
    "sns.set_context('talk')\n",
    "plt.figure(figsize=(10,5))\n",
    "\n",
    "keys = list(cityscapes_gt_labels_init_distribution.keys())\n",
    "keys_for_plot = list(class_2_ind.keys()) \n",
    "# get values in the same order as keys, and parse percentage values\n",
    "vals = [float(cityscapes_gt_labels_init_distribution[k]) for k in keys]\n",
    "# sns.barplot(x=keys, y=vals)\n",
    "sns.barplot(x=keys_for_plot, y=vals)\n",
    "\n",
    "plt.xlabel(\"Class label\")\n",
    "plt.ylabel(\"Probability mass function\")\n",
    "plt.xticks(rotation=\"vertical\")\n",
    "\n",
    "# plt.show() \n",
    "plt.savefig('cityscapes_labels_distribution.png', bbox_inches = 'tight')"
   ]
  },
  {
   "cell_type": "code",
   "execution_count": 61,
   "id": "606e1f9c-baf2-4ba2-8882-900a5ff98689",
   "metadata": {},
   "outputs": [],
   "source": [
    "## now need to check how the D3PM is going on with the code  \n",
    "\n",
    "mutual_info_min_exponent = 1e-4 \n",
    "mutual_info_max_exponent = 1e5\n",
    "mutual_info_interpolation_steps = 256 # as mentioned in the paper, later can try with 128 as well "
   ]
  },
  {
   "cell_type": "code",
   "execution_count": null,
   "id": "59a38f06-62ca-4e1d-9e9b-5f9a179c9e2d",
   "metadata": {},
   "outputs": [],
   "source": []
  },
  {
   "cell_type": "code",
   "execution_count": 65,
   "id": "8096e156-aaf4-4079-a1ec-2dfa315634f4",
   "metadata": {},
   "outputs": [],
   "source": [
    "query_exponents = np.geomspace(mutual_info_min_exponent,mutual_info_max_exponent,\n",
    "                                  mutual_info_interpolation_steps) \n",
    "# query_exponents"
   ]
  },
  {
   "cell_type": "code",
   "execution_count": 75,
   "id": "f38544fc-9490-4ebf-8f7f-b970f6702035",
   "metadata": {},
   "outputs": [
    {
     "data": {
      "text/plain": [
       "array([0.32634084, 0.05385963, 0.20191867, 0.00580399, 0.00777159,\n",
       "       0.0108621 , 0.00184483, 0.004892  , 0.14084477, 0.01025243,\n",
       "       0.03549584, 0.01077129, 0.00119328, 0.06194921, 0.00236816,\n",
       "       0.00208299, 0.00206185, 0.00087288, 0.00366238, 0.11515129])"
      ]
     },
     "execution_count": 75,
     "metadata": {},
     "output_type": "execute_result"
    }
   ],
   "source": [
    "init_distribution = np.array(list(cityscapes_gt_labels_init_distribution.values()))\n",
    "init_distribution"
   ]
  },
  {
   "cell_type": "code",
   "execution_count": 78,
   "id": "90cc6301-d214-4b72-b7b3-532c3daa46f6",
   "metadata": {},
   "outputs": [
    {
     "data": {
      "text/plain": [
       "array([-7.4505806e-08, -6.7055225e-08,  3.7252903e-08, -1.4901161e-08,\n",
       "        0.0000000e+00, -4.4703484e-08, -2.9802322e-08, -2.9802322e-08,\n",
       "        9.6857548e-08, -5.2154064e-08, -4.4703484e-08, -1.0430813e-07,\n",
       "        2.9802322e-08, -7.4505806e-09, -2.9802322e-08, -4.4703484e-08,\n",
       "        0.0000000e+00,  1.4901161e-08,  0.0000000e+00], dtype=float32)"
      ]
     },
     "execution_count": 78,
     "metadata": {},
     "output_type": "execute_result"
    }
   ],
   "source": [
    "tr.sum(1)"
   ]
  },
  {
   "cell_type": "code",
   "execution_count": null,
   "id": "9d5686dd-c31e-4a61-8903-4679a582603a",
   "metadata": {},
   "outputs": [],
   "source": [
    "def compute_information_removal_samples_closed_form(): \n",
    "    pass "
   ]
  },
  {
   "cell_type": "code",
   "execution_count": null,
   "id": "8d22eab4-5f6d-4fd4-b9df-1f3b66f28221",
   "metadata": {},
   "outputs": [],
   "source": []
  },
  {
   "cell_type": "code",
   "execution_count": null,
   "id": "78bad28c-8635-43b4-b7cf-d93e0895d2ec",
   "metadata": {},
   "outputs": [],
   "source": []
  },
  {
   "cell_type": "code",
   "execution_count": null,
   "id": "8ee4972d-23be-4af4-a325-7390cd096c4f",
   "metadata": {},
   "outputs": [],
   "source": []
  },
  {
   "cell_type": "code",
   "execution_count": null,
   "id": "240dc147-ac1f-4e10-9085-583c08a0d92c",
   "metadata": {},
   "outputs": [],
   "source": []
  }
 ],
 "metadata": {
  "kernelspec": {
   "display_name": "Python 3 (ipykernel)",
   "language": "python",
   "name": "python3"
  },
  "language_info": {
   "codemirror_mode": {
    "name": "ipython",
    "version": 3
   },
   "file_extension": ".py",
   "mimetype": "text/x-python",
   "name": "python",
   "nbconvert_exporter": "python",
   "pygments_lexer": "ipython3",
   "version": "3.9.12"
  }
 },
 "nbformat": 4,
 "nbformat_minor": 5
}
